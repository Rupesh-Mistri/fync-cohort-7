{
 "cells": [
  {
   "cell_type": "markdown",
   "id": "cef3a300-333a-4e80-86b3-154925417ae1",
   "metadata": {},
   "source": [
    "## Sets in Python\n"
   ]
  },
  {
   "cell_type": "code",
   "execution_count": 6,
   "id": "ed76a103-9b78-492a-be00-c10e46a976d2",
   "metadata": {},
   "outputs": [
    {
     "name": "stdout",
     "output_type": "stream",
     "text": [
      "{'Jain', 'Rajat', 'Fynd', 'Acadmey'}\n",
      "<class 'set'>\n"
     ]
    }
   ],
   "source": [
    "var1 = {\"Fynd\", \"Acadmey\", \"Rajat\", \"Jain\"}\n",
    "print(var1)\n",
    "print(type(var1))"
   ]
  },
  {
   "cell_type": "code",
   "execution_count": 20,
   "id": "edbb92f6-7564-4432-bc1b-83264f3ebf9a",
   "metadata": {},
   "outputs": [
    {
     "name": "stdout",
     "output_type": "stream",
     "text": [
      "{0, 1, 2, 3, 4, 5, 6, -1}\n",
      "<class 'set'>\n"
     ]
    }
   ],
   "source": [
    "var1 = {0,1,2,3,4,5,6,2,3,4,5,6, -1}\n",
    "print(var1)\n",
    "print(type(var1))"
   ]
  },
  {
   "cell_type": "code",
   "execution_count": 22,
   "id": "9c179229-77c4-46d6-9582-638900f0d18d",
   "metadata": {},
   "outputs": [
    {
     "name": "stdout",
     "output_type": "stream",
     "text": [
      "Lenght of set is:  7\n"
     ]
    }
   ],
   "source": [
    "var1 = {0,1,2,3,4,5,6 }\n",
    "print(\"Lenght of set is: \", len(var1))"
   ]
  },
  {
   "cell_type": "code",
   "execution_count": 26,
   "id": "61ef9061-8654-45bb-85aa-6c7a3a3b1b84",
   "metadata": {},
   "outputs": [
    {
     "name": "stdout",
     "output_type": "stream",
     "text": [
      "{False, 4.56, 101, 'hello', 'welcome'}\n"
     ]
    }
   ],
   "source": [
    "var2 = { 'welcome', 'hello' ,101, 4.56, False }\n",
    "print(var2)"
   ]
  },
  {
   "cell_type": "code",
   "execution_count": 28,
   "id": "61963881-84ea-4b10-ba6c-5c34199aa9da",
   "metadata": {},
   "outputs": [
    {
     "name": "stdout",
     "output_type": "stream",
     "text": [
      "False\n",
      "4.56\n",
      "101\n",
      "hello\n",
      "welcome\n"
     ]
    }
   ],
   "source": [
    "var2 = { 'welcome', 'hello' ,101, 4.56, False }\n",
    "for i in var2:\n",
    "    print(i)"
   ]
  },
  {
   "cell_type": "code",
   "execution_count": 36,
   "id": "f0633cb2-05f5-4726-8962-9aba8780b85b",
   "metadata": {},
   "outputs": [
    {
     "name": "stdout",
     "output_type": "stream",
     "text": [
      "[False, 4.56, 101, 'hello', 'welcome']\n"
     ]
    }
   ],
   "source": [
    "var2 = { 'welcome', 'hello' ,101, 4.56, False }\n",
    "list1 = list(var2)\n",
    "print(list1)"
   ]
  },
  {
   "cell_type": "code",
   "execution_count": 40,
   "id": "5f0103ae-3403-44b5-ba21-258d1607551a",
   "metadata": {},
   "outputs": [
    {
     "name": "stdout",
     "output_type": "stream",
     "text": [
      "{'world', 'once'}\n"
     ]
    }
   ],
   "source": [
    "var3 = {\"hello\", \"world\"}\n",
    "var3.add(\"once\")\n",
    "var3.remove(\"hello\")\n",
    "print(var3)"
   ]
  },
  {
   "cell_type": "code",
   "execution_count": 48,
   "id": "b36ff342-b3a8-4da7-a9e5-ae91c305cecb",
   "metadata": {},
   "outputs": [
    {
     "name": "stdout",
     "output_type": "stream",
     "text": [
      "{'Python', 'class', 34, 'is', 'This'}\n",
      "{'Python', 'class', 34}\n"
     ]
    }
   ],
   "source": [
    "set1 = {\"This\", \"is\", 34}\n",
    "set2 = {\"Python\", \"class\", 34}\n",
    "set1.update(set2)\n",
    "print(set1)\n",
    "print(set2)"
   ]
  },
  {
   "cell_type": "code",
   "execution_count": 50,
   "id": "d961bdde-473d-44dd-9485-93e987b070e9",
   "metadata": {},
   "outputs": [
    {
     "name": "stdout",
     "output_type": "stream",
     "text": [
      "{3, 4, 5, 6, 7}\n"
     ]
    }
   ],
   "source": [
    "list1 = [3,4,5,6,6,7,7]\n",
    "set1 = set(list1)\n",
    "print(set1)"
   ]
  },
  {
   "cell_type": "code",
   "execution_count": 52,
   "id": "26496937-b751-4905-a431-1b1f96d43dae",
   "metadata": {},
   "outputs": [
    {
     "name": "stdout",
     "output_type": "stream",
     "text": [
      "{2, 3, 4, 5, 6}\n"
     ]
    }
   ],
   "source": [
    "set1 = set(range(2,7))\n",
    "print(set1)"
   ]
  },
  {
   "cell_type": "code",
   "execution_count": 56,
   "id": "b2aeb0ee-32d1-4201-adb1-351fe8c93c87",
   "metadata": {},
   "outputs": [
    {
     "name": "stdout",
     "output_type": "stream",
     "text": [
      "{3, 4, 5, 6, 43}\n"
     ]
    }
   ],
   "source": [
    "set1 = set([3,4,5,6,5,43])\n",
    "print(set1)"
   ]
  },
  {
   "cell_type": "code",
   "execution_count": 58,
   "id": "53f3583c-8407-47ba-8efe-5ae61d3c7f53",
   "metadata": {},
   "outputs": [
    {
     "name": "stdout",
     "output_type": "stream",
     "text": [
      "True\n"
     ]
    }
   ],
   "source": [
    "s1 = { 'a', 'c'}\n",
    "s2 = { 'c', 'a'}\n",
    "print(s1 == s2)"
   ]
  },
  {
   "cell_type": "code",
   "execution_count": 70,
   "id": "79e1f18b-bf08-4a26-b917-f0531ecf3719",
   "metadata": {},
   "outputs": [
    {
     "name": "stdout",
     "output_type": "stream",
     "text": [
      "False\n"
     ]
    }
   ],
   "source": [
    "s1 = { 'a', 'c'}\n",
    "s2 = { 'd', 'a'}\n",
    "print(s1 == s2)"
   ]
  },
  {
   "cell_type": "code",
   "execution_count": 78,
   "id": "cfae3504-a220-4be7-9787-bb3887d65b57",
   "metadata": {},
   "outputs": [],
   "source": [
    "#### Union of 2 sets"
   ]
  },
  {
   "cell_type": "code",
   "execution_count": 74,
   "id": "05d4eedf-0ffa-4798-8b68-7d4552c78499",
   "metadata": {},
   "outputs": [
    {
     "name": "stdout",
     "output_type": "stream",
     "text": [
      "{'c', 'a', 'z', 'b'}\n",
      "{'c', 'a', 'z', 'b'}\n"
     ]
    }
   ],
   "source": [
    "s1 = { 'a', 'b', 'z'}\n",
    "s2 = { 'a', 'c'}\n",
    "s3 = s1.union(s2)\n",
    "print(s3)\n",
    "print(s1 | s2)"
   ]
  },
  {
   "cell_type": "code",
   "execution_count": 80,
   "id": "03186ce6-0066-45c9-9650-97ad78877e1f",
   "metadata": {},
   "outputs": [
    {
     "name": "stdout",
     "output_type": "stream",
     "text": [
      "Help on method_descriptor:\n",
      "\n",
      "union(...) unbound builtins.set method\n",
      "    Return the union of sets as a new set.\n",
      "\n",
      "    (i.e. all elements that are in either set.)\n",
      "\n"
     ]
    }
   ],
   "source": [
    "help(set.union)"
   ]
  },
  {
   "cell_type": "code",
   "execution_count": 82,
   "id": "f11e9bbf-0936-48be-82f8-36fefe2d7f75",
   "metadata": {},
   "outputs": [
    {
     "name": "stdout",
     "output_type": "stream",
     "text": [
      "Help on method_descriptor:\n",
      "\n",
      "update(...) unbound builtins.set method\n",
      "    Update a set with the union of itself and others.\n",
      "\n"
     ]
    }
   ],
   "source": [
    "help(set.update)"
   ]
  },
  {
   "cell_type": "markdown",
   "id": "9dd2027e-21bc-427a-9bee-82b71d115058",
   "metadata": {},
   "source": [
    "#### Intersection"
   ]
  },
  {
   "cell_type": "code",
   "execution_count": 91,
   "id": "5c47d5eb-4217-4a37-9ddd-a9a38919ab73",
   "metadata": {},
   "outputs": [
    {
     "name": "stdout",
     "output_type": "stream",
     "text": [
      "{'a'}\n",
      "{'a'}\n"
     ]
    }
   ],
   "source": [
    "s1 = { 'a', 'b', 'z'}\n",
    "s2 = { 'a', 'x', 'y'}\n",
    "s3 = s1.intersection(s2)\n",
    "print(s3)\n",
    "print(s1 & s2)"
   ]
  },
  {
   "cell_type": "markdown",
   "id": "18b60f36-f424-4cb6-89d7-564851fe1be6",
   "metadata": {},
   "source": [
    "#### difference in sets"
   ]
  },
  {
   "cell_type": "code",
   "execution_count": 93,
   "id": "eb970c45-b32b-4d5b-8fe8-872976582589",
   "metadata": {},
   "outputs": [
    {
     "name": "stdout",
     "output_type": "stream",
     "text": [
      "{'z', 'b'}\n",
      "{'z', 'b'}\n"
     ]
    }
   ],
   "source": [
    "s1 = { 'a', 'b', 'z'}\n",
    "s2 = { 'a', 'x', 'y'}\n",
    "s3 = s1.difference(s2)\n",
    "print(s3)\n",
    "print(s1 - s2)"
   ]
  },
  {
   "cell_type": "code",
   "execution_count": 95,
   "id": "dfaba7f0-3d79-4495-8001-407a1a351e61",
   "metadata": {},
   "outputs": [
    {
     "name": "stdout",
     "output_type": "stream",
     "text": [
      "{'y', 'x'}\n",
      "{'y', 'x'}\n"
     ]
    }
   ],
   "source": [
    "s1 = { 'a', 'b', 'z'}\n",
    "s2 = { 'a', 'x', 'y'}\n",
    "s3 = s2.difference(s1)\n",
    "print(s3)\n",
    "print(s2 - s1)"
   ]
  },
  {
   "cell_type": "markdown",
   "id": "c5f42eb8-02e3-412c-b030-09d03494571c",
   "metadata": {},
   "source": [
    "#### Symmetric difference"
   ]
  },
  {
   "cell_type": "code",
   "execution_count": 101,
   "id": "265d82d7-7caa-432f-ab25-3590cb74ee99",
   "metadata": {},
   "outputs": [
    {
     "name": "stdout",
     "output_type": "stream",
     "text": [
      "{'x', 'z', 'y', 'b'}\n",
      "{'x', 'z', 'y', 'b'}\n"
     ]
    }
   ],
   "source": [
    "s1 = { 'a', 'b', 'z'}\n",
    "s2 = { 'a', 'x', 'y'}\n",
    "s3 = s1.symmetric_difference(s2)\n",
    "print(s3)\n",
    "print(s1 ^ s2)"
   ]
  },
  {
   "cell_type": "markdown",
   "id": "50993f20-fba4-4fe6-8e6f-4edf5f61b2f3",
   "metadata": {},
   "source": [
    "## Dictionary in Python"
   ]
  },
  {
   "cell_type": "code",
   "execution_count": 131,
   "id": "124f8771-8a87-46d0-b993-e4f1a8e6fcb6",
   "metadata": {},
   "outputs": [
    {
     "name": "stdout",
     "output_type": "stream",
     "text": [
      "<class 'dict'>\n",
      "{'subject': 'Python', 'author': 'Rajat Jain', 'courseby': 'Fynd', 1: 555, 34: 'Hello'}\n"
     ]
    }
   ],
   "source": [
    "dict1 = {\n",
    "    'subject' : \"Python\",\n",
    "    'author' : 'Rajat Jain',\n",
    "    'courseby' : \"Fynd\",\n",
    "    1: 999,\n",
    "    34: 564,\n",
    "    True: 555,\n",
    "    34: \"Hello\" # override keys\n",
    "}\n",
    "\n",
    "print(type(dict1))\n",
    "print(dict1)"
   ]
  },
  {
   "cell_type": "code",
   "execution_count": 117,
   "id": "9b45b2d4-0a0a-4f34-bcda-f384f4214194",
   "metadata": {},
   "outputs": [
    {
     "name": "stdout",
     "output_type": "stream",
     "text": [
      "564\n"
     ]
    }
   ],
   "source": [
    "print(dict1[34])"
   ]
  },
  {
   "cell_type": "code",
   "execution_count": 133,
   "id": "fc995cbb-af70-4b17-b748-8e4593d3bee9",
   "metadata": {},
   "outputs": [
    {
     "name": "stdout",
     "output_type": "stream",
     "text": [
      "5\n"
     ]
    }
   ],
   "source": [
    "print(len(dict1))"
   ]
  },
  {
   "cell_type": "code",
   "execution_count": 159,
   "id": "49179fae-ebf6-4cb0-bc6d-69f5e18e364c",
   "metadata": {},
   "outputs": [],
   "source": [
    "dict1 = {\n",
    "    'a' : [1,2,3],\n",
    "    'b' : \"RJ\"\n",
    "}\n"
   ]
  },
  {
   "cell_type": "code",
   "execution_count": 139,
   "id": "fc3ba904-c805-41c7-a5ec-bbc8ac0244f4",
   "metadata": {
    "scrolled": true
   },
   "outputs": [
    {
     "data": {
      "text/plain": [
       "-9152870674379547526"
      ]
     },
     "execution_count": 139,
     "metadata": {},
     "output_type": "execute_result"
    }
   ],
   "source": [
    "hash(\"Rajat\")"
   ]
  },
  {
   "cell_type": "code",
   "execution_count": 181,
   "id": "8b699d7c-5fa2-49b5-8abc-f8d458007c90",
   "metadata": {},
   "outputs": [
    {
     "name": "stdout",
     "output_type": "stream",
     "text": [
      "Rajat Jain\n",
      "Rajat Jain\n",
      "None\n"
     ]
    }
   ],
   "source": [
    "dict1 = {\n",
    "    'subject' : \"Python\",\n",
    "    'author' : 'Rajat Jain',\n",
    "    'courseby' : \"Fynd\",\n",
    "}\n",
    "print(dict1['author'])\n",
    "print(dict1.get('author'))\n",
    "print(dict1.get('author1'))"
   ]
  },
  {
   "cell_type": "code",
   "execution_count": 183,
   "id": "7f942593-e409-4999-830b-f02c438fe73e",
   "metadata": {},
   "outputs": [
    {
     "name": "stdout",
     "output_type": "stream",
     "text": [
      "dict_keys(['subject', 'author', 'courseby'])\n"
     ]
    }
   ],
   "source": [
    "dict1 = {\n",
    "    'subject' : \"Python\",\n",
    "    'author' : 'Rajat Jain',\n",
    "    'courseby' : \"Fynd\",\n",
    "}\n",
    "print(dict1.keys())"
   ]
  },
  {
   "cell_type": "code",
   "execution_count": 185,
   "id": "cf2eb783-deae-4815-8a33-b0b3f99cda55",
   "metadata": {},
   "outputs": [
    {
     "name": "stdout",
     "output_type": "stream",
     "text": [
      "dict_values(['Python', 'Rajat Jain', 'Fynd'])\n"
     ]
    }
   ],
   "source": [
    "print(dict1.values())"
   ]
  },
  {
   "cell_type": "code",
   "execution_count": 187,
   "id": "0cf80633-fc64-4d47-b37d-35de92b7aa5d",
   "metadata": {},
   "outputs": [
    {
     "name": "stdout",
     "output_type": "stream",
     "text": [
      "dict_items([('subject', 'Python'), ('author', 'Rajat Jain'), ('courseby', 'Fynd')])\n"
     ]
    }
   ],
   "source": [
    "print(dict1.items())"
   ]
  },
  {
   "cell_type": "markdown",
   "id": "182a7ecc-1c95-4bf2-a9b4-b61098ccdbf0",
   "metadata": {},
   "source": [
    "#### Updating values in dict"
   ]
  },
  {
   "cell_type": "code",
   "execution_count": 202,
   "id": "6b3177a1-e1bb-45e7-8943-01ff2b214ea5",
   "metadata": {},
   "outputs": [
    {
     "name": "stdout",
     "output_type": "stream",
     "text": [
      "{'subject': 'Python', 'author': 'Rajat Jain', 'courseby': 'Fynd Academy', 'a': 'Hello world!'}\n"
     ]
    }
   ],
   "source": [
    "dict1 = {\n",
    "    'subject' : \"Python\",\n",
    "    'author' : 'Rajat Jain',\n",
    "    'courseby' : \"Fynd\",\n",
    "}\n",
    "\n",
    "# updating the existing key value in dict\n",
    "dict1['courseby'] = \"Fynd Academy\"\n",
    "# insert new value in dict\n",
    "dict1['a'] = \"Hello world!\"\n",
    "print(dict1)"
   ]
  },
  {
   "cell_type": "code",
   "execution_count": null,
   "id": "ce23bca0-fefe-4c55-bdac-bbed948dbfeb",
   "metadata": {},
   "outputs": [],
   "source": [
    "dict1 = {\n",
    "    'subject' : \"Python\",\n",
    "    'author' : 'Rajat Jain',\n",
    "    'courseby' : \"Fynd\",\n",
    "}\n",
    "\n",
    "dict2 = {\n",
    "    'courseby': \"Fynd Academy\",\n",
    "    'a' : 343\n",
    "} \n",
    "dict1.update(dict2)\n",
    "print(dict1)"
   ]
  },
  {
   "cell_type": "markdown",
   "id": "069d055a-e9e9-48d6-a377-daf893e5ec8e",
   "metadata": {},
   "source": [
    "#### Deleting elements in dict"
   ]
  },
  {
   "cell_type": "code",
   "execution_count": 215,
   "id": "bf7651ff-f652-444b-a3ca-4341e35ddcc9",
   "metadata": {},
   "outputs": [
    {
     "name": "stdout",
     "output_type": "stream",
     "text": [
      "{'author': 'Rajat Jain', 'courseby': 'Fynd'}\n"
     ]
    }
   ],
   "source": [
    "dict1 = {\n",
    "    'subject' : \"Python\",\n",
    "    'author' : 'Rajat Jain',\n",
    "    'courseby' : \"Fynd\",\n",
    "}\n",
    "del dict1['subject']\n",
    "print(dict1)"
   ]
  },
  {
   "cell_type": "code",
   "execution_count": 219,
   "id": "fc6fea46-5ad3-4805-96d1-0992c017b525",
   "metadata": {},
   "outputs": [
    {
     "name": "stdout",
     "output_type": "stream",
     "text": [
      "{'author': 'Rajat Jain', 'courseby': 'Fynd'}\n",
      "Deleted value is :  Python\n"
     ]
    }
   ],
   "source": [
    "dict1 = {\n",
    "    'subject' : \"Python\",\n",
    "    'author' : 'Rajat Jain',\n",
    "    'courseby' : \"Fynd\",\n",
    "}\n",
    "x = dict1.pop('subject') # it returns the value of deleted key\n",
    "print(dict1)\n",
    "print(\"Deleted value is : \", x)"
   ]
  },
  {
   "cell_type": "code",
   "execution_count": 223,
   "id": "4d1990a7-7d3d-4b98-a700-91061b0eed29",
   "metadata": {},
   "outputs": [
    {
     "name": "stdout",
     "output_type": "stream",
     "text": [
      "{}\n"
     ]
    }
   ],
   "source": [
    "dict1 = {\n",
    "    'subject' : \"Python\",\n",
    "    'author' : 'Rajat Jain',\n",
    "    'courseby' : \"Fynd\",\n",
    "}\n",
    "\n",
    "dict1.clear()\n",
    "print(dict1)"
   ]
  },
  {
   "cell_type": "code",
   "execution_count": 225,
   "id": "991f5880-f993-477b-a1f0-2193e9fcd79e",
   "metadata": {},
   "outputs": [
    {
     "name": "stdout",
     "output_type": "stream",
     "text": [
      "Help on class dict in module builtins:\n",
      "\n",
      "class dict(object)\n",
      " |  dict() -> new empty dictionary\n",
      " |  dict(mapping) -> new dictionary initialized from a mapping object's\n",
      " |      (key, value) pairs\n",
      " |  dict(iterable) -> new dictionary initialized as if via:\n",
      " |      d = {}\n",
      " |      for k, v in iterable:\n",
      " |          d[k] = v\n",
      " |  dict(**kwargs) -> new dictionary initialized with the name=value pairs\n",
      " |      in the keyword argument list.  For example:  dict(one=1, two=2)\n",
      " |\n",
      " |  Built-in subclasses:\n",
      " |      StgDict\n",
      " |\n",
      " |  Methods defined here:\n",
      " |\n",
      " |  __contains__(self, key, /)\n",
      " |      True if the dictionary has the specified key, else False.\n",
      " |\n",
      " |  __delitem__(self, key, /)\n",
      " |      Delete self[key].\n",
      " |\n",
      " |  __eq__(self, value, /)\n",
      " |      Return self==value.\n",
      " |\n",
      " |  __ge__(self, value, /)\n",
      " |      Return self>=value.\n",
      " |\n",
      " |  __getattribute__(self, name, /)\n",
      " |      Return getattr(self, name).\n",
      " |\n",
      " |  __getitem__(self, key, /)\n",
      " |      Return self[key].\n",
      " |\n",
      " |  __gt__(self, value, /)\n",
      " |      Return self>value.\n",
      " |\n",
      " |  __init__(self, /, *args, **kwargs)\n",
      " |      Initialize self.  See help(type(self)) for accurate signature.\n",
      " |\n",
      " |  __ior__(self, value, /)\n",
      " |      Return self|=value.\n",
      " |\n",
      " |  __iter__(self, /)\n",
      " |      Implement iter(self).\n",
      " |\n",
      " |  __le__(self, value, /)\n",
      " |      Return self<=value.\n",
      " |\n",
      " |  __len__(self, /)\n",
      " |      Return len(self).\n",
      " |\n",
      " |  __lt__(self, value, /)\n",
      " |      Return self<value.\n",
      " |\n",
      " |  __ne__(self, value, /)\n",
      " |      Return self!=value.\n",
      " |\n",
      " |  __or__(self, value, /)\n",
      " |      Return self|value.\n",
      " |\n",
      " |  __repr__(self, /)\n",
      " |      Return repr(self).\n",
      " |\n",
      " |  __reversed__(self, /)\n",
      " |      Return a reverse iterator over the dict keys.\n",
      " |\n",
      " |  __ror__(self, value, /)\n",
      " |      Return value|self.\n",
      " |\n",
      " |  __setitem__(self, key, value, /)\n",
      " |      Set self[key] to value.\n",
      " |\n",
      " |  __sizeof__(...)\n",
      " |      D.__sizeof__() -> size of D in memory, in bytes\n",
      " |\n",
      " |  clear(...)\n",
      " |      D.clear() -> None.  Remove all items from D.\n",
      " |\n",
      " |  copy(...)\n",
      " |      D.copy() -> a shallow copy of D\n",
      " |\n",
      " |  get(self, key, default=None, /)\n",
      " |      Return the value for key if key is in the dictionary, else default.\n",
      " |\n",
      " |  items(...)\n",
      " |      D.items() -> a set-like object providing a view on D's items\n",
      " |\n",
      " |  keys(...)\n",
      " |      D.keys() -> a set-like object providing a view on D's keys\n",
      " |\n",
      " |  pop(...)\n",
      " |      D.pop(k[,d]) -> v, remove specified key and return the corresponding value.\n",
      " |\n",
      " |      If the key is not found, return the default if given; otherwise,\n",
      " |      raise a KeyError.\n",
      " |\n",
      " |  popitem(self, /)\n",
      " |      Remove and return a (key, value) pair as a 2-tuple.\n",
      " |\n",
      " |      Pairs are returned in LIFO (last-in, first-out) order.\n",
      " |      Raises KeyError if the dict is empty.\n",
      " |\n",
      " |  setdefault(self, key, default=None, /)\n",
      " |      Insert key with a value of default if key is not in the dictionary.\n",
      " |\n",
      " |      Return the value for key if key is in the dictionary, else default.\n",
      " |\n",
      " |  update(...)\n",
      " |      D.update([E, ]**F) -> None.  Update D from dict/iterable E and F.\n",
      " |      If E is present and has a .keys() method, then does:  for k in E: D[k] = E[k]\n",
      " |      If E is present and lacks a .keys() method, then does:  for k, v in E: D[k] = v\n",
      " |      In either case, this is followed by: for k in F:  D[k] = F[k]\n",
      " |\n",
      " |  values(...)\n",
      " |      D.values() -> an object providing a view on D's values\n",
      " |\n",
      " |  ----------------------------------------------------------------------\n",
      " |  Class methods defined here:\n",
      " |\n",
      " |  __class_getitem__(...)\n",
      " |      See PEP 585\n",
      " |\n",
      " |  fromkeys(iterable, value=None, /)\n",
      " |      Create a new dictionary with keys from iterable and values set to value.\n",
      " |\n",
      " |  ----------------------------------------------------------------------\n",
      " |  Static methods defined here:\n",
      " |\n",
      " |  __new__(*args, **kwargs)\n",
      " |      Create and return a new object.  See help(type) for accurate signature.\n",
      " |\n",
      " |  ----------------------------------------------------------------------\n",
      " |  Data and other attributes defined here:\n",
      " |\n",
      " |  __hash__ = None\n",
      "\n"
     ]
    }
   ],
   "source": [
    "help(dict)"
   ]
  },
  {
   "cell_type": "code",
   "execution_count": null,
   "id": "f14f6e79-1ee8-45e5-bca4-ccc393c3d192",
   "metadata": {},
   "outputs": [],
   "source": []
  }
 ],
 "metadata": {
  "kernelspec": {
   "display_name": "Python 3 (ipykernel)",
   "language": "python",
   "name": "python3"
  },
  "language_info": {
   "codemirror_mode": {
    "name": "ipython",
    "version": 3
   },
   "file_extension": ".py",
   "mimetype": "text/x-python",
   "name": "python",
   "nbconvert_exporter": "python",
   "pygments_lexer": "ipython3",
   "version": "3.12.4"
  }
 },
 "nbformat": 4,
 "nbformat_minor": 5
}
