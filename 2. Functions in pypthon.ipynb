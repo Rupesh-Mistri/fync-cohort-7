{
 "cells": [
  {
   "cell_type": "markdown",
   "id": "69785501-a3e9-401a-87fb-f83e0b36ff95",
   "metadata": {},
   "source": [
    "### Practice"
   ]
  },
  {
   "cell_type": "markdown",
   "id": "2cddbae9-2f80-4c8e-8094-2531dfa3bd57",
   "metadata": {},
   "source": [
    "Question: Write a Python program to swap the values of two variables x and y without using a third variable.\n"
   ]
  },
  {
   "cell_type": "code",
   "execution_count": 1,
   "id": "27f359f9-97df-4dea-a43f-f87929329f5e",
   "metadata": {},
   "outputs": [
    {
     "name": "stdout",
     "output_type": "stream",
     "text": [
      "6 2\n"
     ]
    }
   ],
   "source": [
    "x = 2\n",
    "y = 6\n",
    "# x, y = y, x\n",
    "\n",
    "x = x + y\n",
    "y = x - y\n",
    "x = x - y\n",
    "\n",
    "print(x , y)"
   ]
  },
  {
   "cell_type": "markdown",
   "id": "cc43cc58-dfd0-4a76-9313-2eb9f4298cac",
   "metadata": {},
   "source": [
    "# Functions in python"
   ]
  },
  {
   "cell_type": "code",
   "execution_count": 34,
   "id": "1e1f2c54-db7e-4eaf-b83a-64c7985de08d",
   "metadata": {},
   "outputs": [
    {
     "name": "stdout",
     "output_type": "stream",
     "text": [
      "B\n",
      "Hello World!\n",
      "A\n",
      "Hello World!\n",
      "A\n"
     ]
    }
   ],
   "source": [
    "def functionName():\n",
    "    print(\"Hello World!\")\n",
    "    print(\"A\")\n",
    "    \n",
    "print(\"B\")\n",
    "\n",
    "functionName()\n",
    "functionName()\n"
   ]
  },
  {
   "cell_type": "code",
   "execution_count": 46,
   "id": "270bffd2-7bf9-4ed3-8946-ab3d9b5e556d",
   "metadata": {},
   "outputs": [
    {
     "name": "stdout",
     "output_type": "stream",
     "text": [
      "Hello World!\n",
      "A\n",
      "Value returned from functions: 3\n",
      "Hello World!\n",
      "A\n"
     ]
    },
    {
     "data": {
      "text/plain": [
       "3"
      ]
     },
     "execution_count": 46,
     "metadata": {},
     "output_type": "execute_result"
    }
   ],
   "source": [
    "# function returning a value\n",
    "def functionName2():\n",
    "    print(\"Hello World!\")\n",
    "    print(\"A\")\n",
    "    return 3\n",
    "\n",
    "x = functionName2()\n",
    "print(\"Value returned from functions:\",x)\n",
    "\n",
    "functionName2()\n"
   ]
  },
  {
   "cell_type": "code",
   "execution_count": 86,
   "id": "e63147cd-0019-4276-8ae0-f230d91e5884",
   "metadata": {},
   "outputs": [
    {
     "name": "stdout",
     "output_type": "stream",
     "text": [
      "8\n"
     ]
    }
   ],
   "source": [
    "# function for sum of 2 numbers\n",
    "a = 1\n",
    "b = 1\n",
    "\n",
    "def addition(var1, var2):\n",
    "    result = var1 + var2\n",
    "    return result\n",
    "\n",
    "x = addition(3, 5)\n",
    "print(x)\n",
    "\n",
    "# print(addition(3, 5))"
   ]
  },
  {
   "cell_type": "code",
   "execution_count": 84,
   "id": "1f23e492-5983-4637-bf5a-d7c135513c62",
   "metadata": {},
   "outputs": [
    {
     "name": "stdout",
     "output_type": "stream",
     "text": [
      "1 1\n",
      "8\n",
      "1000\n",
      "1 1\n"
     ]
    }
   ],
   "source": [
    "# how to use global variable in a function\n",
    "a = 1\n",
    "b = 1\n",
    "yy = 55\n",
    "def addition(a, b):\n",
    "    # global yy # not recommended\n",
    "    result = a + b\n",
    "    a= 3\n",
    "    yy = 1000\n",
    "    return result\n",
    "\n",
    "print(a, b)\n",
    "a = addition(3, 5)"
   ]
  },
  {
   "cell_type": "code",
   "execution_count": null,
   "id": "f299131e-5407-4777-b26a-bcaaf2d086b1",
   "metadata": {},
   "outputs": [],
   "source": []
  },
  {
   "cell_type": "code",
   "execution_count": 108,
   "id": "533948e3-34b5-4bfb-9c5e-e185d0e64945",
   "metadata": {},
   "outputs": [
    {
     "name": "stdout",
     "output_type": "stream",
     "text": [
      "Hello Rajat Jain!\n"
     ]
    }
   ],
   "source": [
    "def myFun(firstName):\n",
    "    return \"Hello \" + firstName + \"!\"\n",
    "    \n",
    "x = myFun(\"Rajat Jain\")\n",
    "print(x)"
   ]
  },
  {
   "cell_type": "code",
   "execution_count": 106,
   "id": "c1362c51-68d5-4735-b7cc-e0ff36ac7ecb",
   "metadata": {},
   "outputs": [
    {
     "name": "stdout",
     "output_type": "stream",
     "text": [
      "10\n"
     ]
    }
   ],
   "source": [
    "def myFun2():\n",
    "    return 3 + 5\n",
    "\n",
    "print(myFun2())"
   ]
  },
  {
   "cell_type": "markdown",
   "id": "b3e5d3aa-6a77-4dce-abe9-1e4b23265186",
   "metadata": {},
   "source": [
    "### Default Arguments"
   ]
  },
  {
   "cell_type": "code",
   "execution_count": 124,
   "id": "2a3f42b0-206b-4f1f-841c-4c4467098078",
   "metadata": {},
   "outputs": [
    {
     "name": "stdout",
     "output_type": "stream",
     "text": [
      "Hello Fynd Ac\n"
     ]
    }
   ],
   "source": [
    "def myFun3(firstName, lastName = \"Academy\"):\n",
    "    print(\"Hello \" + firstName + \" \" + lastName)\n",
    "\n",
    "myFun3(\"Fynd\", \"Ac\")"
   ]
  },
  {
   "cell_type": "code",
   "execution_count": 160,
   "id": "e680eee1-c8d2-4f85-b39a-c49719494a96",
   "metadata": {},
   "outputs": [
    {
     "name": "stdout",
     "output_type": "stream",
     "text": [
      "4\n"
     ]
    }
   ],
   "source": [
    "def incrementNumber(a, b = 1):\n",
    "    return a + b\n",
    "    \n",
    "x = incrementNumber(3)\n",
    "print(x)"
   ]
  },
  {
   "cell_type": "markdown",
   "id": "4e68f183-efd9-4d41-b290-6d93d23f7319",
   "metadata": {},
   "source": [
    "### Keyword Arguments"
   ]
  },
  {
   "cell_type": "code",
   "execution_count": 150,
   "id": "5cd39332-2149-4775-bbf6-4c8cd793c55b",
   "metadata": {},
   "outputs": [
    {
     "name": "stdout",
     "output_type": "stream",
     "text": [
      "Hello Rajat Academy\n"
     ]
    }
   ],
   "source": [
    "def myFun3(firstName, lastName = \"Academy\"):\n",
    "    print(\"Hello \" + firstName + \" \" + lastName)\n",
    "\n",
    "myFun3(lastName = \"Jain\", firstName = \"Rajat\")"
   ]
  },
  {
   "cell_type": "code",
   "execution_count": 156,
   "id": "75fad796-8a87-4c15-a057-2cccbdd09d84",
   "metadata": {},
   "outputs": [
    {
     "name": "stdout",
     "output_type": "stream",
     "text": [
      "6\n",
      "6\n",
      "6\n"
     ]
    }
   ],
   "source": [
    "def mySum(a, b, c):\n",
    "    return a + b + c\n",
    "\n",
    "print(mySum(1, 2, 3))\n",
    "print(mySum(1, c = 3, b = 2))\n",
    "print(mySum(a = 1, b = 2, c = 3))"
   ]
  },
  {
   "cell_type": "code",
   "execution_count": 162,
   "id": "74ca2439-e7ec-4381-aa35-dc18d30520b2",
   "metadata": {},
   "outputs": [
    {
     "name": "stdout",
     "output_type": "stream",
     "text": [
      "A b C D\n"
     ]
    }
   ],
   "source": [
    "print(\"A\", \"b\", \"C\", \"D\")"
   ]
  },
  {
   "cell_type": "markdown",
   "id": "cb60f6d0-2d5c-4eac-9bcd-819f185b2077",
   "metadata": {},
   "source": [
    "### Arbitrary Positional Argument"
   ]
  },
  {
   "cell_type": "code",
   "execution_count": 171,
   "id": "020defae-7df6-4189-8f6e-737409a13596",
   "metadata": {},
   "outputs": [
    {
     "name": "stdout",
     "output_type": "stream",
     "text": [
      "(1, 2, 3)\n",
      "6\n",
      "(1, 2)\n",
      "3\n",
      "(1,)\n",
      "1\n"
     ]
    }
   ],
   "source": [
    "def mySum2(*args):\n",
    "    print(args)\n",
    "    result = 0 \n",
    "    for i in args:\n",
    "        result += i\n",
    "    return result\n",
    "\n",
    "print(mySum2(1,2,3))\n",
    "print(mySum2(1,2))\n",
    "print(mySum2(1))"
   ]
  },
  {
   "cell_type": "code",
   "execution_count": 179,
   "id": "d528e6f4-cb64-4c7c-9c21-9b88f96b718d",
   "metadata": {},
   "outputs": [
    {
     "name": "stdout",
     "output_type": "stream",
     "text": [
      "VAR1 1\n",
      "VAR2 (2, 3, 4, 5)\n",
      "args 6\n"
     ]
    }
   ],
   "source": [
    "def mySum3(var1, *var2, args):\n",
    "    print(\"VAR1\", var1)\n",
    "    print(\"VAR2\", var2)\n",
    "    print(\"args\", args)\n",
    "\n",
    "mySum3(1,2,3,4,5,args = 6)"
   ]
  },
  {
   "cell_type": "code",
   "execution_count": null,
   "id": "e4af4882-d9d4-471e-9569-5b5b7adb3b36",
   "metadata": {},
   "outputs": [],
   "source": []
  }
 ],
 "metadata": {
  "kernelspec": {
   "display_name": "Python 3 (ipykernel)",
   "language": "python",
   "name": "python3"
  },
  "language_info": {
   "codemirror_mode": {
    "name": "ipython",
    "version": 3
   },
   "file_extension": ".py",
   "mimetype": "text/x-python",
   "name": "python",
   "nbconvert_exporter": "python",
   "pygments_lexer": "ipython3",
   "version": "3.12.4"
  }
 },
 "nbformat": 4,
 "nbformat_minor": 5
}
