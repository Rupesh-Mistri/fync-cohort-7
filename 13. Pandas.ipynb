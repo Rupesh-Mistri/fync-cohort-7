{
 "cells": [
  {
   "cell_type": "code",
   "execution_count": 14,
   "id": "c6da2b68-ce4d-4eb4-bbeb-375cd51490e0",
   "metadata": {},
   "outputs": [],
   "source": [
    "import pandas as pd\n",
    "import numpy as np"
   ]
  },
  {
   "cell_type": "code",
   "execution_count": 3,
   "id": "5c2b6aab-1e18-4c14-9dd0-ad4a93ca20a1",
   "metadata": {},
   "outputs": [
    {
     "name": "stdout",
     "output_type": "stream",
     "text": [
      "2.2.2\n"
     ]
    }
   ],
   "source": [
    "print(pd.__version__)"
   ]
  },
  {
   "cell_type": "code",
   "execution_count": 5,
   "id": "967200a1-6b41-4801-bd1a-90ade20dab37",
   "metadata": {},
   "outputs": [
    {
     "name": "stdout",
     "output_type": "stream",
     "text": [
      "   course mentor\n",
      "0  Python    ABC\n",
      "1     CPP    LMN\n",
      "2    Java    XYZ\n"
     ]
    }
   ],
   "source": [
    "data = {\n",
    "    'course' : [\"Python\", \"CPP\", \"Java\"],\n",
    "    'mentor' : [\"ABC\", \"LMN\", \"XYZ\"]\n",
    "}\n",
    "newDataFrame = pd.DataFrame(data)\n",
    "print(newDataFrame)"
   ]
  },
  {
   "cell_type": "markdown",
   "id": "663ccda8-e2d0-4e4d-9624-988a1e420e7c",
   "metadata": {},
   "source": [
    "# Series in Pandas"
   ]
  },
  {
   "cell_type": "code",
   "execution_count": 10,
   "id": "b3f8006c-6f09-43be-a9b9-a8f0eb4ecbaa",
   "metadata": {},
   "outputs": [
    {
     "name": "stdout",
     "output_type": "stream",
     "text": [
      "0    10\n",
      "1    20\n",
      "2    30\n",
      "3    40\n",
      "dtype: int64\n"
     ]
    }
   ],
   "source": [
    "s = pd.Series([10,20, 30, 40])\n",
    "print(s)"
   ]
  },
  {
   "cell_type": "code",
   "execution_count": 20,
   "id": "c9641fff-590f-4458-b37c-7e538669cf8d",
   "metadata": {},
   "outputs": [
    {
     "name": "stdout",
     "output_type": "stream",
     "text": [
      "0    10.0\n",
      "1    20.0\n",
      "2    30.0\n",
      "3    40.0\n",
      "4     NaN\n",
      "5    50.0\n",
      "6    60.0\n",
      "dtype: float64\n"
     ]
    }
   ],
   "source": [
    "s = pd.Series([10,20, 30, 40, np.nan, 50, 60])\n",
    "print(s)"
   ]
  },
  {
   "cell_type": "code",
   "execution_count": 24,
   "id": "af241b9f-13a2-4c68-9f5b-033870cf389b",
   "metadata": {},
   "outputs": [
    {
     "data": {
      "text/plain": [
       "20.0"
      ]
     },
     "execution_count": 24,
     "metadata": {},
     "output_type": "execute_result"
    }
   ],
   "source": [
    "# Reading data from series\n",
    "s[1]"
   ]
  },
  {
   "cell_type": "markdown",
   "id": "fbe50c85-ea69-4c9e-8e9e-8bbc563d98f1",
   "metadata": {},
   "source": [
    "**Using custom index**"
   ]
  },
  {
   "cell_type": "code",
   "execution_count": 34,
   "id": "5ec91324-6db6-421b-b307-8512eaad14aa",
   "metadata": {},
   "outputs": [
    {
     "name": "stdout",
     "output_type": "stream",
     "text": [
      "Python    Rajat\n",
      "CPP       Shyam\n",
      "Java        ABC\n",
      "dtype: object\n"
     ]
    }
   ],
   "source": [
    "mentor = [\"Rajat\", \"Shyam\", \"ABC\"]\n",
    "series = pd.Series(mentor, index = [\"Python\", \"CPP\", \"Java\"])\n",
    "print(series)"
   ]
  },
  {
   "cell_type": "markdown",
   "id": "f6341d1d-bd15-4241-809f-440935a34a7c",
   "metadata": {},
   "source": [
    "**Create a series from python dict**"
   ]
  },
  {
   "cell_type": "code",
   "execution_count": 41,
   "id": "aa13fd3b-21da-486e-9c08-e8f6e7156547",
   "metadata": {},
   "outputs": [
    {
     "name": "stdout",
     "output_type": "stream",
     "text": [
      "Python    Rajat\n",
      "CPP       Shyam\n",
      "Java        ABC\n",
      "dtype: object\n"
     ]
    }
   ],
   "source": [
    "courses = {\n",
    "    \"Python\": \"Rajat\",\n",
    "    \"CPP\" : \"Shyam\",\n",
    "    \"Java\" : \"ABC\"\n",
    "}\n",
    "series = pd.Series(courses)\n",
    "print(series)"
   ]
  },
  {
   "cell_type": "code",
   "execution_count": 47,
   "id": "422bd703-2f57-40ce-bd24-be43b156ac79",
   "metadata": {},
   "outputs": [
    {
     "name": "stdout",
     "output_type": "stream",
     "text": [
      "Python    Rajat\n",
      "CPP       Shyam\n",
      "dtype: object\n"
     ]
    }
   ],
   "source": [
    "courses = {\n",
    "    \"Python\": \"Rajat\",\n",
    "    \"CPP\" : \"Shyam\",\n",
    "    \"Java\" : \"ABC\"\n",
    "}\n",
    "series = pd.Series(courses, index = [\"Python\", \"CPP\"])\n",
    "print(series)"
   ]
  },
  {
   "cell_type": "markdown",
   "id": "68f98ce6-617c-4e91-8307-5cce45b86e28",
   "metadata": {},
   "source": [
    "**Create a series from nd array**"
   ]
  },
  {
   "cell_type": "code",
   "execution_count": 50,
   "id": "d07e40d4-f8a5-4e39-9f75-78a706c54f4a",
   "metadata": {},
   "outputs": [
    {
     "name": "stdout",
     "output_type": "stream",
     "text": [
      "0    10\n",
      "1    20\n",
      "2    30\n",
      "3    40\n",
      "dtype: int32\n"
     ]
    }
   ],
   "source": [
    "array = np.array([10,20,30,40])\n",
    "series = pd.Series(array)\n",
    "print(series)"
   ]
  },
  {
   "cell_type": "markdown",
   "id": "232af44b-c2a5-469a-b248-a042d421e16d",
   "metadata": {},
   "source": [
    "**Series from scaler value**"
   ]
  },
  {
   "cell_type": "code",
   "execution_count": 53,
   "id": "85b52522-73fa-4b3e-a965-d00ff894a81f",
   "metadata": {},
   "outputs": [
    {
     "name": "stdout",
     "output_type": "stream",
     "text": [
      "A    5\n",
      "B    5\n",
      "C    5\n",
      "dtype: int64\n"
     ]
    }
   ],
   "source": [
    "series = pd.Series(5, index = ['A', 'B', 'C'])\n",
    "print(series)"
   ]
  },
  {
   "cell_type": "markdown",
   "id": "da19717b-9ecc-4bb5-8d50-da5cb696463e",
   "metadata": {},
   "source": [
    "## Dataframe"
   ]
  },
  {
   "cell_type": "code",
   "execution_count": null,
   "id": "757641b5-ca96-44ae-b962-54ca1b4d8834",
   "metadata": {},
   "outputs": [],
   "source": [
    "data = {\n",
    "    'first_column': ['first_value', 'second_value' ...],\n",
    "    'second_column' : ['first_value', 'second_value' ...],\n",
    "    ....\n",
    "    ...\n",
    "}"
   ]
  },
  {
   "cell_type": "code",
   "execution_count": 58,
   "id": "9439a535-db13-46d7-a945-6b9b34a91104",
   "metadata": {},
   "outputs": [
    {
     "name": "stdout",
     "output_type": "stream",
     "text": [
      "  product_name  price\n",
      "0       laptop   1200\n",
      "1      printer    150\n",
      "2       tablet    300\n",
      "3         desk    450\n",
      "4        chair    200\n"
     ]
    }
   ],
   "source": [
    "data = {\n",
    "    'product_name': ['laptop', 'printer', 'tablet', 'desk', 'chair'],\n",
    "    'price': [1200, 150, 300, 450, 200]\n",
    "}\n",
    "\n",
    "df = pd.DataFrame(data)\n",
    "print(df)"
   ]
  },
  {
   "cell_type": "markdown",
   "id": "750413ad-75ae-432c-be86-1db4f855240d",
   "metadata": {},
   "source": [
    "**Using custom index in dataframe**"
   ]
  },
  {
   "cell_type": "code",
   "execution_count": 62,
   "id": "abf78736-e366-4c84-b398-cc4a3aaf3728",
   "metadata": {},
   "outputs": [
    {
     "name": "stdout",
     "output_type": "stream",
     "text": [
      "        product_name  price\n",
      "value_1       laptop   1200\n",
      "value_2      printer    150\n",
      "value_3       tablet    300\n",
      "value_4         desk    450\n",
      "value_5        chair    200\n"
     ]
    }
   ],
   "source": [
    "data = {\n",
    "    'product_name': ['laptop', 'printer', 'tablet', 'desk', 'chair'],\n",
    "    'price': [1200, 150, 300, 450, 200]\n",
    "}\n",
    "\n",
    "df = pd.DataFrame(data, index = ['value_1', 'value_2', 'value_3', 'value_4', 'value_5'])\n",
    "print(df)"
   ]
  },
  {
   "cell_type": "code",
   "execution_count": 64,
   "id": "78f9b47f-fb7f-4e30-b434-fe3a89bcc66d",
   "metadata": {},
   "outputs": [
    {
     "name": "stdout",
     "output_type": "stream",
     "text": [
      "        0\n",
      "0   Mango\n",
      "1   Apple\n",
      "2  Banana\n"
     ]
    }
   ],
   "source": [
    "arr = ['Mango', 'Apple', \"Banana\"]\n",
    "df = pd.DataFrame(arr)\n",
    "print(df)"
   ]
  },
  {
   "cell_type": "code",
   "execution_count": 68,
   "id": "979989dc-134c-4d8a-abfd-5146523942a6",
   "metadata": {},
   "outputs": [
    {
     "name": "stdout",
     "output_type": "stream",
     "text": [
      "       0      1       2\n",
      "0  Mango  Apple  Banana\n",
      "1    abc    mmm     xyz\n"
     ]
    }
   ],
   "source": [
    "arr = [['Mango', 'Apple', \"Banana\"], ['abc', 'mmm', 'xyz']]\n",
    "df = pd.DataFrame(arr)\n",
    "print(df)"
   ]
  },
  {
   "cell_type": "code",
   "execution_count": 70,
   "id": "53cf523d-2e33-427d-883a-837c43b4ddc2",
   "metadata": {},
   "outputs": [
    {
     "name": "stdout",
     "output_type": "stream",
     "text": [
      "    0\n",
      "0  10\n",
      "1  20\n",
      "2  30\n",
      "3  40\n"
     ]
    }
   ],
   "source": [
    "# from nd array\n",
    "arr = np.array([10, 20, 30, 40])\n",
    "df = pd.DataFrame(arr)\n",
    "print(df)"
   ]
  },
  {
   "cell_type": "code",
   "execution_count": 74,
   "id": "0e943561-63b2-46ef-af99-10dbfc7c4233",
   "metadata": {},
   "outputs": [
    {
     "name": "stdout",
     "output_type": "stream",
     "text": [
      "    0   1   2   3\n",
      "0  10  20  30  40\n",
      "1   1   2   3   4\n"
     ]
    }
   ],
   "source": [
    "# from nd array\n",
    "\n",
    "arr = np.array([[10, 20, 30, 40],[1,2,3,4]])\n",
    "df = pd.DataFrame(arr)\n",
    "print(df)"
   ]
  },
  {
   "cell_type": "code",
   "execution_count": 78,
   "id": "a0401273-9deb-4720-b05c-2c4752e0cd8e",
   "metadata": {},
   "outputs": [
    {
     "name": "stdout",
     "output_type": "stream",
     "text": [
      "0    10\n",
      "1    20\n",
      "2    30\n",
      "3    40\n",
      "dtype: int64\n"
     ]
    }
   ],
   "source": [
    "arr = [10, 20, 30, 40]\n",
    "series = pd.Series(arr)\n",
    "df = pd.DataFrame(series)\n",
    "print(series)"
   ]
  },
  {
   "cell_type": "code",
   "execution_count": 84,
   "id": "4bf6ce72-3b92-440c-a9f1-52f029ae6ef6",
   "metadata": {},
   "outputs": [
    {
     "name": "stdout",
     "output_type": "stream",
     "text": [
      "   course  fees mentor  rating\n",
      "0  Python  2000  Rajat     9.0\n",
      "1     CPP  2500  Shyam     NaN\n",
      "2    Java  2300    CAA     NaN\n"
     ]
    }
   ],
   "source": [
    "dataset = [\n",
    "    {'course': \"Python\", \"fees\": 2000, \"mentor\": \"Rajat\", 'rating': 9},\n",
    "    {'course': \"CPP\", \"fees\": 2500, \"mentor\": \"Shyam\"},\n",
    "    {'course': \"Java\", \"fees\": 2300, \"mentor\": 'CAA'}\n",
    "]\n",
    "df = pd.DataFrame(dataset)\n",
    "print(df)"
   ]
  },
  {
   "cell_type": "code",
   "execution_count": 141,
   "id": "b07a37a3-03d7-41cc-85cd-1e5bb1592b35",
   "metadata": {},
   "outputs": [
    {
     "name": "stdout",
     "output_type": "stream",
     "text": [
      "     A          B    C  D      E    F   G\n",
      "0  1.0 2013-01-02  1.0  3   test  foo  10\n",
      "1  1.0 2013-01-02  1.0  3  train  foo  20\n",
      "2  1.0 2013-01-02  1.0  3   test  foo  30\n",
      "3  1.0 2013-01-02  1.0  3  train  foo  40\n",
      "A          float64\n",
      "B    datetime64[s]\n",
      "C          float32\n",
      "D            int32\n",
      "E         category\n",
      "F           object\n",
      "G            int64\n",
      "dtype: object\n"
     ]
    }
   ],
   "source": [
    "dataset = {\n",
    "    \"A\": 1.0,\n",
    "    \"B\": pd.Timestamp(\"20130102\"),\n",
    "    \"C\": pd.Series(1, index=list(range(4)), dtype=\"float32\"),\n",
    "    \"D\": np.array([3] * 4, dtype=\"int32\"),\n",
    "    \"E\": pd.Categorical([\"test\", \"train\", 'test', 'train']),\n",
    "    \"F\": 'foo',\n",
    "    'G': [10,20,30,40]\n",
    "}\n",
    "df = pd.DataFrame(dataset)\n",
    "print(df)\n",
    "print(df.dtypes)"
   ]
  },
  {
   "cell_type": "code",
   "execution_count": 101,
   "id": "47df4fa7-aeb6-451f-a54c-13620c4398db",
   "metadata": {},
   "outputs": [
    {
     "name": "stdout",
     "output_type": "stream",
     "text": [
      "   course  fees\n",
      "0  Python  2000\n",
      "1     CPP  2500\n",
      "2    Java  2300\n"
     ]
    }
   ],
   "source": [
    "dataset = [\n",
    "    {'course': \"Python\", \"fees\": 2000, \"mentor\": \"Rajat\", 'rating': 9},\n",
    "    {'course': \"CPP\", \"fees\": 2500, \"mentor\": \"Shyam\"},\n",
    "    {'course': \"Java\", \"fees\": 2300, \"mentor\": 'CAA'}\n",
    "]\n",
    "df = pd.DataFrame(dataset)\n",
    "\n",
    "newDf = df[['course', 'fees']].copy()\n",
    "print(newDf)"
   ]
  },
  {
   "cell_type": "code",
   "execution_count": 109,
   "id": "3482d459-5072-4f79-9378-e7450e49d2f6",
   "metadata": {},
   "outputs": [
    {
     "name": "stdout",
     "output_type": "stream",
     "text": [
      "   course  fees mentor  rating\n",
      "0  Python  2000  Rajat     9.0\n",
      "1     CPP  2500  Shyam     NaN\n",
      "2    Java  2300    CAA     NaN\n",
      "***********************************\n",
      "0    Python\n",
      "1       CPP\n",
      "2      Java\n",
      "Name: course, dtype: object\n"
     ]
    }
   ],
   "source": [
    "dataset = [\n",
    "    {'course': \"Python\", \"fees\": 2000, \"mentor\": \"Rajat\", 'rating': 9},\n",
    "    {'course': \"CPP\", \"fees\": 2500, \"mentor\": \"Shyam\"},\n",
    "    {'course': \"Java\", \"fees\": 2300, \"mentor\": 'CAA'}\n",
    "]\n",
    "df = pd.DataFrame(dataset)\n",
    "print(df)\n",
    "print(\"***********************************\")\n",
    "print(df['course'])"
   ]
  },
  {
   "cell_type": "markdown",
   "id": "8c03354e-606d-4473-bad5-0d987359c41f",
   "metadata": {},
   "source": [
    "**new dataframe with 1 coloumn drop**"
   ]
  },
  {
   "cell_type": "code",
   "execution_count": 119,
   "id": "04550890-c80d-445b-8b41-86fdcc89bfc4",
   "metadata": {},
   "outputs": [
    {
     "name": "stdout",
     "output_type": "stream",
     "text": [
      "   course  fees mentor  rating\n",
      "0  Python  2000  Rajat     9.0\n",
      "1     CPP  2500  Shyam     NaN\n",
      "2    Java  2300    CAA     NaN\n",
      "*************************\n",
      "   course  fees mentor\n",
      "0  Python  2000  Rajat\n",
      "1     CPP  2500  Shyam\n",
      "2    Java  2300    CAA\n"
     ]
    }
   ],
   "source": [
    "dataset = [\n",
    "    {'course': \"Python\", \"fees\": 2000, \"mentor\": \"Rajat\", 'rating': 9},\n",
    "    {'course': \"CPP\", \"fees\": 2500, \"mentor\": \"Shyam\"},\n",
    "    {'course': \"Java\", \"fees\": 2300, \"mentor\": 'CAA'}\n",
    "]\n",
    "df = pd.DataFrame(dataset)\n",
    "print(df)\n",
    "print(\"*************************\")\n",
    "newdf = df.drop('rating', axis = 1)\n",
    "print(newdf)"
   ]
  },
  {
   "cell_type": "code",
   "execution_count": 125,
   "id": "746fa113-90f1-496e-8aad-da5ab2f1a605",
   "metadata": {},
   "outputs": [
    {
     "name": "stdout",
     "output_type": "stream",
     "text": [
      "   course  fees mentor  rating\n",
      "0  Python  2000  Rajat     9.0\n",
      "1     CPP  2500  Shyam     NaN\n",
      "2    Java  2300    CAA     NaN\n",
      "*************************\n",
      "   course  fees mentor\n",
      "0  Python  2000  Rajat\n",
      "1     CPP  2500  Shyam\n",
      "2    Java  2300    CAA\n"
     ]
    }
   ],
   "source": [
    "dataset = [\n",
    "    {'course': \"Python\", \"fees\": 2000, \"mentor\": \"Rajat\", 'rating': 9},\n",
    "    {'course': \"CPP\", \"fees\": 2500, \"mentor\": \"Shyam\"},\n",
    "    {'course': \"Java\", \"fees\": 2300, \"mentor\": 'CAA'}\n",
    "]\n",
    "df = pd.DataFrame(dataset)\n",
    "print(df)\n",
    "print(\"*************************\")\n",
    "df.drop('rating', axis = 1, inplace = True)\n",
    "print(df)"
   ]
  },
  {
   "cell_type": "code",
   "execution_count": 131,
   "id": "42fe521b-cc2d-4dfb-a392-a7b164772f27",
   "metadata": {},
   "outputs": [
    {
     "name": "stdout",
     "output_type": "stream",
     "text": [
      "   course  fees mentor  rating\n",
      "0  Python  2000  Rajat     9.0\n",
      "1     CPP  2500  Shyam     NaN\n",
      "2    Java  2300    CAA     NaN\n",
      "*************************\n",
      "   course  fees mentor  rating\n",
      "0  Python  2000  Rajat     9.0\n",
      "1     CPP  2500  Shyam     NaN\n"
     ]
    }
   ],
   "source": [
    "dataset = [\n",
    "    {'course': \"Python\", \"fees\": 2000, \"mentor\": \"Rajat\", 'rating': 9},\n",
    "    {'course': \"CPP\", \"fees\": 2500, \"mentor\": \"Shyam\"},\n",
    "    {'course': \"Java\", \"fees\": 2300, \"mentor\": 'CAA'}\n",
    "]\n",
    "df = pd.DataFrame(dataset)\n",
    "print(df)\n",
    "print(\"*************************\")\n",
    "df.drop(index = 2, inplace = True)\n",
    "print(df)"
   ]
  },
  {
   "cell_type": "code",
   "execution_count": 139,
   "id": "09ea3f90-3bdb-488e-9a81-990778a7244b",
   "metadata": {},
   "outputs": [
    {
     "name": "stdout",
     "output_type": "stream",
     "text": [
      "DatetimeIndex(['2013-01-01', '2013-01-02', '2013-01-03', '2013-01-04',\n",
      "               '2013-01-05', '2013-01-06'],\n",
      "              dtype='datetime64[ns]', freq='D')\n",
      "                   A         B         C         D\n",
      "2013-01-01  0.524564  0.097045  0.841726  0.672078\n",
      "2013-01-02  0.703043 -0.015897  0.111869 -0.679297\n",
      "2013-01-03 -0.878303 -0.095082  1.881875 -0.274086\n",
      "2013-01-04 -1.754194 -0.768674  0.715855  0.075581\n",
      "2013-01-05 -0.155475 -0.215556  0.848043  0.755051\n",
      "2013-01-06 -1.077531 -1.436659  1.235165  0.803159\n"
     ]
    }
   ],
   "source": [
    "result = pd.date_range(\"20130101\", periods = 6)\n",
    "print(result)\n",
    "df = pd.DataFrame(np.random.randn(6, 4), index = result, columns=['A', 'B', 'C', 'D'])\n",
    "print(df)"
   ]
  },
  {
   "cell_type": "code",
   "execution_count": 143,
   "id": "d6c2f784-dcba-44b7-ad37-abab4bce241b",
   "metadata": {},
   "outputs": [
    {
     "name": "stdout",
     "output_type": "stream",
     "text": [
      "1200\n"
     ]
    }
   ],
   "source": [
    "data = {\n",
    "    'product_name': ['laptop', 'printer', 'tablet', 'desk', 'chair'],\n",
    "    'price': [1200, 150, 300, 450, 200]\n",
    "}\n",
    "df = pd.DataFrame(data)\n",
    "max_price = df['price'].max()\n",
    "print(max_price)"
   ]
  },
  {
   "cell_type": "code",
   "execution_count": 151,
   "id": "d63d1303-83db-4c22-8901-0a7180bec18c",
   "metadata": {},
   "outputs": [
    {
     "name": "stdout",
     "output_type": "stream",
     "text": [
      "   teamA  teamB  teamC\n",
      "0     33     30     34\n",
      "1     38     38     35\n",
      "2     37     34     36\n"
     ]
    }
   ],
   "source": [
    "dataframe = pd.DataFrame({\n",
    "    'teamA': [15, 20, 19],\n",
    "    'teamB' : [12, 20, 16],\n",
    "    'teamC' : [16, 17, 18]\n",
    "})\n",
    "newdf = dataframe.add(18)\n",
    "print(newdf)"
   ]
  },
  {
   "cell_type": "code",
   "execution_count": 167,
   "id": "3e0e898b-2d49-4221-b25c-f552d9cf4ddf",
   "metadata": {},
   "outputs": [
    {
     "name": "stdout",
     "output_type": "stream",
     "text": [
      "   teamA  teamB  teamC\n",
      "0     15     12     16\n",
      "1     20     20     17\n",
      "2     19     16     18\n",
      "0    100    222    116\n",
      "1    120    120    117\n"
     ]
    }
   ],
   "source": [
    "dataframe1 = pd.DataFrame({\n",
    "    'teamA': [15, 20, 19],\n",
    "    'teamB' : [12, 20, 16],\n",
    "    'teamC' : [16, 17, 18]\n",
    "})\n",
    "dataframe2 = pd.DataFrame({\n",
    "    'teamA': [100, 120],\n",
    "    'teamB' : [222, 120],\n",
    "    'teamC' : [116, 117]\n",
    "})\n",
    "newdf = pd.concat([dataframe1, dataframe2])\n",
    "# newdf = dataframe1.append(dataframe2)\n",
    "print(newdf)\n"
   ]
  },
  {
   "cell_type": "code",
   "execution_count": null,
   "id": "b48d8570-d3cf-4509-af19-54595aa5be94",
   "metadata": {},
   "outputs": [],
   "source": []
  }
 ],
 "metadata": {
  "kernelspec": {
   "display_name": "Python 3 (ipykernel)",
   "language": "python",
   "name": "python3"
  },
  "language_info": {
   "codemirror_mode": {
    "name": "ipython",
    "version": 3
   },
   "file_extension": ".py",
   "mimetype": "text/x-python",
   "name": "python",
   "nbconvert_exporter": "python",
   "pygments_lexer": "ipython3",
   "version": "3.12.4"
  }
 },
 "nbformat": 4,
 "nbformat_minor": 5
}
