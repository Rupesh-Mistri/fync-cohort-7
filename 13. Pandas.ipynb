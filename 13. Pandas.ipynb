{
 "cells": [
  {
   "cell_type": "code",
   "execution_count": 14,
   "id": "c6da2b68-ce4d-4eb4-bbeb-375cd51490e0",
   "metadata": {},
   "outputs": [],
   "source": [
    "import pandas as pd\n",
    "import numpy as np"
   ]
  },
  {
   "cell_type": "code",
   "execution_count": 3,
   "id": "5c2b6aab-1e18-4c14-9dd0-ad4a93ca20a1",
   "metadata": {},
   "outputs": [
    {
     "name": "stdout",
     "output_type": "stream",
     "text": [
      "2.2.2\n"
     ]
    }
   ],
   "source": [
    "print(pd.__version__)"
   ]
  },
  {
   "cell_type": "code",
   "execution_count": 5,
   "id": "967200a1-6b41-4801-bd1a-90ade20dab37",
   "metadata": {},
   "outputs": [
    {
     "name": "stdout",
     "output_type": "stream",
     "text": [
      "   course mentor\n",
      "0  Python    ABC\n",
      "1     CPP    LMN\n",
      "2    Java    XYZ\n"
     ]
    }
   ],
   "source": [
    "data = {\n",
    "    'course' : [\"Python\", \"CPP\", \"Java\"],\n",
    "    'mentor' : [\"ABC\", \"LMN\", \"XYZ\"]\n",
    "}\n",
    "newDataFrame = pd.DataFrame(data)\n",
    "print(newDataFrame)"
   ]
  },
  {
   "cell_type": "markdown",
   "id": "663ccda8-e2d0-4e4d-9624-988a1e420e7c",
   "metadata": {},
   "source": [
    "# Series in Pandas"
   ]
  },
  {
   "cell_type": "code",
   "execution_count": 10,
   "id": "b3f8006c-6f09-43be-a9b9-a8f0eb4ecbaa",
   "metadata": {},
   "outputs": [
    {
     "name": "stdout",
     "output_type": "stream",
     "text": [
      "0    10\n",
      "1    20\n",
      "2    30\n",
      "3    40\n",
      "dtype: int64\n"
     ]
    }
   ],
   "source": [
    "s = pd.Series([10,20, 30, 40])\n",
    "print(s)"
   ]
  },
  {
   "cell_type": "code",
   "execution_count": 20,
   "id": "c9641fff-590f-4458-b37c-7e538669cf8d",
   "metadata": {},
   "outputs": [
    {
     "name": "stdout",
     "output_type": "stream",
     "text": [
      "0    10.0\n",
      "1    20.0\n",
      "2    30.0\n",
      "3    40.0\n",
      "4     NaN\n",
      "5    50.0\n",
      "6    60.0\n",
      "dtype: float64\n"
     ]
    }
   ],
   "source": [
    "s = pd.Series([10,20, 30, 40, np.nan, 50, 60])\n",
    "print(s)"
   ]
  },
  {
   "cell_type": "code",
   "execution_count": 24,
   "id": "af241b9f-13a2-4c68-9f5b-033870cf389b",
   "metadata": {},
   "outputs": [
    {
     "data": {
      "text/plain": [
       "20.0"
      ]
     },
     "execution_count": 24,
     "metadata": {},
     "output_type": "execute_result"
    }
   ],
   "source": [
    "# Reading data from series\n",
    "s[1]"
   ]
  },
  {
   "cell_type": "markdown",
   "id": "fbe50c85-ea69-4c9e-8e9e-8bbc563d98f1",
   "metadata": {},
   "source": [
    "**Using custom index**"
   ]
  },
  {
   "cell_type": "code",
   "execution_count": 34,
   "id": "5ec91324-6db6-421b-b307-8512eaad14aa",
   "metadata": {},
   "outputs": [
    {
     "name": "stdout",
     "output_type": "stream",
     "text": [
      "Python    Rajat\n",
      "CPP       Shyam\n",
      "Java        ABC\n",
      "dtype: object\n"
     ]
    }
   ],
   "source": [
    "mentor = [\"Rajat\", \"Shyam\", \"ABC\"]\n",
    "series = pd.Series(mentor, index = [\"Python\", \"CPP\", \"Java\"])\n",
    "print(series)"
   ]
  },
  {
   "cell_type": "markdown",
   "id": "f6341d1d-bd15-4241-809f-440935a34a7c",
   "metadata": {},
   "source": [
    "**Create a series from python dict**"
   ]
  },
  {
   "cell_type": "code",
   "execution_count": 41,
   "id": "aa13fd3b-21da-486e-9c08-e8f6e7156547",
   "metadata": {},
   "outputs": [
    {
     "name": "stdout",
     "output_type": "stream",
     "text": [
      "Python    Rajat\n",
      "CPP       Shyam\n",
      "Java        ABC\n",
      "dtype: object\n"
     ]
    }
   ],
   "source": [
    "courses = {\n",
    "    \"Python\": \"Rajat\",\n",
    "    \"CPP\" : \"Shyam\",\n",
    "    \"Java\" : \"ABC\"\n",
    "}\n",
    "series = pd.Series(courses)\n",
    "print(series)"
   ]
  },
  {
   "cell_type": "code",
   "execution_count": 47,
   "id": "422bd703-2f57-40ce-bd24-be43b156ac79",
   "metadata": {},
   "outputs": [
    {
     "name": "stdout",
     "output_type": "stream",
     "text": [
      "Python    Rajat\n",
      "CPP       Shyam\n",
      "dtype: object\n"
     ]
    }
   ],
   "source": [
    "courses = {\n",
    "    \"Python\": \"Rajat\",\n",
    "    \"CPP\" : \"Shyam\",\n",
    "    \"Java\" : \"ABC\"\n",
    "}\n",
    "series = pd.Series(courses, index = [\"Python\", \"CPP\"])\n",
    "print(series)"
   ]
  },
  {
   "cell_type": "markdown",
   "id": "68f98ce6-617c-4e91-8307-5cce45b86e28",
   "metadata": {},
   "source": [
    "**Create a series from nd array**"
   ]
  },
  {
   "cell_type": "code",
   "execution_count": 50,
   "id": "d07e40d4-f8a5-4e39-9f75-78a706c54f4a",
   "metadata": {},
   "outputs": [
    {
     "name": "stdout",
     "output_type": "stream",
     "text": [
      "0    10\n",
      "1    20\n",
      "2    30\n",
      "3    40\n",
      "dtype: int32\n"
     ]
    }
   ],
   "source": [
    "array = np.array([10,20,30,40])\n",
    "series = pd.Series(array)\n",
    "print(series)"
   ]
  },
  {
   "cell_type": "markdown",
   "id": "232af44b-c2a5-469a-b248-a042d421e16d",
   "metadata": {},
   "source": [
    "**Series from scaler value**"
   ]
  },
  {
   "cell_type": "code",
   "execution_count": 171,
   "id": "85b52522-73fa-4b3e-a965-d00ff894a81f",
   "metadata": {},
   "outputs": [
    {
     "name": "stdout",
     "output_type": "stream",
     "text": [
      "A    5\n",
      "B    5\n",
      "C    5\n",
      "dtype: int64\n"
     ]
    }
   ],
   "source": [
    "series = pd.Series(5, index = ['A', 'B', 'C'])\n",
    "print(series)"
   ]
  },
  {
   "cell_type": "markdown",
   "id": "da19717b-9ecc-4bb5-8d50-da5cb696463e",
   "metadata": {},
   "source": [
    "## Dataframe"
   ]
  },
  {
   "cell_type": "code",
   "execution_count": null,
   "id": "757641b5-ca96-44ae-b962-54ca1b4d8834",
   "metadata": {},
   "outputs": [],
   "source": [
    "data = {\n",
    "    'first_column': ['first_value', 'second_value' ...],\n",
    "    'second_column' : ['first_value', 'second_value' ...],\n",
    "    ....\n",
    "    ...\n",
    "}"
   ]
  },
  {
   "cell_type": "code",
   "execution_count": 58,
   "id": "9439a535-db13-46d7-a945-6b9b34a91104",
   "metadata": {},
   "outputs": [
    {
     "name": "stdout",
     "output_type": "stream",
     "text": [
      "  product_name  price\n",
      "0       laptop   1200\n",
      "1      printer    150\n",
      "2       tablet    300\n",
      "3         desk    450\n",
      "4        chair    200\n"
     ]
    }
   ],
   "source": [
    "data = {\n",
    "    'product_name': ['laptop', 'printer', 'tablet', 'desk', 'chair'],\n",
    "    'price': [1200, 150, 300, 450, 200]\n",
    "}\n",
    "\n",
    "df = pd.DataFrame(data)\n",
    "print(df)"
   ]
  },
  {
   "cell_type": "markdown",
   "id": "750413ad-75ae-432c-be86-1db4f855240d",
   "metadata": {},
   "source": [
    "**Using custom index in dataframe**"
   ]
  },
  {
   "cell_type": "code",
   "execution_count": 62,
   "id": "abf78736-e366-4c84-b398-cc4a3aaf3728",
   "metadata": {},
   "outputs": [
    {
     "name": "stdout",
     "output_type": "stream",
     "text": [
      "        product_name  price\n",
      "value_1       laptop   1200\n",
      "value_2      printer    150\n",
      "value_3       tablet    300\n",
      "value_4         desk    450\n",
      "value_5        chair    200\n"
     ]
    }
   ],
   "source": [
    "data = {\n",
    "    'product_name': ['laptop', 'printer', 'tablet', 'desk', 'chair'],\n",
    "    'price': [1200, 150, 300, 450, 200]\n",
    "}\n",
    "\n",
    "df = pd.DataFrame(data, index = ['value_1', 'value_2', 'value_3', 'value_4', 'value_5'])\n",
    "print(df)"
   ]
  },
  {
   "cell_type": "code",
   "execution_count": 64,
   "id": "78f9b47f-fb7f-4e30-b434-fe3a89bcc66d",
   "metadata": {},
   "outputs": [
    {
     "name": "stdout",
     "output_type": "stream",
     "text": [
      "        0\n",
      "0   Mango\n",
      "1   Apple\n",
      "2  Banana\n"
     ]
    }
   ],
   "source": [
    "arr = ['Mango', 'Apple', \"Banana\"]\n",
    "df = pd.DataFrame(arr)\n",
    "print(df)"
   ]
  },
  {
   "cell_type": "code",
   "execution_count": 68,
   "id": "979989dc-134c-4d8a-abfd-5146523942a6",
   "metadata": {},
   "outputs": [
    {
     "name": "stdout",
     "output_type": "stream",
     "text": [
      "       0      1       2\n",
      "0  Mango  Apple  Banana\n",
      "1    abc    mmm     xyz\n"
     ]
    }
   ],
   "source": [
    "arr = [['Mango', 'Apple', \"Banana\"], ['abc', 'mmm', 'xyz']]\n",
    "df = pd.DataFrame(arr)\n",
    "print(df)"
   ]
  },
  {
   "cell_type": "code",
   "execution_count": 70,
   "id": "53cf523d-2e33-427d-883a-837c43b4ddc2",
   "metadata": {},
   "outputs": [
    {
     "name": "stdout",
     "output_type": "stream",
     "text": [
      "    0\n",
      "0  10\n",
      "1  20\n",
      "2  30\n",
      "3  40\n"
     ]
    }
   ],
   "source": [
    "# from nd array\n",
    "arr = np.array([10, 20, 30, 40])\n",
    "df = pd.DataFrame(arr)\n",
    "print(df)"
   ]
  },
  {
   "cell_type": "code",
   "execution_count": 74,
   "id": "0e943561-63b2-46ef-af99-10dbfc7c4233",
   "metadata": {},
   "outputs": [
    {
     "name": "stdout",
     "output_type": "stream",
     "text": [
      "    0   1   2   3\n",
      "0  10  20  30  40\n",
      "1   1   2   3   4\n"
     ]
    }
   ],
   "source": [
    "# from nd array\n",
    "\n",
    "arr = np.array([[10, 20, 30, 40],[1,2,3,4]])\n",
    "df = pd.DataFrame(arr)\n",
    "print(df)"
   ]
  },
  {
   "cell_type": "code",
   "execution_count": 78,
   "id": "a0401273-9deb-4720-b05c-2c4752e0cd8e",
   "metadata": {},
   "outputs": [
    {
     "name": "stdout",
     "output_type": "stream",
     "text": [
      "0    10\n",
      "1    20\n",
      "2    30\n",
      "3    40\n",
      "dtype: int64\n"
     ]
    }
   ],
   "source": [
    "arr = [10, 20, 30, 40]\n",
    "series = pd.Series(arr)\n",
    "df = pd.DataFrame(series)\n",
    "print(series)"
   ]
  },
  {
   "cell_type": "code",
   "execution_count": 84,
   "id": "4bf6ce72-3b92-440c-a9f1-52f029ae6ef6",
   "metadata": {},
   "outputs": [
    {
     "name": "stdout",
     "output_type": "stream",
     "text": [
      "   course  fees mentor  rating\n",
      "0  Python  2000  Rajat     9.0\n",
      "1     CPP  2500  Shyam     NaN\n",
      "2    Java  2300    CAA     NaN\n"
     ]
    }
   ],
   "source": [
    "dataset = [\n",
    "    {'course': \"Python\", \"fees\": 2000, \"mentor\": \"Rajat\", 'rating': 9},\n",
    "    {'course': \"CPP\", \"fees\": 2500, \"mentor\": \"Shyam\"},\n",
    "    {'course': \"Java\", \"fees\": 2300, \"mentor\": 'CAA'}\n",
    "]\n",
    "df = pd.DataFrame(dataset)\n",
    "print(df)"
   ]
  },
  {
   "cell_type": "code",
   "execution_count": 141,
   "id": "b07a37a3-03d7-41cc-85cd-1e5bb1592b35",
   "metadata": {},
   "outputs": [
    {
     "name": "stdout",
     "output_type": "stream",
     "text": [
      "     A          B    C  D      E    F   G\n",
      "0  1.0 2013-01-02  1.0  3   test  foo  10\n",
      "1  1.0 2013-01-02  1.0  3  train  foo  20\n",
      "2  1.0 2013-01-02  1.0  3   test  foo  30\n",
      "3  1.0 2013-01-02  1.0  3  train  foo  40\n",
      "A          float64\n",
      "B    datetime64[s]\n",
      "C          float32\n",
      "D            int32\n",
      "E         category\n",
      "F           object\n",
      "G            int64\n",
      "dtype: object\n"
     ]
    }
   ],
   "source": [
    "dataset = {\n",
    "    \"A\": 1.0,\n",
    "    \"B\": pd.Timestamp(\"20130102\"),\n",
    "    \"C\": pd.Series(1, index=list(range(4)), dtype=\"float32\"),\n",
    "    \"D\": np.array([3] * 4, dtype=\"int32\"),\n",
    "    \"E\": pd.Categorical([\"test\", \"train\", 'test', 'train']),\n",
    "    \"F\": 'foo',\n",
    "    'G': [10,20,30,40]\n",
    "}\n",
    "df = pd.DataFrame(dataset)\n",
    "print(df)\n",
    "print(df.dtypes)"
   ]
  },
  {
   "cell_type": "code",
   "execution_count": 101,
   "id": "47df4fa7-aeb6-451f-a54c-13620c4398db",
   "metadata": {},
   "outputs": [
    {
     "name": "stdout",
     "output_type": "stream",
     "text": [
      "   course  fees\n",
      "0  Python  2000\n",
      "1     CPP  2500\n",
      "2    Java  2300\n"
     ]
    }
   ],
   "source": [
    "dataset = [\n",
    "    {'course': \"Python\", \"fees\": 2000, \"mentor\": \"Rajat\", 'rating': 9},\n",
    "    {'course': \"CPP\", \"fees\": 2500, \"mentor\": \"Shyam\"},\n",
    "    {'course': \"Java\", \"fees\": 2300, \"mentor\": 'CAA'}\n",
    "]\n",
    "df = pd.DataFrame(dataset)\n",
    "\n",
    "newDf = df[['course', 'fees']].copy()\n",
    "print(newDf)"
   ]
  },
  {
   "cell_type": "code",
   "execution_count": 109,
   "id": "3482d459-5072-4f79-9378-e7450e49d2f6",
   "metadata": {},
   "outputs": [
    {
     "name": "stdout",
     "output_type": "stream",
     "text": [
      "   course  fees mentor  rating\n",
      "0  Python  2000  Rajat     9.0\n",
      "1     CPP  2500  Shyam     NaN\n",
      "2    Java  2300    CAA     NaN\n",
      "***********************************\n",
      "0    Python\n",
      "1       CPP\n",
      "2      Java\n",
      "Name: course, dtype: object\n"
     ]
    }
   ],
   "source": [
    "dataset = [\n",
    "    {'course': \"Python\", \"fees\": 2000, \"mentor\": \"Rajat\", 'rating': 9},\n",
    "    {'course': \"CPP\", \"fees\": 2500, \"mentor\": \"Shyam\"},\n",
    "    {'course': \"Java\", \"fees\": 2300, \"mentor\": 'CAA'}\n",
    "]\n",
    "df = pd.DataFrame(dataset)\n",
    "print(df)\n",
    "print(\"***********************************\")\n",
    "print(df['course'])"
   ]
  },
  {
   "cell_type": "markdown",
   "id": "8c03354e-606d-4473-bad5-0d987359c41f",
   "metadata": {},
   "source": [
    "**new dataframe with 1 coloumn drop**"
   ]
  },
  {
   "cell_type": "code",
   "execution_count": 119,
   "id": "04550890-c80d-445b-8b41-86fdcc89bfc4",
   "metadata": {},
   "outputs": [
    {
     "name": "stdout",
     "output_type": "stream",
     "text": [
      "   course  fees mentor  rating\n",
      "0  Python  2000  Rajat     9.0\n",
      "1     CPP  2500  Shyam     NaN\n",
      "2    Java  2300    CAA     NaN\n",
      "*************************\n",
      "   course  fees mentor\n",
      "0  Python  2000  Rajat\n",
      "1     CPP  2500  Shyam\n",
      "2    Java  2300    CAA\n"
     ]
    }
   ],
   "source": [
    "dataset = [\n",
    "    {'course': \"Python\", \"fees\": 2000, \"mentor\": \"Rajat\", 'rating': 9},\n",
    "    {'course': \"CPP\", \"fees\": 2500, \"mentor\": \"Shyam\"},\n",
    "    {'course': \"Java\", \"fees\": 2300, \"mentor\": 'CAA'}\n",
    "]\n",
    "df = pd.DataFrame(dataset)\n",
    "print(df)\n",
    "print(\"*************************\")\n",
    "newdf = df.drop('rating', axis = 1)\n",
    "print(newdf)"
   ]
  },
  {
   "cell_type": "code",
   "execution_count": 125,
   "id": "746fa113-90f1-496e-8aad-da5ab2f1a605",
   "metadata": {},
   "outputs": [
    {
     "name": "stdout",
     "output_type": "stream",
     "text": [
      "   course  fees mentor  rating\n",
      "0  Python  2000  Rajat     9.0\n",
      "1     CPP  2500  Shyam     NaN\n",
      "2    Java  2300    CAA     NaN\n",
      "*************************\n",
      "   course  fees mentor\n",
      "0  Python  2000  Rajat\n",
      "1     CPP  2500  Shyam\n",
      "2    Java  2300    CAA\n"
     ]
    }
   ],
   "source": [
    "dataset = [\n",
    "    {'course': \"Python\", \"fees\": 2000, \"mentor\": \"Rajat\", 'rating': 9},\n",
    "    {'course': \"CPP\", \"fees\": 2500, \"mentor\": \"Shyam\"},\n",
    "    {'course': \"Java\", \"fees\": 2300, \"mentor\": 'CAA'}\n",
    "]\n",
    "df = pd.DataFrame(dataset)\n",
    "print(df)\n",
    "print(\"*************************\")\n",
    "df.drop('rating', axis = 1, inplace = True)\n",
    "print(df)"
   ]
  },
  {
   "cell_type": "code",
   "execution_count": 131,
   "id": "42fe521b-cc2d-4dfb-a392-a7b164772f27",
   "metadata": {},
   "outputs": [
    {
     "name": "stdout",
     "output_type": "stream",
     "text": [
      "   course  fees mentor  rating\n",
      "0  Python  2000  Rajat     9.0\n",
      "1     CPP  2500  Shyam     NaN\n",
      "2    Java  2300    CAA     NaN\n",
      "*************************\n",
      "   course  fees mentor  rating\n",
      "0  Python  2000  Rajat     9.0\n",
      "1     CPP  2500  Shyam     NaN\n"
     ]
    }
   ],
   "source": [
    "dataset = [\n",
    "    {'course': \"Python\", \"fees\": 2000, \"mentor\": \"Rajat\", 'rating': 9},\n",
    "    {'course': \"CPP\", \"fees\": 2500, \"mentor\": \"Shyam\"},\n",
    "    {'course': \"Java\", \"fees\": 2300, \"mentor\": 'CAA'}\n",
    "]\n",
    "df = pd.DataFrame(dataset)\n",
    "print(df)\n",
    "print(\"*************************\")\n",
    "df.drop(index = 2, inplace = True)\n",
    "print(df)"
   ]
  },
  {
   "cell_type": "code",
   "execution_count": 139,
   "id": "09ea3f90-3bdb-488e-9a81-990778a7244b",
   "metadata": {},
   "outputs": [
    {
     "name": "stdout",
     "output_type": "stream",
     "text": [
      "DatetimeIndex(['2013-01-01', '2013-01-02', '2013-01-03', '2013-01-04',\n",
      "               '2013-01-05', '2013-01-06'],\n",
      "              dtype='datetime64[ns]', freq='D')\n",
      "                   A         B         C         D\n",
      "2013-01-01  0.524564  0.097045  0.841726  0.672078\n",
      "2013-01-02  0.703043 -0.015897  0.111869 -0.679297\n",
      "2013-01-03 -0.878303 -0.095082  1.881875 -0.274086\n",
      "2013-01-04 -1.754194 -0.768674  0.715855  0.075581\n",
      "2013-01-05 -0.155475 -0.215556  0.848043  0.755051\n",
      "2013-01-06 -1.077531 -1.436659  1.235165  0.803159\n"
     ]
    }
   ],
   "source": [
    "result = pd.date_range(\"20130101\", periods = 6)\n",
    "print(result)\n",
    "df = pd.DataFrame(np.random.randn(6, 4), index = result, columns=['A', 'B', 'C', 'D'])\n",
    "print(df)"
   ]
  },
  {
   "cell_type": "code",
   "execution_count": 143,
   "id": "d6c2f784-dcba-44b7-ad37-abab4bce241b",
   "metadata": {},
   "outputs": [
    {
     "name": "stdout",
     "output_type": "stream",
     "text": [
      "1200\n"
     ]
    }
   ],
   "source": [
    "data = {\n",
    "    'product_name': ['laptop', 'printer', 'tablet', 'desk', 'chair'],\n",
    "    'price': [1200, 150, 300, 450, 200]\n",
    "}\n",
    "df = pd.DataFrame(data)\n",
    "max_price = df['price'].max()\n",
    "print(max_price)"
   ]
  },
  {
   "cell_type": "code",
   "execution_count": 151,
   "id": "d63d1303-83db-4c22-8901-0a7180bec18c",
   "metadata": {},
   "outputs": [
    {
     "name": "stdout",
     "output_type": "stream",
     "text": [
      "   teamA  teamB  teamC\n",
      "0     33     30     34\n",
      "1     38     38     35\n",
      "2     37     34     36\n"
     ]
    }
   ],
   "source": [
    "dataframe = pd.DataFrame({\n",
    "    'teamA': [15, 20, 19],\n",
    "    'teamB' : [12, 20, 16],\n",
    "    'teamC' : [16, 17, 18]\n",
    "})\n",
    "newdf = dataframe.add(18)\n",
    "print(newdf)"
   ]
  },
  {
   "cell_type": "code",
   "execution_count": 167,
   "id": "3e0e898b-2d49-4221-b25c-f552d9cf4ddf",
   "metadata": {},
   "outputs": [
    {
     "name": "stdout",
     "output_type": "stream",
     "text": [
      "   teamA  teamB  teamC\n",
      "0     15     12     16\n",
      "1     20     20     17\n",
      "2     19     16     18\n",
      "0    100    222    116\n",
      "1    120    120    117\n"
     ]
    }
   ],
   "source": [
    "dataframe1 = pd.DataFrame({\n",
    "    'teamA': [15, 20, 19],\n",
    "    'teamB' : [12, 20, 16],\n",
    "    'teamC' : [16, 17, 18]\n",
    "})\n",
    "dataframe2 = pd.DataFrame({\n",
    "    'teamA': [100, 120],\n",
    "    'teamB' : [222, 120],\n",
    "    'teamC' : [116, 117]\n",
    "})\n",
    "newdf = pd.concat([dataframe1, dataframe2])\n",
    "# newdf = dataframe1.append(dataframe2)\n",
    "print(newdf)\n"
   ]
  },
  {
   "cell_type": "code",
   "execution_count": 181,
   "id": "b48d8570-d3cf-4509-af19-54595aa5be94",
   "metadata": {},
   "outputs": [
    {
     "data": {
      "text/html": [
       "<div>\n",
       "<style scoped>\n",
       "    .dataframe tbody tr th:only-of-type {\n",
       "        vertical-align: middle;\n",
       "    }\n",
       "\n",
       "    .dataframe tbody tr th {\n",
       "        vertical-align: top;\n",
       "    }\n",
       "\n",
       "    .dataframe thead th {\n",
       "        text-align: right;\n",
       "    }\n",
       "</style>\n",
       "<table border=\"1\" class=\"dataframe\">\n",
       "  <thead>\n",
       "    <tr style=\"text-align: right;\">\n",
       "      <th></th>\n",
       "      <th>teamA</th>\n",
       "      <th>teamB</th>\n",
       "      <th>teamC</th>\n",
       "    </tr>\n",
       "  </thead>\n",
       "  <tbody>\n",
       "    <tr>\n",
       "      <th>0</th>\n",
       "      <td>15</td>\n",
       "      <td>12</td>\n",
       "      <td>16</td>\n",
       "    </tr>\n",
       "    <tr>\n",
       "      <th>1</th>\n",
       "      <td>20</td>\n",
       "      <td>20</td>\n",
       "      <td>17</td>\n",
       "    </tr>\n",
       "    <tr>\n",
       "      <th>2</th>\n",
       "      <td>19</td>\n",
       "      <td>16</td>\n",
       "      <td>18</td>\n",
       "    </tr>\n",
       "    <tr>\n",
       "      <th>0</th>\n",
       "      <td>100</td>\n",
       "      <td>222</td>\n",
       "      <td>116</td>\n",
       "    </tr>\n",
       "    <tr>\n",
       "      <th>1</th>\n",
       "      <td>120</td>\n",
       "      <td>120</td>\n",
       "      <td>117</td>\n",
       "    </tr>\n",
       "  </tbody>\n",
       "</table>\n",
       "</div>"
      ],
      "text/plain": [
       "   teamA  teamB  teamC\n",
       "0     15     12     16\n",
       "1     20     20     17\n",
       "2     19     16     18\n",
       "0    100    222    116\n",
       "1    120    120    117"
      ]
     },
     "execution_count": 181,
     "metadata": {},
     "output_type": "execute_result"
    }
   ],
   "source": [
    "newdf.head(10)"
   ]
  },
  {
   "cell_type": "code",
   "execution_count": 185,
   "id": "c7e33fab-cef3-4aae-9109-ed495ad95608",
   "metadata": {},
   "outputs": [
    {
     "data": {
      "text/html": [
       "<div>\n",
       "<style scoped>\n",
       "    .dataframe tbody tr th:only-of-type {\n",
       "        vertical-align: middle;\n",
       "    }\n",
       "\n",
       "    .dataframe tbody tr th {\n",
       "        vertical-align: top;\n",
       "    }\n",
       "\n",
       "    .dataframe thead th {\n",
       "        text-align: right;\n",
       "    }\n",
       "</style>\n",
       "<table border=\"1\" class=\"dataframe\">\n",
       "  <thead>\n",
       "    <tr style=\"text-align: right;\">\n",
       "      <th></th>\n",
       "      <th>teamA</th>\n",
       "      <th>teamB</th>\n",
       "      <th>teamC</th>\n",
       "    </tr>\n",
       "  </thead>\n",
       "  <tbody>\n",
       "    <tr>\n",
       "      <th>2</th>\n",
       "      <td>19</td>\n",
       "      <td>16</td>\n",
       "      <td>18</td>\n",
       "    </tr>\n",
       "    <tr>\n",
       "      <th>0</th>\n",
       "      <td>100</td>\n",
       "      <td>222</td>\n",
       "      <td>116</td>\n",
       "    </tr>\n",
       "    <tr>\n",
       "      <th>1</th>\n",
       "      <td>120</td>\n",
       "      <td>120</td>\n",
       "      <td>117</td>\n",
       "    </tr>\n",
       "  </tbody>\n",
       "</table>\n",
       "</div>"
      ],
      "text/plain": [
       "   teamA  teamB  teamC\n",
       "2     19     16     18\n",
       "0    100    222    116\n",
       "1    120    120    117"
      ]
     },
     "execution_count": 185,
     "metadata": {},
     "output_type": "execute_result"
    }
   ],
   "source": [
    "newdf.tail(3)"
   ]
  },
  {
   "cell_type": "markdown",
   "id": "afe4a8b5-c9ac-4eae-8edb-f05291912bf0",
   "metadata": {},
   "source": [
    "### CSV File"
   ]
  },
  {
   "cell_type": "markdown",
   "id": "361eba9a-74b1-47b8-97d6-48c7e504b8b1",
   "metadata": {},
   "source": [
    "Name,Age,Department,Salary\n",
    "John Doe,28,Engineering,70000\n",
    "Jane Smith,34,Marketing,80000\n",
    "Emily Davis,22,Sales,50000\n",
    "Michael Brown,45,HR,90000\n",
    "Jessica Wilson,30,Finance,75000"
   ]
  },
  {
   "cell_type": "code",
   "execution_count": 192,
   "id": "aeb81d00-df50-4934-86bc-fd862874d790",
   "metadata": {},
   "outputs": [
    {
     "name": "stdout",
     "output_type": "stream",
     "text": [
      "             Name  Age   Department  Salary\n",
      "0        John Doe   28  Engineering   70000\n",
      "1      Jane Smith   34    Marketing   80000\n",
      "2     Emily Davis   22        Sales   50000\n",
      "3   Michael Brown   45           HR   90000\n",
      "4  Jessica Wilson   30      Finance   75000\n"
     ]
    }
   ],
   "source": [
    "df = pd.read_csv('mydata.csv')\n",
    "print(df)"
   ]
  },
  {
   "cell_type": "markdown",
   "id": "7af2cb10-c26e-4dd7-bc02-02408e995a0a",
   "metadata": {},
   "source": [
    "### JSON Format"
   ]
  },
  {
   "cell_type": "markdown",
   "id": "899c5c7b-5843-4b41-8da2-bd8a9b30d2d1",
   "metadata": {},
   "source": [
    "```\n",
    "[\r\n",
    "    {\r\n",
    "        \"Name\": \"John Doe\",\r\n",
    "        \"Age\": 28,\r\n",
    "        \"Department\": \"Engineering\",\r\n",
    "        \"Salary\": 70000\r\n",
    "    },\r\n",
    "    {\r\n",
    "        \"Name\": \"Jane Smith\",\r\n",
    "        \"Age\": 34,\r\n",
    "        \"Department\": \"Marketing\",\r\n",
    "        \"Salary\": 80000\r\n",
    "    },\r\n",
    "    {\r\n",
    "        \"Name\": \"Emily Davis\",\r\n",
    "        \"Age\": 22,\r\n",
    "        \"Department\": \"Sales\",\r\n",
    "        \"Salary\": 50000\r\n",
    "    },\r\n",
    "    {\r\n",
    "        \"Name\": \"Michael Brown\",\r\n",
    "        \"Age\": 45,\r\n",
    "        \"Department\": \"HR\",\r\n",
    "        \"Salary\": 90000\r\n",
    "    },\r\n",
    "    {\r\n",
    "        \"Name\": \"Jessica Wilson\",\r\n",
    "        \"Age\": 30,\r\n",
    "        \"Department\": \"Finance\",\r\n",
    "        \"Salary\": 75000\r\n",
    "    }\r\n",
    "]\r\n"
   ]
  },
  {
   "cell_type": "code",
   "execution_count": 206,
   "id": "e840d754-d30d-4c79-aabe-52f8bc08b500",
   "metadata": {},
   "outputs": [
    {
     "name": "stdout",
     "output_type": "stream",
     "text": [
      "             Name  Age   Department  Salary\n",
      "0        John Doe   28  Engineering   70000\n",
      "1      Jane Smith   34    Marketing   80000\n",
      "2     Emily Davis   22        Sales   50000\n",
      "3   Michael Brown   45           HR   90000\n",
      "4  Jessica Wilson   30      Finance   75000\n"
     ]
    }
   ],
   "source": [
    "df = pd.read_json('myjson.json')\n",
    "print(df)\n",
    "df.to_csv('newfile.csv')"
   ]
  },
  {
   "cell_type": "markdown",
   "id": "00ab19c7-279b-4ca4-ae0b-46152c02e2e9",
   "metadata": {},
   "source": [
    "## Data Cleaning"
   ]
  },
  {
   "cell_type": "code",
   "execution_count": 209,
   "id": "48f333cd-7f4e-4adf-a5b2-02413edd996d",
   "metadata": {},
   "outputs": [
    {
     "data": {
      "text/html": [
       "<div>\n",
       "<style scoped>\n",
       "    .dataframe tbody tr th:only-of-type {\n",
       "        vertical-align: middle;\n",
       "    }\n",
       "\n",
       "    .dataframe tbody tr th {\n",
       "        vertical-align: top;\n",
       "    }\n",
       "\n",
       "    .dataframe thead th {\n",
       "        text-align: right;\n",
       "    }\n",
       "</style>\n",
       "<table border=\"1\" class=\"dataframe\">\n",
       "  <thead>\n",
       "    <tr style=\"text-align: right;\">\n",
       "      <th></th>\n",
       "      <th>Name</th>\n",
       "      <th>Age</th>\n",
       "      <th>City</th>\n",
       "    </tr>\n",
       "  </thead>\n",
       "  <tbody>\n",
       "    <tr>\n",
       "      <th>0</th>\n",
       "      <td>Anna</td>\n",
       "      <td>29.0</td>\n",
       "      <td>New York</td>\n",
       "    </tr>\n",
       "    <tr>\n",
       "      <th>1</th>\n",
       "      <td>Brian</td>\n",
       "      <td>30.0</td>\n",
       "      <td>Los Angeles</td>\n",
       "    </tr>\n",
       "    <tr>\n",
       "      <th>2</th>\n",
       "      <td>Anna</td>\n",
       "      <td>29.0</td>\n",
       "      <td>New York</td>\n",
       "    </tr>\n",
       "    <tr>\n",
       "      <th>3</th>\n",
       "      <td>David</td>\n",
       "      <td>40.0</td>\n",
       "      <td>NaN</td>\n",
       "    </tr>\n",
       "    <tr>\n",
       "      <th>4</th>\n",
       "      <td>NaN</td>\n",
       "      <td>NaN</td>\n",
       "      <td>NaN</td>\n",
       "    </tr>\n",
       "  </tbody>\n",
       "</table>\n",
       "</div>"
      ],
      "text/plain": [
       "    Name   Age         City\n",
       "0   Anna  29.0     New York\n",
       "1  Brian  30.0  Los Angeles\n",
       "2   Anna  29.0     New York\n",
       "3  David  40.0          NaN\n",
       "4    NaN   NaN          NaN"
      ]
     },
     "execution_count": 209,
     "metadata": {},
     "output_type": "execute_result"
    }
   ],
   "source": [
    "data = {\n",
    "    'Name': ['Anna', 'Brian', 'Anna', 'David', np.nan],\n",
    "    'Age': [29, 30, 29, 40, np.nan],\n",
    "    'City': ['New York', 'Los Angeles', 'New York', np.nan, np.nan]\n",
    "}\n",
    "\n",
    "df = pd.DataFrame(data)\n",
    "df.head()"
   ]
  },
  {
   "cell_type": "code",
   "execution_count": 215,
   "id": "ca3a4717-4943-4f1e-966e-0d20544981d5",
   "metadata": {},
   "outputs": [
    {
     "name": "stdout",
     "output_type": "stream",
     "text": [
      "Name    1\n",
      "Age     1\n",
      "City    2\n",
      "dtype: int64\n"
     ]
    }
   ],
   "source": [
    "# count number of nulll values in a dataframe\n",
    "print(df.isnull().sum())"
   ]
  },
  {
   "cell_type": "code",
   "execution_count": 217,
   "id": "97a4bcad-07fc-47fe-8eb4-be3d0d47f819",
   "metadata": {},
   "outputs": [
    {
     "name": "stdout",
     "output_type": "stream",
     "text": [
      "    Name   Age         City\n",
      "0   Anna  29.0     New York\n",
      "1  Brian  30.0  Los Angeles\n",
      "2   Anna  29.0     New York\n"
     ]
    }
   ],
   "source": [
    "newdf = df.dropna()\n",
    "print(newdf)"
   ]
  },
  {
   "cell_type": "code",
   "execution_count": null,
   "id": "e0a04aac-6477-4c83-9f88-0ded2437474e",
   "metadata": {},
   "outputs": [],
   "source": []
  }
 ],
 "metadata": {
  "kernelspec": {
   "display_name": "Python 3 (ipykernel)",
   "language": "python",
   "name": "python3"
  },
  "language_info": {
   "codemirror_mode": {
    "name": "ipython",
    "version": 3
   },
   "file_extension": ".py",
   "mimetype": "text/x-python",
   "name": "python",
   "nbconvert_exporter": "python",
   "pygments_lexer": "ipython3",
   "version": "3.12.4"
  }
 },
 "nbformat": 4,
 "nbformat_minor": 5
}
