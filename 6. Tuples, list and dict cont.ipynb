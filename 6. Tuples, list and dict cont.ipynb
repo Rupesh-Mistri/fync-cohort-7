{
 "cells": [
  {
   "cell_type": "code",
   "execution_count": 3,
   "id": "878018de-50f1-4c3b-b169-6f8c50c2141f",
   "metadata": {},
   "outputs": [
    {
     "name": "stdout",
     "output_type": "stream",
     "text": [
      "{'name': 'Rajat Jain', 'course': 'Python'}\n"
     ]
    }
   ],
   "source": [
    "dict1 = {\n",
    "    \"name\" : \"Rajat Jain\",\n",
    "    'course' : 'Python',\n",
    "}\n",
    "\n",
    "print(dict1)"
   ]
  },
  {
   "cell_type": "markdown",
   "id": "77a65b4b-cef2-4909-9668-50bb62e82a0b",
   "metadata": {},
   "source": [
    "## Tuples in python"
   ]
  },
  {
   "cell_type": "code",
   "execution_count": 19,
   "id": "38d87302-b58a-4de7-8bad-b362169fc624",
   "metadata": {},
   "outputs": [
    {
     "name": "stdout",
     "output_type": "stream",
     "text": [
      "(12, 14, 'Rajat')\n",
      "<class 'tuple'>\n"
     ]
    }
   ],
   "source": [
    "t1 = (12, 14, \"Rajat\")\n",
    "print(t1)\n",
    "print(type(t1))"
   ]
  },
  {
   "cell_type": "code",
   "execution_count": 25,
   "id": "85b77750-6491-46c1-9435-0139cb785f42",
   "metadata": {},
   "outputs": [
    {
     "name": "stdout",
     "output_type": "stream",
     "text": [
      "Rajat\n"
     ]
    }
   ],
   "source": [
    "print(t1[2])"
   ]
  },
  {
   "cell_type": "code",
   "execution_count": 27,
   "id": "ad50fd4f-f15d-4b42-aa7c-5c0b6bbe258f",
   "metadata": {},
   "outputs": [
    {
     "ename": "TypeError",
     "evalue": "'tuple' object does not support item assignment",
     "output_type": "error",
     "traceback": [
      "\u001b[1;31m---------------------------------------------------------------------------\u001b[0m",
      "\u001b[1;31mTypeError\u001b[0m                                 Traceback (most recent call last)",
      "Cell \u001b[1;32mIn[27], line 1\u001b[0m\n\u001b[1;32m----> 1\u001b[0m t1[\u001b[38;5;241m0\u001b[39m] \u001b[38;5;241m=\u001b[39m \u001b[38;5;241m100\u001b[39m\n",
      "\u001b[1;31mTypeError\u001b[0m: 'tuple' object does not support item assignment"
     ]
    }
   ],
   "source": [
    "t1[0] = 100"
   ]
  },
  {
   "cell_type": "code",
   "execution_count": 34,
   "id": "0bfe035d-db62-40b1-8011-0af5da4fb169",
   "metadata": {},
   "outputs": [
    {
     "name": "stdout",
     "output_type": "stream",
     "text": [
      "2428223858240\n",
      "2428224051456\n",
      "(100, 50)\n"
     ]
    }
   ],
   "source": [
    "t1 = (12, 14, \"Rajat\")\n",
    "print(id(t1))\n",
    "t1 = (100, 50)\n",
    "print(id(t1))\n",
    "print(t1)"
   ]
  },
  {
   "cell_type": "code",
   "execution_count": 46,
   "id": "5b9af2d5-742e-4042-b162-45accf343821",
   "metadata": {},
   "outputs": [
    {
     "data": {
      "text/plain": [
       "5092506917918050556"
      ]
     },
     "execution_count": 46,
     "metadata": {},
     "output_type": "execute_result"
    }
   ],
   "source": [
    "print(hash(t1))"
   ]
  },
  {
   "cell_type": "code",
   "execution_count": 44,
   "id": "da74b35f-aaab-4c04-a89d-3d489cf7c64b",
   "metadata": {
    "scrolled": true
   },
   "outputs": [
    {
     "name": "stdout",
     "output_type": "stream",
     "text": [
      "{'name': 'Rajat Jain', 'course': 'Python', (23, 34): 'abc'}\n"
     ]
    }
   ],
   "source": [
    "dict1 = {\n",
    "    \"name\" : \"Rajat Jain\",\n",
    "    'course' : 'Python',\n",
    "    (23, 34): \"abc\"\n",
    "}\n",
    "del dict1['name']\n",
    "print(dict1)"
   ]
  },
  {
   "cell_type": "code",
   "execution_count": 50,
   "id": "82b2ba43-b9e4-4b74-ba26-dfb52800c05e",
   "metadata": {},
   "outputs": [
    {
     "name": "stdout",
     "output_type": "stream",
     "text": [
      "(1, 2, 3)\n"
     ]
    }
   ],
   "source": [
    "t2 = tuple([1,2,3])\n",
    "print(t2)"
   ]
  },
  {
   "cell_type": "code",
   "execution_count": 58,
   "id": "cdf48fb2-b491-4f4c-bddd-e4d0be00102d",
   "metadata": {},
   "outputs": [
    {
     "name": "stdout",
     "output_type": "stream",
     "text": [
      "34 55\n"
     ]
    }
   ],
   "source": [
    "def myfunc():\n",
    "    return (34, 55)\n",
    "\n",
    "x = myfunc()\n",
    "print(x[0], x[1])"
   ]
  },
  {
   "cell_type": "code",
   "execution_count": 274,
   "id": "c226ff4d-7e97-4e37-8e5a-1aaf813c2ff9",
   "metadata": {},
   "outputs": [
    {
     "name": "stdout",
     "output_type": "stream",
     "text": [
      "{'key1': 'val1', 'key2': 'val2'}\n",
      "2428225822912\n",
      "{'key1': 'newVal', 'key2': 'val2'}\n",
      "2428225822912\n"
     ]
    }
   ],
   "source": [
    "f1={\n",
    "    'key1' : 'val1',\n",
    "    'key2' : 'val2',\n",
    "}\n",
    "print(f1)\n",
    "print(id(f1))\n",
    "\n",
    "f1['key1']='newVal'\n",
    "print(f1)\n",
    "print(id(f1))"
   ]
  },
  {
   "cell_type": "code",
   "execution_count": 80,
   "id": "7e4240df-0cd4-4e8b-b97e-4fda18155589",
   "metadata": {},
   "outputs": [
    {
     "name": "stdout",
     "output_type": "stream",
     "text": [
      "<class 'tuple'>\n"
     ]
    }
   ],
   "source": [
    "a = tuple([3])\n",
    "print(type(a))"
   ]
  },
  {
   "cell_type": "code",
   "execution_count": 98,
   "id": "089a9fc2-e017-4c5f-b269-cb5f00d58ea9",
   "metadata": {},
   "outputs": [
    {
     "name": "stdout",
     "output_type": "stream",
     "text": [
      "inside: [1, 2, 3, 5]\n",
      "Outside:  (1, 2, 3)\n"
     ]
    }
   ],
   "source": [
    "list1 = p1,2,3)\n",
    "\n",
    "def myFun(mylist):\n",
    "    x = list(mylist) # new reference\n",
    "    x.append(5)\n",
    "    print('inside:', x )\n",
    "\n",
    "myFun(list1)\n",
    "print(\"Outside: \", list1)"
   ]
  },
  {
   "cell_type": "code",
   "execution_count": 108,
   "id": "307bb0d7-5a4f-4869-b42f-bbf5940221ed",
   "metadata": {},
   "outputs": [
    {
     "name": "stdout",
     "output_type": "stream",
     "text": [
      "[1, 2, 3]\n",
      "[1, 2, 3, 4]\n"
     ]
    }
   ],
   "source": [
    "x = [1,2,3]\n",
    "y = x\n",
    "y.append(4)\n",
    "print(x)"
   ]
  },
  {
   "cell_type": "markdown",
   "id": "5028d00e-8f9a-47f8-81b5-deb102030ee5",
   "metadata": {},
   "source": [
    "### Copying a list with new reference"
   ]
  },
  {
   "cell_type": "code",
   "execution_count": null,
   "id": "37610446-1d70-42c0-b665-e217d76b3fb8",
   "metadata": {},
   "outputs": [],
   "source": [
    "x = [1,2,3]\n",
    "y = x.copy()\n",
    "# for i in x:\n",
    "#     y.append(i)\n",
    "# y = x\n",
    "y.append(4)\n",
    "print(x)\n",
    "print(y)"
   ]
  },
  {
   "cell_type": "markdown",
   "id": "d5837909-53a1-42a0-bdcd-b2e399781898",
   "metadata": {},
   "source": [
    "### Nested Dictionary"
   ]
  },
  {
   "cell_type": "code",
   "execution_count": 111,
   "id": "e2397089-ee61-4112-8a19-a58d33d598ab",
   "metadata": {},
   "outputs": [
    {
     "name": "stdout",
     "output_type": "stream",
     "text": [
      "{'a': [1, 2, 3], 'b': [100, 200, 300], 'c': (7, 8, 9), 'd': {'1': ['A', 'B', 'C'], '2': 'Hello'}}\n"
     ]
    }
   ],
   "source": [
    "list1 = [1,2,3]\n",
    "list2 = [\"A\", \"B\", \"C\"]\n",
    "t2 = (7,8,9)\n",
    "\n",
    "dict1 = {\n",
    "    'a' : list1,\n",
    "    'b' : [100, 200, 300],\n",
    "    'c' : t2,\n",
    "    'd' : {\n",
    "        '1' : list2,\n",
    "        '2' : 'Hello'\n",
    "    }\n",
    "}\n",
    "print(dict1)"
   ]
  },
  {
   "cell_type": "code",
   "execution_count": 116,
   "id": "b136a89b-12f7-4d4b-b1f3-3d6eec3d8641",
   "metadata": {},
   "outputs": [
    {
     "name": "stdout",
     "output_type": "stream",
     "text": [
      "{'a': [1, 2, 3], 'b': [100, 200, 300, 20], 'c': (7, 8, 9), 'd': {'1': ['A', 'B', 'C'], '2': 'Hello'}}\n"
     ]
    }
   ],
   "source": [
    "dict2 = dict1\n",
    "dict2['b'].append(20)\n",
    "print(dict1)"
   ]
  },
  {
   "cell_type": "code",
   "execution_count": 134,
   "id": "95fdd0ad-b280-472d-99b7-ee4777c946d7",
   "metadata": {},
   "outputs": [
    {
     "name": "stdout",
     "output_type": "stream",
     "text": [
      "{'a': [1, 2, 3], 'b': [100, 200, 300], 'c': (7, 8, 9), 'd': {'1': ['A', 'B', 'C'], '2': 'Hello'}}\n"
     ]
    }
   ],
   "source": [
    "list1 = [1,2,3]\n",
    "list2 = [\"A\", \"B\", \"C\"]\n",
    "t2 = (7,8,9)\n",
    "\n",
    "dict1 = {\n",
    "    'a' : list1,\n",
    "    'b' : [100, 200, 300],\n",
    "    'c' : t2,\n",
    "    'd' : {\n",
    "        '1' : list2,\n",
    "        '2' : 'Hello'\n",
    "    }\n",
    "}\n",
    "print(dict1)"
   ]
  },
  {
   "cell_type": "code",
   "execution_count": 118,
   "id": "87bcb9f5-7451-4e7e-927f-5d6a5d9ff690",
   "metadata": {},
   "outputs": [
    {
     "data": {
      "text/plain": [
       "'B'"
      ]
     },
     "execution_count": 118,
     "metadata": {},
     "output_type": "execute_result"
    }
   ],
   "source": [
    "dict1['d']['1'][1]"
   ]
  },
  {
   "cell_type": "code",
   "execution_count": 136,
   "id": "42a9b8dd-403c-4b46-b233-ad050986ffa1",
   "metadata": {},
   "outputs": [
    {
     "name": "stdout",
     "output_type": "stream",
     "text": [
      "{'a': [1, 2, 3], 'b': [100, 200, 300], 'c': (7, 8, 9), 'd': {'1': ['A', 'B', 'C'], '2': 'Hello'}}\n",
      "{'a': [1, 2, 3], 'b': [100, 200, 300, 40], 'c': (7, 8, 9), 'd': {'1': ['A', 'B', 'C'], '2': 'Hello'}}\n"
     ]
    }
   ],
   "source": [
    "dict2 = dict1.copy()\n",
    "# dict2['b'] = dict1['b'].copy()\n",
    "dict2['b'].append(40)\n",
    "print(dict1)\n",
    "print(dict2)\n"
   ]
  },
  {
   "cell_type": "code",
   "execution_count": 206,
   "id": "21d09a5c-26ee-4c93-8397-9640fdd91bad",
   "metadata": {},
   "outputs": [
    {
     "name": "stdout",
     "output_type": "stream",
     "text": [
      "{'a': [1, 2, 3],\n",
      " 'b': [100, 200, 300],\n",
      " 'c': (7, 8, 9),\n",
      " 'd': {'1': ['A', 'B', 'C'], '2': 'Hello'}}\n",
      "{'a': [1, 2, 3],\n",
      " 'b': [100, 200, 300],\n",
      " 'c': (7, 8, 9),\n",
      " 'd': {'1': ['A', 'B', 'C'], '2': 'world'}}\n"
     ]
    }
   ],
   "source": [
    "import pprint\n",
    "list1 = [1,2,3]\n",
    "list2 = [\"A\", \"B\", \"C\"]\n",
    "t2 = (7,8,9)\n",
    "\n",
    "dict1 = {\n",
    "    'a' : list1,\n",
    "    'b' : [100, 200, 300],\n",
    "    'c' : t2,\n",
    "    'd' : {\n",
    "        '1' : list2,\n",
    "        '2' : 'Hello'\n",
    "    }\n",
    "}\n",
    "dict2 = dict1.copy()\n",
    "dict2['d'] = dict2['d'].copy()\n",
    "dict2['d']['2'] = \"world\"\n",
    "pprint.pprint(dict1)\n",
    "pprint.pprint(dict2)"
   ]
  },
  {
   "cell_type": "code",
   "execution_count": null,
   "id": "068d755d-abb8-4d57-82ef-9bf9a4723821",
   "metadata": {},
   "outputs": [],
   "source": [
    "x = dict['d']\n",
    "x['name'] = \"Rajat"
   ]
  },
  {
   "cell_type": "code",
   "execution_count": 142,
   "id": "f55131c3-6919-4255-91d6-e95dcafa221f",
   "metadata": {},
   "outputs": [
    {
     "ename": "AttributeError",
     "evalue": "'tuple' object has no attribute 'copy'",
     "output_type": "error",
     "traceback": [
      "\u001b[1;31m---------------------------------------------------------------------------\u001b[0m",
      "\u001b[1;31mAttributeError\u001b[0m                            Traceback (most recent call last)",
      "Cell \u001b[1;32mIn[142], line 2\u001b[0m\n\u001b[0;32m      1\u001b[0m t3 \u001b[38;5;241m=\u001b[39m (\u001b[38;5;241m7\u001b[39m,\u001b[38;5;241m8\u001b[39m,\u001b[38;5;241m9\u001b[39m)\n\u001b[1;32m----> 2\u001b[0m t4 \u001b[38;5;241m=\u001b[39m t3\u001b[38;5;241m.\u001b[39mcopy()\n",
      "\u001b[1;31mAttributeError\u001b[0m: 'tuple' object has no attribute 'copy'"
     ]
    }
   ],
   "source": [
    "t3 = (7,8,9)\n",
    "t4 = t3.copy()"
   ]
  },
  {
   "cell_type": "code",
   "execution_count": 144,
   "id": "a3d36316-7acd-4127-9456-5c672e11197e",
   "metadata": {},
   "outputs": [
    {
     "name": "stdout",
     "output_type": "stream",
     "text": [
      "2428225264256\n",
      "2428225263040\n"
     ]
    }
   ],
   "source": [
    "x = (1,2,3)\n",
    "y = (1,2,3)\n",
    "print(id(x))\n",
    "print(id(y))"
   ]
  },
  {
   "cell_type": "code",
   "execution_count": 146,
   "id": "f410e66d-4278-4135-93d5-03127baa7d46",
   "metadata": {},
   "outputs": [
    {
     "name": "stdout",
     "output_type": "stream",
     "text": [
      "529344067295497451\n",
      "529344067295497451\n"
     ]
    }
   ],
   "source": [
    "print(hash(x))\n",
    "print(hash(y))"
   ]
  },
  {
   "cell_type": "code",
   "execution_count": 168,
   "id": "ec08a130-9bc7-4354-b993-4a7ffb3ad04f",
   "metadata": {},
   "outputs": [
    {
     "name": "stdout",
     "output_type": "stream",
     "text": [
      "<class 'list'>\n",
      "Keys:  ['b', 'e', 'a', 'c']\n",
      "Keys:  ['a', 'b', 'c', 'e']\n",
      "30\n",
      "10\n",
      "40\n",
      "20\n"
     ]
    }
   ],
   "source": [
    "dict2 = {\n",
    "    'b' : 10,\n",
    "    'e' : 20,\n",
    "    'a' : 30,\n",
    "    'c' : 40\n",
    "}\n",
    "x = list(dict2.keys())\n",
    "print(type(x))\n",
    "print(\"Keys: \", x)\n",
    "x.sort()\n",
    "print(\"Keys: \", x)\n",
    "for i in x:\n",
    "    print(dict2[i])"
   ]
  },
  {
   "cell_type": "code",
   "execution_count": 170,
   "id": "ce82288e-d5a8-40d3-8964-c61be8114586",
   "metadata": {},
   "outputs": [
    {
     "name": "stdout",
     "output_type": "stream",
     "text": [
      "[0, 0, 0, 0, 0, 0, 0, 0, 0, 0]\n"
     ]
    }
   ],
   "source": [
    "l1 = [0] * 10\n",
    "print(l1)"
   ]
  },
  {
   "cell_type": "code",
   "execution_count": 172,
   "id": "3932e0e3-0b5d-4a43-a060-91013c1b268f",
   "metadata": {},
   "outputs": [
    {
     "name": "stdout",
     "output_type": "stream",
     "text": [
      "[[1, 2, 3], [4, 5, 6], [7, 8, 9]]\n"
     ]
    }
   ],
   "source": [
    "x = [[1,2,3], [4,5,6], [7,8,9]]\n",
    "print(x)"
   ]
  },
  {
   "cell_type": "code",
   "execution_count": 190,
   "id": "d9392ea0-5945-4db1-a200-22e766f4c04b",
   "metadata": {},
   "outputs": [
    {
     "name": "stdout",
     "output_type": "stream",
     "text": [
      "[[100, 2, 3], [4, 5, 6], [7, 8, 9]]\n",
      "[[100, 2, 3], [4, 5, 6], [7, 8, 9]]\n"
     ]
    }
   ],
   "source": [
    "x = [[1,2,3], [4,5,6], [7,8,9]]\n",
    "y = x.copy()\n",
    "y[0][0] = 100\n",
    "print(x)\n",
    "print(y)\n"
   ]
  },
  {
   "cell_type": "code",
   "execution_count": 196,
   "id": "d1b72ddd-b223-44da-8826-5aaa8cd9529a",
   "metadata": {},
   "outputs": [
    {
     "name": "stdout",
     "output_type": "stream",
     "text": [
      "[[1, 2, 3], [4, 5, 6], [7, 8, 9, 10, 11]]\n",
      "[[1, 2, 3], [4, 5, 6], [7, 8, 9, 10, 11], [10, 11, 12]]\n"
     ]
    }
   ],
   "source": [
    "x = [[1,2,3], [4,5,6], [7,8,9, 10 ,11]]\n",
    "y = x.copy()\n",
    "y.append([10,11,12])\n",
    "print(x)\n",
    "print(y)"
   ]
  },
  {
   "cell_type": "code",
   "execution_count": 268,
   "id": "f65e4251-e32c-4fdd-8e51-c5042545702f",
   "metadata": {},
   "outputs": [
    {
     "name": "stdout",
     "output_type": "stream",
     "text": [
      "[[0, 0, 0, 0, 0, 0, 0, 0, 0, 0],\n",
      " [0, 0, 0, 0, 0, 0, 0, 0, 0, 0],\n",
      " [0, 0, 0, 0, 0, 0, 0, 0, 0, 0],\n",
      " [0, 0, 0, 0, 0, 0, 0, 0, 0, 0],\n",
      " [0, 0, 0, 0, 0, 0, 0, 0, 0, 0],\n",
      " [0, 0, 0, 0, 0, 0, 0, 0, 0, 0],\n",
      " [0, 0, 0, 0, 0, 0, 0, 0, 0, 0],\n",
      " [0, 0, 0, 0, 0, 0, 0, 0, 0, 0],\n",
      " [0, 0, 0, 0, 0, 0, 0, 0, 0, 0],\n",
      " [0, 0, 0, 0, 0, 0, 0, 0, 0, 0]]\n",
      "[[0, 0, 0, 100, 0, 0, 0, 0, 0, 0], [0, 0, 0, 100, 0, 0, 0, 0, 0, 0], [0, 0, 0, 100, 0, 0, 0, 0, 0, 0], [0, 0, 0, 100, 0, 0, 0, 0, 0, 0], [0, 0, 0, 100, 0, 0, 0, 0, 0, 0], [0, 0, 0, 100, 0, 0, 0, 0, 0, 0], [0, 0, 0, 100, 0, 0, 0, 0, 0, 0], [0, 0, 0, 100, 0, 0, 0, 0, 0, 0], [0, 0, 0, 100, 0, 0, 0, 0, 0, 0], [0, 0, 0, 100, 0, 0, 0, 0, 0, 0]]\n"
     ]
    }
   ],
   "source": [
    "import pprint\n",
    "l1 = [0] * 10\n",
    "l2 = [ [0] * 10] * 10\n",
    "# l2 = []\n",
    "# for i in range(10):\n",
    "#     l2.append([0] * 10)\n",
    "pprint.pprint(l2)\n",
    "l2[1][3] = 100\n",
    "print(l2)"
   ]
  },
  {
   "cell_type": "code",
   "execution_count": 260,
   "id": "8fbb4470-dcb6-4ecb-922c-3631646143f0",
   "metadata": {},
   "outputs": [
    {
     "name": "stdout",
     "output_type": "stream",
     "text": [
      "[[0, 0, 0, 0, 0, 0, 0, 0, 0, 0], [0, 0, 0, 0, 0, 0, 0, 0, 0, 0], [0, 0, 0, 0, 0, 0, 0, 0, 0, 0], [0, 0, 0, 0, 0, 0, 0, 0, 0, 0], [0, 0, 0, 0, 0, 0, 0, 0, 0, 0], [0, 0, 0, 0, 0, 0, 0, 0, 0, 0], [0, 0, 0, 0, 0, 0, 0, 0, 0, 0], [0, 0, 0, 0, 0, 0, 0, 0, 0, 0], [0, 0, 0, 0, 0, 0, 0, 0, 0, 0], [0, 0, 0, 0, 0, 0, 0, 0, 0, 0]]\n"
     ]
    }
   ],
   "source": [
    "l2 = []\n",
    "for i in range(10):\n",
    "    x = []\n",
    "    for j in range(10):\n",
    "        x.append(0)\n",
    "    l2.append(x)\n",
    "print(l2)"
   ]
  },
  {
   "cell_type": "code",
   "execution_count": 258,
   "id": "2f99c1e5-dfdf-442c-8e5e-a117730e498f",
   "metadata": {},
   "outputs": [
    {
     "name": "stdout",
     "output_type": "stream",
     "text": [
      "[[0, 0, 0, 0, 0, 0, 0, 0, 0, 0],\n",
      " [0, 0, 0, 100, 0, 0, 0, 0, 0, 0],\n",
      " [0, 0, 0, 0, 0, 0, 0, 0, 0, 0],\n",
      " [0, 0, 0, 0, 0, 0, 0, 0, 0, 0],\n",
      " [0, 0, 0, 0, 0, 0, 0, 0, 0, 0],\n",
      " [0, 0, 0, 0, 0, 0, 0, 0, 0, 0],\n",
      " [0, 0, 0, 0, 0, 0, 0, 0, 0, 0],\n",
      " [0, 0, 0, 0, 0, 0, 0, 0, 0, 0],\n",
      " [0, 0, 0, 0, 0, 0, 0, 0, 0, 0],\n",
      " [0, 0, 0, 0, 0, 0, 0, 0, 0, 0]]\n"
     ]
    }
   ],
   "source": [
    "l2[1][3] = 100\n",
    "pprint.pprint(l2)"
   ]
  },
  {
   "cell_type": "code",
   "execution_count": null,
   "id": "d5479208-a081-45f8-8434-28ed68f6aee4",
   "metadata": {},
   "outputs": [],
   "source": []
  }
 ],
 "metadata": {
  "kernelspec": {
   "display_name": "Python 3 (ipykernel)",
   "language": "python",
   "name": "python3"
  },
  "language_info": {
   "codemirror_mode": {
    "name": "ipython",
    "version": 3
   },
   "file_extension": ".py",
   "mimetype": "text/x-python",
   "name": "python",
   "nbconvert_exporter": "python",
   "pygments_lexer": "ipython3",
   "version": "3.12.4"
  }
 },
 "nbformat": 4,
 "nbformat_minor": 5
}
