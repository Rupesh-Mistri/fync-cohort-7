{
 "cells": [
  {
   "cell_type": "markdown",
   "id": "2bb69310-fbfd-491f-a987-c2a398c24020",
   "metadata": {},
   "source": [
    "# List of elements"
   ]
  },
  {
   "cell_type": "code",
   "execution_count": 1,
   "id": "4c8a54d7-6195-42f4-9e93-57f1267e1bbe",
   "metadata": {},
   "outputs": [
    {
     "name": "stdout",
     "output_type": "stream",
     "text": [
      "[4, 5, 7, 8]\n",
      "<class 'list'>\n"
     ]
    }
   ],
   "source": [
    "var1 = [4, 5, 7, 8]\n",
    "print(var1)\n",
    "print(type(var1))"
   ]
  },
  {
   "cell_type": "code",
   "execution_count": 4,
   "id": "e1c9b17a-2132-4561-82ce-2ee24a5e71da",
   "metadata": {},
   "outputs": [
    {
     "name": "stdout",
     "output_type": "stream",
     "text": [
      "4\n"
     ]
    }
   ],
   "source": [
    "print(var1[0])"
   ]
  },
  {
   "cell_type": "code",
   "execution_count": 8,
   "id": "32c13da9-59e3-4eb7-9c50-c6b16146aad9",
   "metadata": {},
   "outputs": [
    {
     "name": "stdout",
     "output_type": "stream",
     "text": [
      "7\n"
     ]
    }
   ],
   "source": [
    "print(var1[2])"
   ]
  },
  {
   "cell_type": "markdown",
   "id": "28715cbf-3887-4b60-9993-2e41402b5744",
   "metadata": {},
   "source": [
    "### In Python list you can store any data type"
   ]
  },
  {
   "cell_type": "code",
   "execution_count": 16,
   "id": "627fef8f-27d1-4ff4-9f1d-51b669b47179",
   "metadata": {},
   "outputs": [
    {
     "name": "stdout",
     "output_type": "stream",
     "text": [
      "['Rajat', 'Jain', 34, 45.33, True, False]\n"
     ]
    }
   ],
   "source": [
    "var2 = [\"Rajat\", 'Jain', 34, 45.33, True, False]\n",
    "print(var2)"
   ]
  },
  {
   "cell_type": "code",
   "execution_count": 24,
   "id": "f501ec2d-4c4f-478c-9541-4c3244001d1d",
   "metadata": {},
   "outputs": [
    {
     "name": "stdout",
     "output_type": "stream",
     "text": [
      "['Rajat', 'Jain', 34, [100, 200, 300]]\n"
     ]
    }
   ],
   "source": [
    "x = [100, 200, 300]\n",
    "var3 = [\"Rajat\", 'Jain', 34, x]\n",
    "# var3 = [\"Rajat\", 'Jain', 34, [100, 200, 300]]\n",
    "print(var3)"
   ]
  },
  {
   "cell_type": "code",
   "execution_count": 40,
   "id": "000eb297-c922-4cb3-a9a6-399c650461de",
   "metadata": {},
   "outputs": [
    {
     "name": "stdout",
     "output_type": "stream",
     "text": [
      "[100, 200, 300]\n",
      "a\n"
     ]
    }
   ],
   "source": [
    "y = var3[3]\n",
    "print(y)\n",
    "print(var3[0][1])"
   ]
  },
  {
   "cell_type": "markdown",
   "id": "3bde42b2-7a27-4995-83f5-a97fe56c711c",
   "metadata": {},
   "source": [
    "#### Appending the element from the list"
   ]
  },
  {
   "cell_type": "code",
   "execution_count": 60,
   "id": "aaa8c5b4-6fef-4aec-9649-dcc625a7f41e",
   "metadata": {},
   "outputs": [
    {
     "name": "stdout",
     "output_type": "stream",
     "text": [
      "[3, 4, ['Rajat', 'Jain']]\n",
      "[3, 4, ['Rajat', 'Jain', 'Fynd']]\n"
     ]
    }
   ],
   "source": [
    "var4 = []\n",
    "var4.append(3)\n",
    "var4.append(4)\n",
    "var4.append([\"Rajat\", \"Jain\"])\n",
    "print(var4)\n",
    "var4[2].append(\"Fynd\")\n",
    "print(var4)"
   ]
  },
  {
   "cell_type": "markdown",
   "id": "826c86eb-d287-45a8-b0eb-69bab4d14eee",
   "metadata": {},
   "source": [
    "#### Deleting an element from list"
   ]
  },
  {
   "cell_type": "code",
   "execution_count": 66,
   "id": "a3aa9f12-e755-4cce-b09b-3547f70783ee",
   "metadata": {},
   "outputs": [
    {
     "name": "stdout",
     "output_type": "stream",
     "text": [
      "['Rajat', 'Jain', [100, 200, 300]]\n",
      "['Rajat', 'Jain', [200, 300]]\n"
     ]
    }
   ],
   "source": [
    "var5 = ['Rajat', 'Jain', 34, [100, 200, 300]]\n",
    "del var5[2]\n",
    "print(var5)\n",
    "del var5[2][0]\n",
    "print(var5)"
   ]
  },
  {
   "cell_type": "markdown",
   "id": "5ad0c709-7b8e-459c-9616-4c5dd4b1caeb",
   "metadata": {},
   "source": [
    "#### Accessing negative index"
   ]
  },
  {
   "cell_type": "code",
   "execution_count": 78,
   "id": "74db2e3d-3750-4607-8483-778b87f4fb90",
   "metadata": {},
   "outputs": [
    {
     "name": "stdout",
     "output_type": "stream",
     "text": [
      "False\n",
      "True\n",
      "45.33\n",
      "34\n",
      "Jain\n"
     ]
    }
   ],
   "source": [
    "var6 = [\"Rajat\", 'Jain', 34, 45.33, True, False]\n",
    "print(var6[-1])\n",
    "print(var6[-2])\n",
    "print(var6[-3])\n",
    "print(var6[-4])\n",
    "print(var6[-5])"
   ]
  },
  {
   "cell_type": "code",
   "execution_count": 89,
   "id": "e644694c-9d8c-4195-9590-0c57bca7eae0",
   "metadata": {},
   "outputs": [
    {
     "name": "stdout",
     "output_type": "stream",
     "text": [
      "[0, 1, 2, 3, 4, 5, 6, 7, 8, 9]\n"
     ]
    }
   ],
   "source": [
    "arr1 = []\n",
    "for i in range(10):\n",
    "    arr1.append(0)\n",
    "print(arr1)"
   ]
  },
  {
   "cell_type": "code",
   "execution_count": 97,
   "id": "25217d57-c2e5-4339-98a2-f9adafa7153b",
   "metadata": {},
   "outputs": [
    {
     "name": "stdout",
     "output_type": "stream",
     "text": [
      "['0', '0', '0', '0', '0', '0', '0', '0', '0', '0']\n"
     ]
    }
   ],
   "source": [
    "arr1_1 = ['0'] * 10\n",
    "print(arr1_1)"
   ]
  },
  {
   "cell_type": "code",
   "execution_count": 103,
   "id": "a64b7aa2-7607-4159-89ef-1c85136810c8",
   "metadata": {},
   "outputs": [
    {
     "name": "stdout",
     "output_type": "stream",
     "text": [
      "['Fynd', 'Arihant', 34, 45.33, True, False]\n"
     ]
    }
   ],
   "source": [
    "var6 = [\"Rajat\", 'Jain', 34, 45.33, True, False]\n",
    "var6[0] = \"Fynd\"\n",
    "var6[1] = \"Arihant\"\n",
    "print(var6)\n"
   ]
  },
  {
   "cell_type": "markdown",
   "id": "2364bde9-8c82-45ca-85fb-29cf361f1335",
   "metadata": {},
   "source": [
    "## Slicing of list"
   ]
  },
  {
   "cell_type": "code",
   "execution_count": 108,
   "id": "c5310e0d-4f0b-4b64-86a1-43562c15ea02",
   "metadata": {},
   "outputs": [
    {
     "name": "stdout",
     "output_type": "stream",
     "text": [
      "[1, 2, 3, 4, 5]\n",
      "[4, 5, 6, 7]\n"
     ]
    }
   ],
   "source": [
    "arr1 = [0, 1, 2, 3, 4, 5, 6, 7, 8, 9]\n",
    "print(arr1[1 : 6])\n",
    "print(arr1[4 : 8])"
   ]
  },
  {
   "cell_type": "code",
   "execution_count": 118,
   "id": "67d45c3c-732f-4295-a8d6-3ad68f07ee93",
   "metadata": {},
   "outputs": [
    {
     "name": "stdout",
     "output_type": "stream",
     "text": [
      "[3, 4, 5, 6, 7, 8, 9]\n"
     ]
    }
   ],
   "source": [
    "# arr1[3: 10]\n",
    "print(arr1[3: ])"
   ]
  },
  {
   "cell_type": "code",
   "execution_count": 120,
   "id": "ced8f728-598c-4aeb-9806-57a8a4bd298c",
   "metadata": {},
   "outputs": [
    {
     "name": "stdout",
     "output_type": "stream",
     "text": [
      "[0, 1, 2, 3, 4]\n"
     ]
    }
   ],
   "source": [
    "# arr1[0: 5]\n",
    "print(arr1[ : 5])"
   ]
  },
  {
   "cell_type": "code",
   "execution_count": 124,
   "id": "c861e194-fd24-4610-a812-9dc5d73fd49e",
   "metadata": {},
   "outputs": [
    {
     "name": "stdout",
     "output_type": "stream",
     "text": [
      "quick \n"
     ]
    }
   ],
   "source": [
    "x = \"The quick brown fox jumps over the lazy dog.\"\n",
    "print(x[4: 10])"
   ]
  },
  {
   "cell_type": "code",
   "execution_count": 132,
   "id": "c0bf4f91-5cf1-4a38-b123-0ecd7f210a69",
   "metadata": {},
   "outputs": [
    {
     "name": "stdout",
     "output_type": "stream",
     "text": [
      "[0, 2, 4, 6, 8]\n",
      "[0, 3, 6, 9]\n"
     ]
    }
   ],
   "source": [
    "arr1 = [0, 1, 2, 3, 4, 5, 6, 7, 8, 9]\n",
    "print(arr1[0: 10: 2])\n",
    "print(arr1[:: 3])"
   ]
  },
  {
   "cell_type": "code",
   "execution_count": 136,
   "id": "ec93f319-ac4d-4c19-983f-d8a7fd865a3f",
   "metadata": {},
   "outputs": [
    {
     "name": "stdout",
     "output_type": "stream",
     "text": [
      "[9, 8, 7, 6, 5, 4]\n"
     ]
    }
   ],
   "source": [
    "arr1 = [0, 1, 2, 3, 4, 5, 6, 7, 8, 9]\n",
    "print(arr1[-1: -7: -1])\n"
   ]
  },
  {
   "cell_type": "code",
   "execution_count": 138,
   "id": "8d8405e1-ddc2-4a8b-bb4c-75159309751e",
   "metadata": {},
   "outputs": [
    {
     "name": "stdout",
     "output_type": "stream",
     "text": [
      "[9, 8, 7, 6, 5, 4, 3]\n"
     ]
    }
   ],
   "source": [
    "print(arr1[9: 2: -1])"
   ]
  },
  {
   "cell_type": "code",
   "execution_count": 160,
   "id": "c9b8d526-af46-48cb-bea2-800e2a3636e4",
   "metadata": {},
   "outputs": [
    {
     "name": "stdout",
     "output_type": "stream",
     "text": [
      "[1, 2, 3, 4, 5, 6, 7]\n"
     ]
    }
   ],
   "source": [
    "print(arr1[-9: -2: 1])"
   ]
  },
  {
   "cell_type": "markdown",
   "id": "76d7124f-7e96-4a94-88dc-063a8c384731",
   "metadata": {},
   "source": [
    "### Using slice in python"
   ]
  },
  {
   "cell_type": "code",
   "execution_count": 156,
   "id": "53db1f65-66cc-489a-994d-6f67fc3e0e2b",
   "metadata": {},
   "outputs": [
    {
     "name": "stdout",
     "output_type": "stream",
     "text": [
      "[2, 4, 6]\n"
     ]
    }
   ],
   "source": [
    "a = slice(2,8,2)\n",
    "print(arr1[a])"
   ]
  },
  {
   "cell_type": "code",
   "execution_count": 154,
   "id": "5ce61e12-4e0d-49bc-a03e-0ca966c8ac22",
   "metadata": {},
   "outputs": [
    {
     "data": {
      "text/plain": [
       "[2, 4, 6]"
      ]
     },
     "execution_count": 154,
     "metadata": {},
     "output_type": "execute_result"
    }
   ],
   "source": [
    "arr1[slice(2,8,2)]"
   ]
  },
  {
   "cell_type": "code",
   "execution_count": 172,
   "id": "51f499ca-192c-45e2-abf0-05cb813d467c",
   "metadata": {},
   "outputs": [
    {
     "data": {
      "text/plain": [
       "[1, 2]"
      ]
     },
     "execution_count": 172,
     "metadata": {},
     "output_type": "execute_result"
    }
   ],
   "source": [
    "def myFun(x):\n",
    "    arr = [0, 1, 2, 3, 4, 5, 6, 7, 8, 9]\n",
    "    return arr[x]\n",
    "    \n",
    "def myFun2(x):\n",
    "    arr = [0, 1, 2, 3, 4, 5, 6, 7, 8, 9]\n",
    "    return arr[x]\n",
    "    \n",
    "def myFun3(x):\n",
    "    arr = [0, 1, 2, 3, 4, 5, 6, 7, 8, 9]\n",
    "    return arr[x]\n",
    "myslice = slice(1,3)\n",
    "myFun(myslice)\n",
    "myFun2(myslice)\n",
    "myFun3(myslice)"
   ]
  },
  {
   "cell_type": "code",
   "execution_count": 178,
   "id": "64b60169-03ea-462d-97b8-6df26a0b3bf5",
   "metadata": {},
   "outputs": [
    {
     "data": {
      "text/plain": [
       "[1, 2]"
      ]
     },
     "execution_count": 178,
     "metadata": {},
     "output_type": "execute_result"
    }
   ],
   "source": [
    "def myFun(x1, x2):\n",
    "    arr = [0, 1, 2, 3, 4, 5, 6, 7, 8, 9]\n",
    "    return arr[x1: x2]\n",
    "\n",
    "def myFun2(x1, x2):\n",
    "    arr = [0, 1, 2, 3, 4, 5, 6, 7, 8, 9]\n",
    "    return arr[x1: x2]\n",
    "\n",
    "def myFun3(x1, x2):\n",
    "    arr = [0, 1, 2, 3, 4, 5, 6, 7, 8, 9]\n",
    "    return arr[x1: x2]\n",
    "\n",
    "myFun(1, 3)\n",
    "myFun2(1, 3)\n",
    "myFun3(1, 3)"
   ]
  },
  {
   "cell_type": "code",
   "execution_count": 201,
   "id": "ad364758-5284-47ce-9356-943a7c516b24",
   "metadata": {},
   "outputs": [
    {
     "name": "stdout",
     "output_type": "stream",
     "text": [
      "hello 0\n",
      "hello 1\n",
      "hello 2\n",
      "Rajat Jain\n",
      "hello 4\n",
      "hello 5\n",
      "hello 6\n",
      "hello 7\n",
      "hello 8\n",
      "hello 9\n"
     ]
    }
   ],
   "source": [
    "arr = []\n",
    "for i in range(10):\n",
    "    arr.append(\"hello \" + str(i))\n",
    "# print(arr)\n",
    "\n",
    "# for i in arr:\n",
    "#     print(i)\n",
    "\n",
    "for i in range(len(arr)):\n",
    "    if i == 3:\n",
    "        arr[i] = \"Rajat Jain\"\n",
    "    print(arr[i])\n"
   ]
  },
  {
   "cell_type": "code",
   "execution_count": 207,
   "id": "6a50fe40-7bcc-45dd-9a8b-412b08eb1b97",
   "metadata": {},
   "outputs": [
    {
     "name": "stdout",
     "output_type": "stream",
     "text": [
      "False\n"
     ]
    }
   ],
   "source": [
    "\n",
    "# write the code to find if a particular element exist in a list\n",
    "#input = arr, x\n",
    "\n",
    "def checkValue(arr, x):\n",
    "    for i in range(len(arr)):\n",
    "        if arr[i] == x:\n",
    "            return True\n",
    "    return False\n",
    "\n",
    "def checkValue(arr, x):\n",
    "    for i in arr:\n",
    "        if i == x:\n",
    "            return True\n",
    "    return False\n",
    "\n",
    "print(checkValue([4,6,7,8,9,100,200] , -7))\n"
   ]
  },
  {
   "cell_type": "code",
   "execution_count": 209,
   "id": "a45628d6-923d-47f6-a398-f70fa1f24374",
   "metadata": {},
   "outputs": [
    {
     "name": "stdout",
     "output_type": "stream",
     "text": [
      "False\n"
     ]
    }
   ],
   "source": [
    "def checkValue(arr, x):\n",
    "    if x in arr:\n",
    "        return True\n",
    "    else:\n",
    "        return False\n",
    "\n",
    "print(checkValue([4,6,7,8,9,100,200] ,6))"
   ]
  },
  {
   "cell_type": "code",
   "execution_count": null,
   "id": "d47366d6-38cc-41cb-9360-c3d18cad2c76",
   "metadata": {},
   "outputs": [],
   "source": [
    "def checkValue(arr, x):\n",
    "    return x in arr\n",
    "\n",
    "print(checkValue([4,6,7,8,9,100,200] ,6))\n"
   ]
  },
  {
   "cell_type": "markdown",
   "id": "bd1e9455-9ac3-433a-a2c3-5be71a502b9c",
   "metadata": {},
   "source": [
    "### Joining two lists"
   ]
  },
  {
   "cell_type": "code",
   "execution_count": 223,
   "id": "2e159d82-fecf-429a-93c0-3506339269c5",
   "metadata": {},
   "outputs": [
    {
     "name": "stdout",
     "output_type": "stream",
     "text": [
      "[1, 2, 3]\n",
      "[4, 5, 6]\n",
      "[1, 2, 3, 4, 5, 6]\n"
     ]
    }
   ],
   "source": [
    "a = [1,2,3]\n",
    "b = [4,5,6]\n",
    "c = a + b\n",
    "print(a, b, c, sep=\"\\n\")\n"
   ]
  },
  {
   "cell_type": "code",
   "execution_count": 227,
   "id": "2c434386-253c-44c3-b6ac-543918ddb13a",
   "metadata": {},
   "outputs": [
    {
     "name": "stdout",
     "output_type": "stream",
     "text": [
      "[1, 2, 3, 4, 5, 6]\n",
      "[4, 5, 6]\n"
     ]
    }
   ],
   "source": [
    "a = [1,2,3]\n",
    "b = [4,5,6]\n",
    "for i in b:\n",
    "    a.append(i)\n",
    "print(a)\n",
    "print(b)"
   ]
  },
  {
   "cell_type": "markdown",
   "id": "43f05c0c-3ac4-4d33-8e78-12fd1108fbc0",
   "metadata": {},
   "source": [
    "### Sorting in Python"
   ]
  },
  {
   "cell_type": "code",
   "execution_count": 235,
   "id": "e10c9b18-8da0-4ec0-80df-1dc8266cbe95",
   "metadata": {},
   "outputs": [
    {
     "name": "stdout",
     "output_type": "stream",
     "text": [
      "[-10, 1, 2, 3, 5, 50, 60, 78]\n"
     ]
    }
   ],
   "source": [
    "arr = [60, 5, 78, 3, 1, 2, -10, 50]\n",
    "arr.sort()\n",
    "print(arr)"
   ]
  },
  {
   "cell_type": "code",
   "execution_count": 237,
   "id": "a0f09235-fbb7-4b9f-9d61-ca8755809fab",
   "metadata": {},
   "outputs": [
    {
     "name": "stdout",
     "output_type": "stream",
     "text": [
      "[78, 60, 50, 5, 3, 2, 1, -10]\n"
     ]
    }
   ],
   "source": [
    "arr = [60, 5, 78, 3, 1, 2, -10, 50]\n",
    "arr.sort(reverse = True)\n",
    "print(arr)"
   ]
  },
  {
   "cell_type": "code",
   "execution_count": 239,
   "id": "be9038ae-7669-46cd-9b28-26ee37f8844d",
   "metadata": {},
   "outputs": [
    {
     "name": "stdout",
     "output_type": "stream",
     "text": [
      "[60, 5, 78, 3, 1, 2, -10, 50]\n",
      "[-10, 1, 2, 3, 5, 50, 60, 78]\n"
     ]
    }
   ],
   "source": [
    "arr = [60, 5, 78, 3, 1, 2, -10, 50]\n",
    "arr2 = sorted(arr)\n",
    "print(arr)\n",
    "print(arr2)"
   ]
  },
  {
   "cell_type": "code",
   "execution_count": 241,
   "id": "757ad989-ab71-48a9-81d0-c43200a941d5",
   "metadata": {},
   "outputs": [
    {
     "name": "stdout",
     "output_type": "stream",
     "text": [
      "[60, 5, 78, 3, 1, 2, -10, 50]\n",
      "[78, 60, 50, 5, 3, 2, 1, -10]\n"
     ]
    }
   ],
   "source": [
    "arr = [60, 5, 78, 3, 1, 2, -10, 50]\n",
    "arr2 = sorted(arr, reverse = True)\n",
    "print(arr)\n",
    "print(arr2)"
   ]
  },
  {
   "cell_type": "code",
   "execution_count": 244,
   "id": "f187ba65-0643-49d3-be4d-660b6dd99ede",
   "metadata": {},
   "outputs": [
    {
     "name": "stdout",
     "output_type": "stream",
     "text": [
      "['001', '01', '1', '100', '1000', '4', '60', '78']\n"
     ]
    }
   ],
   "source": [
    "arr = [\"60\", \"1\", \"01\", \"1000\", \"78\", \"001\", \"4\", \"100\"]\n",
    "arr.sort()\n",
    "print(arr)"
   ]
  },
  {
   "cell_type": "code",
   "execution_count": 250,
   "id": "ccb52f25-5a4f-4837-9046-34536f3d67c7",
   "metadata": {},
   "outputs": [
    {
     "ename": "TypeError",
     "evalue": "'<' not supported between instances of 'int' and 'str'",
     "output_type": "error",
     "traceback": [
      "\u001b[1;31m---------------------------------------------------------------------------\u001b[0m",
      "\u001b[1;31mTypeError\u001b[0m                                 Traceback (most recent call last)",
      "Cell \u001b[1;32mIn[250], line 2\u001b[0m\n\u001b[0;32m      1\u001b[0m arr \u001b[38;5;241m=\u001b[39m [\u001b[38;5;124m\"\u001b[39m\u001b[38;5;124mA\u001b[39m\u001b[38;5;124m\"\u001b[39m, \u001b[38;5;124m\"\u001b[39m\u001b[38;5;124mB\u001b[39m\u001b[38;5;124m\"\u001b[39m, \u001b[38;5;124m\"\u001b[39m\u001b[38;5;124ma\u001b[39m\u001b[38;5;124m\"\u001b[39m, \u001b[38;5;124m\"\u001b[39m\u001b[38;5;124maaaaaaa\u001b[39m\u001b[38;5;124m\"\u001b[39m, \u001b[38;5;124m\"\u001b[39m\u001b[38;5;124m34\u001b[39m\u001b[38;5;124m\"\u001b[39m, \u001b[38;5;241m34\u001b[39m]\n\u001b[1;32m----> 2\u001b[0m arr\u001b[38;5;241m.\u001b[39msort()\n\u001b[0;32m      3\u001b[0m \u001b[38;5;28mprint\u001b[39m(arr)\n",
      "\u001b[1;31mTypeError\u001b[0m: '<' not supported between instances of 'int' and 'str'"
     ]
    }
   ],
   "source": [
    "arr = [\"A\", \"B\", \"a\", \"aaaaaaa\", \"34\", 34]\n",
    "arr.sort()\n",
    "print(arr)"
   ]
  },
  {
   "cell_type": "code",
   "execution_count": 252,
   "id": "1f1e3d1f-61d9-48f2-a4b2-5df9d071f608",
   "metadata": {},
   "outputs": [
    {
     "name": "stdout",
     "output_type": "stream",
     "text": [
      "[False, True, 23.32, 45]\n"
     ]
    }
   ],
   "source": [
    "arr = [1, 0, 45, 23.32]\n",
    "arr.sort()\n",
    "print(arr)"
   ]
  },
  {
   "cell_type": "code",
   "execution_count": 262,
   "id": "de5da271-af62-49bd-b832-8ffb6884ce1f",
   "metadata": {},
   "outputs": [
    {
     "name": "stdout",
     "output_type": "stream",
     "text": [
      "Hello Inside\n"
     ]
    }
   ],
   "source": [
    "def func1():\n",
    "\n",
    "    def func2():\n",
    "        print(\"Hello Inside\")\n",
    "\n",
    "    return func2\n",
    "\n",
    "x = func1()\n",
    "x()"
   ]
  },
  {
   "cell_type": "code",
   "execution_count": 270,
   "id": "0d283583-c713-49d5-b2dc-76979bc4dd01",
   "metadata": {},
   "outputs": [
    {
     "name": "stdout",
     "output_type": "stream",
     "text": [
      "['Shubham', 'Fynd']\n"
     ]
    }
   ],
   "source": [
    "arr = [\"Rajat\", \"Fynd\"]\n",
    "arr[0] = \"Shubham\"\n",
    "print(arr)"
   ]
  },
  {
   "cell_type": "code",
   "execution_count": null,
   "id": "597ce95b-aaae-48ec-8670-85acb9cf95fb",
   "metadata": {},
   "outputs": [],
   "source": []
  }
 ],
 "metadata": {
  "kernelspec": {
   "display_name": "Python 3 (ipykernel)",
   "language": "python",
   "name": "python3"
  },
  "language_info": {
   "codemirror_mode": {
    "name": "ipython",
    "version": 3
   },
   "file_extension": ".py",
   "mimetype": "text/x-python",
   "name": "python",
   "nbconvert_exporter": "python",
   "pygments_lexer": "ipython3",
   "version": "3.12.4"
  }
 },
 "nbformat": 4,
 "nbformat_minor": 5
}
