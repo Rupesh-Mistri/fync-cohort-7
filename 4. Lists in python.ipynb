{
 "cells": [
  {
   "cell_type": "markdown",
   "id": "2bb69310-fbfd-491f-a987-c2a398c24020",
   "metadata": {},
   "source": [
    "# List of elements"
   ]
  },
  {
   "cell_type": "code",
   "execution_count": 1,
   "id": "4c8a54d7-6195-42f4-9e93-57f1267e1bbe",
   "metadata": {},
   "outputs": [
    {
     "name": "stdout",
     "output_type": "stream",
     "text": [
      "[4, 5, 7, 8]\n",
      "<class 'list'>\n"
     ]
    }
   ],
   "source": [
    "var1 = [4, 5, 7, 8]\n",
    "print(var1)\n",
    "print(type(var1))"
   ]
  },
  {
   "cell_type": "code",
   "execution_count": 4,
   "id": "e1c9b17a-2132-4561-82ce-2ee24a5e71da",
   "metadata": {},
   "outputs": [
    {
     "name": "stdout",
     "output_type": "stream",
     "text": [
      "4\n"
     ]
    }
   ],
   "source": [
    "print(var1[0])"
   ]
  },
  {
   "cell_type": "code",
   "execution_count": 8,
   "id": "32c13da9-59e3-4eb7-9c50-c6b16146aad9",
   "metadata": {},
   "outputs": [
    {
     "name": "stdout",
     "output_type": "stream",
     "text": [
      "7\n"
     ]
    }
   ],
   "source": [
    "print(var1[2])"
   ]
  },
  {
   "cell_type": "markdown",
   "id": "28715cbf-3887-4b60-9993-2e41402b5744",
   "metadata": {},
   "source": [
    "### In Python list you can store any data type"
   ]
  },
  {
   "cell_type": "code",
   "execution_count": 16,
   "id": "627fef8f-27d1-4ff4-9f1d-51b669b47179",
   "metadata": {},
   "outputs": [
    {
     "name": "stdout",
     "output_type": "stream",
     "text": [
      "['Rajat', 'Jain', 34, 45.33, True, False]\n"
     ]
    }
   ],
   "source": [
    "var2 = [\"Rajat\", 'Jain', 34, 45.33, True, False]\n",
    "print(var2)"
   ]
  },
  {
   "cell_type": "code",
   "execution_count": 24,
   "id": "f501ec2d-4c4f-478c-9541-4c3244001d1d",
   "metadata": {},
   "outputs": [
    {
     "name": "stdout",
     "output_type": "stream",
     "text": [
      "['Rajat', 'Jain', 34, [100, 200, 300]]\n"
     ]
    }
   ],
   "source": [
    "x = [100, 200, 300]\n",
    "var3 = [\"Rajat\", 'Jain', 34, x]\n",
    "# var3 = [\"Rajat\", 'Jain', 34, [100, 200, 300]]\n",
    "print(var3)"
   ]
  },
  {
   "cell_type": "code",
   "execution_count": 40,
   "id": "000eb297-c922-4cb3-a9a6-399c650461de",
   "metadata": {},
   "outputs": [
    {
     "name": "stdout",
     "output_type": "stream",
     "text": [
      "[100, 200, 300]\n",
      "a\n"
     ]
    }
   ],
   "source": [
    "y = var3[3]\n",
    "print(y)\n",
    "print(var3[0][1])"
   ]
  },
  {
   "cell_type": "markdown",
   "id": "3bde42b2-7a27-4995-83f5-a97fe56c711c",
   "metadata": {},
   "source": [
    "#### Appending the element from the list"
   ]
  },
  {
   "cell_type": "code",
   "execution_count": 60,
   "id": "aaa8c5b4-6fef-4aec-9649-dcc625a7f41e",
   "metadata": {},
   "outputs": [
    {
     "name": "stdout",
     "output_type": "stream",
     "text": [
      "[3, 4, ['Rajat', 'Jain']]\n",
      "[3, 4, ['Rajat', 'Jain', 'Fynd']]\n"
     ]
    }
   ],
   "source": [
    "var4 = []\n",
    "var4.append(3)\n",
    "var4.append(4)\n",
    "var4.append([\"Rajat\", \"Jain\"])\n",
    "print(var4)\n",
    "var4[2].append(\"Fynd\")\n",
    "print(var4)"
   ]
  },
  {
   "cell_type": "markdown",
   "id": "826c86eb-d287-45a8-b0eb-69bab4d14eee",
   "metadata": {},
   "source": [
    "#### Deleting an element from list"
   ]
  },
  {
   "cell_type": "code",
   "execution_count": 66,
   "id": "a3aa9f12-e755-4cce-b09b-3547f70783ee",
   "metadata": {},
   "outputs": [
    {
     "name": "stdout",
     "output_type": "stream",
     "text": [
      "['Rajat', 'Jain', [100, 200, 300]]\n",
      "['Rajat', 'Jain', [200, 300]]\n"
     ]
    }
   ],
   "source": [
    "var5 = ['Rajat', 'Jain', 34, [100, 200, 300]]\n",
    "del var5[2]\n",
    "print(var5)\n",
    "del var5[2][0]\n",
    "print(var5)"
   ]
  },
  {
   "cell_type": "markdown",
   "id": "5ad0c709-7b8e-459c-9616-4c5dd4b1caeb",
   "metadata": {},
   "source": [
    "#### Accessing negative index"
   ]
  },
  {
   "cell_type": "code",
   "execution_count": 78,
   "id": "74db2e3d-3750-4607-8483-778b87f4fb90",
   "metadata": {},
   "outputs": [
    {
     "name": "stdout",
     "output_type": "stream",
     "text": [
      "False\n",
      "True\n",
      "45.33\n",
      "34\n",
      "Jain\n"
     ]
    }
   ],
   "source": [
    "var6 = [\"Rajat\", 'Jain', 34, 45.33, True, False]\n",
    "print(var6[-1])\n",
    "print(var6[-2])\n",
    "print(var6[-3])\n",
    "print(var6[-4])\n",
    "print(var6[-5])"
   ]
  },
  {
   "cell_type": "code",
   "execution_count": 89,
   "id": "e644694c-9d8c-4195-9590-0c57bca7eae0",
   "metadata": {},
   "outputs": [
    {
     "name": "stdout",
     "output_type": "stream",
     "text": [
      "[0, 1, 2, 3, 4, 5, 6, 7, 8, 9]\n"
     ]
    }
   ],
   "source": [
    "arr1 = []\n",
    "for i in range(10):\n",
    "    arr1.append(0)\n",
    "print(arr1)"
   ]
  },
  {
   "cell_type": "code",
   "execution_count": 97,
   "id": "25217d57-c2e5-4339-98a2-f9adafa7153b",
   "metadata": {},
   "outputs": [
    {
     "name": "stdout",
     "output_type": "stream",
     "text": [
      "['0', '0', '0', '0', '0', '0', '0', '0', '0', '0']\n"
     ]
    }
   ],
   "source": [
    "arr1_1 = ['0'] * 10\n",
    "print(arr1_1)"
   ]
  },
  {
   "cell_type": "code",
   "execution_count": 103,
   "id": "a64b7aa2-7607-4159-89ef-1c85136810c8",
   "metadata": {},
   "outputs": [
    {
     "name": "stdout",
     "output_type": "stream",
     "text": [
      "['Fynd', 'Arihant', 34, 45.33, True, False]\n"
     ]
    }
   ],
   "source": [
    "var6 = [\"Rajat\", 'Jain', 34, 45.33, True, False]\n",
    "var6[0] = \"Fynd\"\n",
    "var6[1] = \"Arihant\"\n",
    "print(var6)\n"
   ]
  },
  {
   "cell_type": "markdown",
   "id": "2364bde9-8c82-45ca-85fb-29cf361f1335",
   "metadata": {},
   "source": [
    "## Slicing of list"
   ]
  },
  {
   "cell_type": "code",
   "execution_count": 108,
   "id": "c5310e0d-4f0b-4b64-86a1-43562c15ea02",
   "metadata": {},
   "outputs": [
    {
     "name": "stdout",
     "output_type": "stream",
     "text": [
      "[1, 2, 3, 4, 5]\n",
      "[4, 5, 6, 7]\n"
     ]
    }
   ],
   "source": [
    "arr1 = [0, 1, 2, 3, 4, 5, 6, 7, 8, 9]\n",
    "print(arr1[1 : 6])\n",
    "print(arr1[4 : 8])"
   ]
  },
  {
   "cell_type": "code",
   "execution_count": 118,
   "id": "67d45c3c-732f-4295-a8d6-3ad68f07ee93",
   "metadata": {},
   "outputs": [
    {
     "name": "stdout",
     "output_type": "stream",
     "text": [
      "[3, 4, 5, 6, 7, 8, 9]\n"
     ]
    }
   ],
   "source": [
    "# arr1[3: 10]\n",
    "print(arr1[3: ])"
   ]
  },
  {
   "cell_type": "code",
   "execution_count": 120,
   "id": "ced8f728-598c-4aeb-9806-57a8a4bd298c",
   "metadata": {},
   "outputs": [
    {
     "name": "stdout",
     "output_type": "stream",
     "text": [
      "[0, 1, 2, 3, 4]\n"
     ]
    }
   ],
   "source": [
    "# arr1[0: 5]\n",
    "print(arr1[ : 5])"
   ]
  },
  {
   "cell_type": "code",
   "execution_count": 124,
   "id": "c861e194-fd24-4610-a812-9dc5d73fd49e",
   "metadata": {},
   "outputs": [
    {
     "name": "stdout",
     "output_type": "stream",
     "text": [
      "quick \n"
     ]
    }
   ],
   "source": [
    "x = \"The quick brown fox jumps over the lazy dog.\"\n",
    "print(x[4: 10])"
   ]
  },
  {
   "cell_type": "code",
   "execution_count": 132,
   "id": "c0bf4f91-5cf1-4a38-b123-0ecd7f210a69",
   "metadata": {},
   "outputs": [
    {
     "name": "stdout",
     "output_type": "stream",
     "text": [
      "[0, 2, 4, 6, 8]\n",
      "[0, 3, 6, 9]\n"
     ]
    }
   ],
   "source": [
    "arr1 = [0, 1, 2, 3, 4, 5, 6, 7, 8, 9]\n",
    "print(arr1[0: 10: 2])\n",
    "print(arr1[:: 3])"
   ]
  },
  {
   "cell_type": "code",
   "execution_count": 136,
   "id": "ec93f319-ac4d-4c19-983f-d8a7fd865a3f",
   "metadata": {},
   "outputs": [
    {
     "name": "stdout",
     "output_type": "stream",
     "text": [
      "[9, 8, 7, 6, 5, 4]\n"
     ]
    }
   ],
   "source": [
    "arr1 = [0, 1, 2, 3, 4, 5, 6, 7, 8, 9]\n",
    "print(arr1[-1: -7: -1])\n"
   ]
  },
  {
   "cell_type": "code",
   "execution_count": 138,
   "id": "8d8405e1-ddc2-4a8b-bb4c-75159309751e",
   "metadata": {},
   "outputs": [
    {
     "name": "stdout",
     "output_type": "stream",
     "text": [
      "[9, 8, 7, 6, 5, 4, 3]\n"
     ]
    }
   ],
   "source": [
    "print(arr1[9: 2: -1])"
   ]
  },
  {
   "cell_type": "code",
   "execution_count": 160,
   "id": "c9b8d526-af46-48cb-bea2-800e2a3636e4",
   "metadata": {},
   "outputs": [
    {
     "name": "stdout",
     "output_type": "stream",
     "text": [
      "[1, 2, 3, 4, 5, 6, 7]\n"
     ]
    }
   ],
   "source": [
    "print(arr1[-9: -2: 1])"
   ]
  },
  {
   "cell_type": "code",
   "execution_count": 156,
   "id": "53db1f65-66cc-489a-994d-6f67fc3e0e2b",
   "metadata": {},
   "outputs": [
    {
     "name": "stdout",
     "output_type": "stream",
     "text": [
      "[2, 4, 6]\n"
     ]
    }
   ],
   "source": [
    "a = slice(2,8,2)\n",
    "print(arr1[a])"
   ]
  },
  {
   "cell_type": "code",
   "execution_count": 154,
   "id": "5ce61e12-4e0d-49bc-a03e-0ca966c8ac22",
   "metadata": {},
   "outputs": [
    {
     "data": {
      "text/plain": [
       "[2, 4, 6]"
      ]
     },
     "execution_count": 154,
     "metadata": {},
     "output_type": "execute_result"
    }
   ],
   "source": [
    "arr1[slice(2,8,2)]"
   ]
  },
  {
   "cell_type": "code",
   "execution_count": null,
   "id": "51f499ca-192c-45e2-abf0-05cb813d467c",
   "metadata": {},
   "outputs": [],
   "source": []
  }
 ],
 "metadata": {
  "kernelspec": {
   "display_name": "Python 3 (ipykernel)",
   "language": "python",
   "name": "python3"
  },
  "language_info": {
   "codemirror_mode": {
    "name": "ipython",
    "version": 3
   },
   "file_extension": ".py",
   "mimetype": "text/x-python",
   "name": "python",
   "nbconvert_exporter": "python",
   "pygments_lexer": "ipython3",
   "version": "3.12.4"
  }
 },
 "nbformat": 4,
 "nbformat_minor": 5
}
