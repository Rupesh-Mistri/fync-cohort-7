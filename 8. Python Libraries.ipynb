{
 "cells": [
  {
   "cell_type": "code",
   "execution_count": 3,
   "id": "1a0a3fc4-7dd7-4c4f-8e79-1898aa835066",
   "metadata": {},
   "outputs": [
    {
     "name": "stdout",
     "output_type": "stream",
     "text": [
      "140703184796376\n"
     ]
    }
   ],
   "source": [
    "a = 10\n",
    "print(id(a))"
   ]
  },
  {
   "cell_type": "code",
   "execution_count": 13,
   "id": "51ef3e95-ec45-46ab-a21a-519b5a0db52c",
   "metadata": {},
   "outputs": [
    {
     "name": "stdout",
     "output_type": "stream",
     "text": [
      "140703184796696\n"
     ]
    }
   ],
   "source": [
    "b = 10\n",
    "b = 20\n",
    "print(id(b))"
   ]
  },
  {
   "cell_type": "code",
   "execution_count": 39,
   "id": "784c9f58-27e2-45a3-993c-52d92154833c",
   "metadata": {},
   "outputs": [
    {
     "name": "stdout",
     "output_type": "stream",
     "text": [
      "[[0, 0, 0, 0, 0, 0, 0, 0, 0, 0],\n",
      " [0, 0, 0, 0, 0, 0, 0, 0, 0, 0],\n",
      " [0, 0, 0, 0, 0, 0, 0, 0, 0, 0],\n",
      " [0, 0, 0, 0, 0, 0, 0, 0, 0, 0],\n",
      " [0, 0, 0, 0, 0, 0, 0, 0, 0, 0],\n",
      " [0, 0, 0, 0, 0, 0, 0, 0, 0, 0],\n",
      " [0, 0, 0, 0, 0, 0, 0, 0, 0, 0],\n",
      " [0, 0, 0, 0, 0, 0, 0, 0, 0, 0],\n",
      " [0, 0, 0, 0, 0, 0, 0, 0, 0, 0],\n",
      " [0, 0, 0, 0, 0, 0, 0, 0, 0, 0]]\n",
      "1450221575616\n",
      "break\n",
      "[[0, 0, 0, 0, 200, 0, 0, 0, 0, 0],\n",
      " [0, 100, 0, 0, 0, 0, 0, 0, 0, 0],\n",
      " [0, 0, 0, 0, 200, 0, 0, 0, 0, 0],\n",
      " [0, 0, 0, 0, 200, 0, 0, 0, 0, 0],\n",
      " [0, 0, 0, 0, 200, 0, 0, 0, 0, 0],\n",
      " [0, 0, 0, 0, 200, 0, 0, 0, 0, 0],\n",
      " [0, 0, 0, 0, 200, 0, 0, 0, 0, 0],\n",
      " [0, 0, 0, 0, 200, 0, 0, 0, 0, 0],\n",
      " [0, 0, 0, 0, 200, 0, 0, 0, 0, 0],\n",
      " [0, 0, 0, 0, 200, 0, 0, 0, 0, 0]]\n",
      "1450190558144\n",
      "1450221575616\n",
      "1450221575616\n",
      "1450190558144\n",
      "1450221575616\n",
      "1450221575616\n",
      "1450221575616\n",
      "1450221575616\n",
      "1450221575616\n",
      "1450221575616\n",
      "1450221575616\n",
      "1450221575616\n"
     ]
    }
   ],
   "source": [
    "import pprint\n",
    "\n",
    "l2 = [[0]*10]*10 #nested list - same object referenced across all elements\n",
    "pprint.pprint(l2)\n",
    "print(id(l2[0]))\n",
    "print(\"break\")\n",
    "l2[1] = [0,100,0,0,0,0,0,0,0,0] # it is creating a new ref\n",
    "l2[2][4] = 200\n",
    "pprint.pprint(l2)\n",
    "print(id(l2[1])) #this is a new object being referred to now\n",
    "print(id(l2[0]))\n",
    "\n",
    "for i in l2:\n",
    "    print(id(i))"
   ]
  },
  {
   "cell_type": "code",
   "execution_count": 41,
   "id": "152258f6-254b-4aeb-be61-8b83cdca117a",
   "metadata": {},
   "outputs": [],
   "source": [
    "import numpy"
   ]
  },
  {
   "cell_type": "code",
   "execution_count": 47,
   "id": "4239f2be-0443-4eb3-a69e-cc10a988e486",
   "metadata": {},
   "outputs": [
    {
     "ename": "ModuleNotFoundError",
     "evalue": "No module named 'django'",
     "output_type": "error",
     "traceback": [
      "\u001b[1;31m---------------------------------------------------------------------------\u001b[0m",
      "\u001b[1;31mModuleNotFoundError\u001b[0m                       Traceback (most recent call last)",
      "Cell \u001b[1;32mIn[47], line 1\u001b[0m\n\u001b[1;32m----> 1\u001b[0m \u001b[38;5;28;01mimport\u001b[39;00m \u001b[38;5;21;01mdjango\u001b[39;00m\n",
      "\u001b[1;31mModuleNotFoundError\u001b[0m: No module named 'django'"
     ]
    }
   ],
   "source": [
    "import flask"
   ]
  },
  {
   "cell_type": "code",
   "execution_count": 51,
   "id": "e8151822-14bd-4b0b-91a5-c94edf6b4ac7",
   "metadata": {},
   "outputs": [
    {
     "data": {
      "text/plain": [
       "120"
      ]
     },
     "execution_count": 51,
     "metadata": {},
     "output_type": "execute_result"
    }
   ],
   "source": [
    "import math\n",
    "\n",
    "math.factorial(5)"
   ]
  },
  {
   "cell_type": "code",
   "execution_count": 55,
   "id": "a43b8a72-3101-48ed-83ee-553b12c2a4ba",
   "metadata": {},
   "outputs": [
    {
     "data": {
      "text/plain": [
       "120"
      ]
     },
     "execution_count": 55,
     "metadata": {},
     "output_type": "execute_result"
    }
   ],
   "source": [
    "import math as m\n",
    "\n",
    "m.factorial(5)"
   ]
  },
  {
   "cell_type": "code",
   "execution_count": 57,
   "id": "2048ad6b-3381-41eb-9961-b02f3e59e80f",
   "metadata": {},
   "outputs": [
    {
     "name": "stdout",
     "output_type": "stream",
     "text": [
      "<class 'int'>\n"
     ]
    }
   ],
   "source": [
    "a = 34\n",
    "print(type(a))"
   ]
  },
  {
   "cell_type": "code",
   "execution_count": 61,
   "id": "d033e595-d0e3-463f-b001-71e69754503f",
   "metadata": {},
   "outputs": [
    {
     "name": "stdout",
     "output_type": "stream",
     "text": [
      "Hello, Rajat\n",
      "None\n"
     ]
    }
   ],
   "source": [
    "import mymodule as my\n",
    "\n",
    "print(my.greeting(\"Rajat\"))"
   ]
  },
  {
   "cell_type": "code",
   "execution_count": 63,
   "id": "a6525300-c693-484b-adc8-4863123ed7fa",
   "metadata": {},
   "outputs": [
    {
     "name": "stdout",
     "output_type": "stream",
     "text": [
      "Hello, Rajat\n",
      "None\n"
     ]
    }
   ],
   "source": [
    "from mymodule import greeting\n",
    "\n",
    "print(greeting(\"Rajat\"))"
   ]
  },
  {
   "cell_type": "code",
   "execution_count": 117,
   "id": "068d03a3-681e-4d12-8f98-111f3535fc7c",
   "metadata": {},
   "outputs": [
    {
     "name": "stdout",
     "output_type": "stream",
     "text": [
      "[[1, -10, 3], [4, 100, 6], 7]\n",
      "[[1, -10, 3], [4, 100, 6], 5]\n"
     ]
    }
   ],
   "source": [
    "d = [100,200 , 300]\n",
    "arr = [[1,2,3],[4,5,6],7]\n",
    "arr2 = arr.copy()\n",
    "# arr2[1] = arr2[1].copy()\n",
    "arr2[1][1] = 100\n",
    "arr2[0][1] =-10\n",
    "arr2[2] = 5\n",
    "print(arr)\n",
    "print(arr2)\n",
    "\n",
    "# arr2 = arr.copy()\n",
    "# arr2  = [arr[0 J].copy(), arr[1].copy(), arr[2].copy()]"
   ]
  },
  {
   "cell_type": "code",
   "execution_count": 77,
   "id": "b5aab7f4-f269-4862-b1e4-b7935e9dc172",
   "metadata": {},
   "outputs": [
    {
     "name": "stdout",
     "output_type": "stream",
     "text": [
      "[1, 2, 3]\n",
      "[100, 2, 3]\n"
     ]
    }
   ],
   "source": [
    "l1 = [1,2,3]\n",
    "l2 = l1.copy()\n",
    "l2[0] = 100\n",
    "print(l1)\n",
    "print(l2)"
   ]
  },
  {
   "cell_type": "code",
   "execution_count": 101,
   "id": "e72d9c4f-9006-4010-b04f-bfd67a9928e2",
   "metadata": {},
   "outputs": [
    {
     "name": "stdout",
     "output_type": "stream",
     "text": [
      "[1, 2, [1, 2, 3, 4]]\n",
      "[1, 100, [1, 2, 3, 4]]\n"
     ]
    }
   ],
   "source": [
    "l1=[1,2,[1,2,3]]\n",
    "l2=l1.copy()\n",
    "l2[1] = 100\n",
    "l2[2].append(4)\n",
    "print(l1)\n",
    "print(l2)"
   ]
  },
  {
   "cell_type": "code",
   "execution_count": 123,
   "id": "63c0514c-be2b-4466-890d-662d65b94d60",
   "metadata": {},
   "outputs": [
    {
     "name": "stdout",
     "output_type": "stream",
     "text": [
      "True\n",
      "True\n"
     ]
    }
   ],
   "source": [
    "a=256\n",
    "b=256\n",
    "if a==b:\n",
    "    print(True)\n",
    "else:\n",
    "    print(False)\n",
    "\n",
    "a=257\n",
    "b=257\n",
    "if a==b:\n",
    "    print(True)\n",
    "else:\n",
    "    print(False)\n"
   ]
  },
  {
   "cell_type": "code",
   "execution_count": null,
   "id": "5b73af32-53c3-4ed6-a0dd-c4e554b2cc78",
   "metadata": {},
   "outputs": [],
   "source": []
  }
 ],
 "metadata": {
  "kernelspec": {
   "display_name": "Python 3 (ipykernel)",
   "language": "python",
   "name": "python3"
  },
  "language_info": {
   "codemirror_mode": {
    "name": "ipython",
    "version": 3
   },
   "file_extension": ".py",
   "mimetype": "text/x-python",
   "name": "python",
   "nbconvert_exporter": "python",
   "pygments_lexer": "ipython3",
   "version": "3.12.4"
  }
 },
 "nbformat": 4,
 "nbformat_minor": 5
}
