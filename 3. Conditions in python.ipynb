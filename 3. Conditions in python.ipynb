{
 "cells": [
  {
   "cell_type": "markdown",
   "id": "3ad7d876-503b-41fd-8174-f3585806b6ce",
   "metadata": {},
   "source": [
    "# Conditions in Python"
   ]
  },
  {
   "cell_type": "code",
   "execution_count": 1,
   "id": "7b0a06d7-7c51-4bc0-9620-26956b466c6d",
   "metadata": {},
   "outputs": [
    {
     "name": "stdout",
     "output_type": "stream",
     "text": [
      "True\n"
     ]
    }
   ],
   "source": [
    "print(45 > 4)"
   ]
  },
  {
   "cell_type": "code",
   "execution_count": 3,
   "id": "467acdd6-d894-4ef0-b3ab-b3335dc64b08",
   "metadata": {},
   "outputs": [
    {
     "name": "stdout",
     "output_type": "stream",
     "text": [
      "True\n"
     ]
    }
   ],
   "source": [
    "print(4 >= 4)"
   ]
  },
  {
   "cell_type": "code",
   "execution_count": 5,
   "id": "7ec87bee-0dce-4dff-ac3d-ba1d1717b5a7",
   "metadata": {},
   "outputs": [
    {
     "name": "stdout",
     "output_type": "stream",
     "text": [
      "False\n"
     ]
    }
   ],
   "source": [
    "print(34 == 33)"
   ]
  },
  {
   "cell_type": "markdown",
   "id": "471dc229-8e41-4e10-ab01-345d7e62ef0e",
   "metadata": {},
   "source": [
    ">\n",
    "<\n",
    ">=\n",
    "<=\n",
    "==\n",
    "!="
   ]
  },
  {
   "cell_type": "code",
   "execution_count": 22,
   "id": "edfd2ead-8da1-46bd-9f5c-0a78c8c6e153",
   "metadata": {},
   "outputs": [
    {
     "name": "stdout",
     "output_type": "stream",
     "text": [
      "Hello world\n",
      "B is greater\n"
     ]
    }
   ],
   "source": [
    "a = 2\n",
    "b = 4\n",
    "if b > a:\n",
    "    print(\"Hello world\")\n",
    "    print(\"B is greater\")"
   ]
  },
  {
   "cell_type": "code",
   "execution_count": 18,
   "id": "b36d6e9e-c659-46c3-82e5-7e087b9c45a5",
   "metadata": {},
   "outputs": [],
   "source": [
    "isRaining = False\n",
    "if isRaining:\n",
    "    print(\"I will stay at home\")"
   ]
  },
  {
   "cell_type": "code",
   "execution_count": 32,
   "id": "8d4ac223-73e9-4062-b5f1-90608ecbba58",
   "metadata": {},
   "outputs": [
    {
     "name": "stdout",
     "output_type": "stream",
     "text": [
      "Hello world\n",
      "B is greater\n",
      "Hello\n"
     ]
    }
   ],
   "source": [
    "a = 4\n",
    "b = 8\n",
    "if b > a:\n",
    "    print(\"Hello world\")\n",
    "    print(\"B is greater\")\n",
    "else:\n",
    "    print(\"A is greater\")\n",
    "print(\"Hello\")"
   ]
  },
  {
   "cell_type": "code",
   "execution_count": 56,
   "id": "3ea5926d-6664-425e-bade-46785f5138d6",
   "metadata": {},
   "outputs": [
    {
     "name": "stdout",
     "output_type": "stream",
     "text": [
      "You will get a cycle\n"
     ]
    }
   ],
   "source": [
    "marks = 77\n",
    "if marks > 90:\n",
    "    print(\"Hello world\")\n",
    "    print(\"You will get a bike\")\n",
    "elif marks > 70:\n",
    "    print(\"You will get a cycle\")\n",
    "elif marks > 50:\n",
    "    print(\"You will get pencil box\")\n",
    "else:\n",
    "    print(\"No gift\")"
   ]
  },
  {
   "cell_type": "markdown",
   "id": "21194925-f9df-42c4-8a36-6d9387b12514",
   "metadata": {},
   "source": [
    "### Nested if else"
   ]
  },
  {
   "cell_type": "code",
   "execution_count": 63,
   "id": "a06f9acd-fb4d-45e6-ba2e-f06154488915",
   "metadata": {},
   "outputs": [
    {
     "name": "stdout",
     "output_type": "stream",
     "text": [
      "Inside 1st if\n",
      "Else inside if\n"
     ]
    }
   ],
   "source": [
    "if True:\n",
    "    print(\"Inside 1st if\")\n",
    "    if False:\n",
    "        print(\"if inside if\")\n",
    "    else:\n",
    "        print(\"Else inside if\")\n",
    "else:\n",
    "    print(\"Inside 1st else condition\")"
   ]
  },
  {
   "cell_type": "code",
   "execution_count": 133,
   "id": "ef795680-2501-4add-a872-816a936f0784",
   "metadata": {},
   "outputs": [
    {
     "name": "stdout",
     "output_type": "stream",
     "text": [
      "In else\n"
     ]
    }
   ],
   "source": [
    "if 4 > 6 and 8 > 3:\n",
    "    print(\"Both are true\")\n",
    "else:\n",
    "    print(\"In else\")"
   ]
  },
  {
   "cell_type": "code",
   "execution_count": 141,
   "id": "ee9a751b-57be-448b-b156-a0927e3e10bf",
   "metadata": {},
   "outputs": [
    {
     "name": "stdout",
     "output_type": "stream",
     "text": [
      "In else\n"
     ]
    }
   ],
   "source": [
    "if 4 > 9 or 8 > 9:\n",
    "    print(\"We are in if condition\")\n",
    "else:\n",
    "    print(\"In else\")"
   ]
  },
  {
   "cell_type": "markdown",
   "id": "5075d9f6-f682-41b6-b1e9-34280a206c72",
   "metadata": {},
   "source": [
    "# Loops in Python"
   ]
  },
  {
   "cell_type": "code",
   "execution_count": 68,
   "id": "ce1aaa4a-0f66-4e98-8110-e25c962b746b",
   "metadata": {},
   "outputs": [
    {
     "data": {
      "text/plain": [
       "[0, 1, 2, 3, 4]"
      ]
     },
     "execution_count": 68,
     "metadata": {},
     "output_type": "execute_result"
    }
   ],
   "source": [
    "list(range(5))"
   ]
  },
  {
   "cell_type": "code",
   "execution_count": 72,
   "id": "1abc7bc7-4507-4e4c-b366-e6dfadee123b",
   "metadata": {},
   "outputs": [
    {
     "data": {
      "text/plain": [
       "[3, 4, 5, 6, 7, 8, 9]"
      ]
     },
     "execution_count": 72,
     "metadata": {},
     "output_type": "execute_result"
    }
   ],
   "source": [
    "list(range(3, 10))"
   ]
  },
  {
   "cell_type": "code",
   "execution_count": 90,
   "id": "27b22dae-033d-427b-bb30-be3f9673a40e",
   "metadata": {},
   "outputs": [
    {
     "name": "stdout",
     "output_type": "stream",
     "text": [
      "Hello world 0\n",
      "Hello world 1\n",
      "Hello world 2\n",
      "Hello world 3\n",
      "Hello world 4\n",
      "Hello world 5\n",
      "Hello world 6\n",
      "Hello world 7\n",
      "Hello world 8\n",
      "Hello world 9\n"
     ]
    }
   ],
   "source": [
    "arr2 = range(10)\n",
    "for var1 in arr2:\n",
    "    print(\"Hello world\", var1)"
   ]
  },
  {
   "cell_type": "code",
   "execution_count": 106,
   "id": "29d557ca-9edd-4585-a8fc-0f9ec66530d9",
   "metadata": {},
   "outputs": [
    {
     "name": "stdout",
     "output_type": "stream",
     "text": [
      "Apple\n",
      "Banana\n",
      "Cherry\n",
      "Mango\n"
     ]
    }
   ],
   "source": [
    "arr1= [\"Apple\", \"Banana\", \"Cherry\", \"Mango\"]\n",
    "for var2 in arr1:\n",
    "    print(var2)"
   ]
  },
  {
   "cell_type": "code",
   "execution_count": 110,
   "id": "66daa019-d2eb-49ec-84b2-9dbbb2c2d469",
   "metadata": {},
   "outputs": [
    {
     "name": "stdout",
     "output_type": "stream",
     "text": [
      "0 is divisible by 2\n",
      "1\n",
      "2 is divisible by 2\n",
      "3\n",
      "4 is divisible by 2\n",
      "5\n",
      "6 is divisible by 2\n",
      "7\n",
      "8 is divisible by 2\n",
      "9\n",
      "10 is divisible by 2\n",
      "11\n",
      "12 is divisible by 2\n",
      "13\n",
      "14 is divisible by 2\n",
      "15\n",
      "16 is divisible by 2\n",
      "17\n",
      "18 is divisible by 2\n",
      "19\n"
     ]
    }
   ],
   "source": [
    "for i in range(20):\n",
    "    if i %2 != 0:\n",
    "        print(i)\n",
    "    else: \n",
    "        print(i, \"is divisible by 2\")"
   ]
  },
  {
   "cell_type": "code",
   "execution_count": 121,
   "id": "b7eff148-e4a1-4802-ae3c-a4644a2d0320",
   "metadata": {},
   "outputs": [
    {
     "name": "stdout",
     "output_type": "stream",
     "text": [
      "Hello 1\n",
      "Hello 3\n",
      "Hello 5\n",
      "Hello 7\n",
      "Hello 9\n",
      "Outside loop\n"
     ]
    }
   ],
   "source": [
    "for i in range(20):\n",
    "    if i %2 != 0:\n",
    "        print(i)\n",
    "    else: \n",
    "        print(i, \"is divisible by 2\")\n",
    "\n",
    "i = 1\n",
    "while i < 10:\n",
    "    print(\"Hello\", i)\n",
    "    i += 2\n",
    "print(\"Outside loop\")"
   ]
  },
  {
   "cell_type": "code",
   "execution_count": 123,
   "id": "7a87990e-b3d4-4f93-ada4-2723a52fe35f",
   "metadata": {},
   "outputs": [
    {
     "name": "stdout",
     "output_type": "stream",
     "text": [
      "Hello 100\n",
      "Hello 95\n",
      "Hello 90\n",
      "Hello 85\n",
      "Hello 80\n",
      "Hello 75\n",
      "Hello 70\n",
      "Hello 65\n",
      "Hello 60\n",
      "Hello 55\n",
      "Hello 50\n",
      "Hello 45\n",
      "Hello 40\n",
      "Hello 35\n",
      "Hello 30\n",
      "Hello 25\n",
      "Hello 20\n",
      "Hello 15\n",
      "Outside loop\n"
     ]
    }
   ],
   "source": [
    "i = 100\n",
    "while i> 10:\n",
    "    print(\"Hello\", i)\n",
    "    i -= 5\n",
    "print(\"Outside loop\")"
   ]
  },
  {
   "cell_type": "markdown",
   "id": "508319a4-0886-4499-9329-baf288a30cae",
   "metadata": {},
   "source": [
    "### break statement in Python"
   ]
  },
  {
   "cell_type": "code",
   "execution_count": 149,
   "id": "159995d5-3e27-4fde-95f6-753bb8d5749a",
   "metadata": {},
   "outputs": [
    {
     "name": "stdout",
     "output_type": "stream",
     "text": [
      "0\n",
      "1\n",
      "2\n",
      "3\n",
      "Outside for loop\n"
     ]
    }
   ],
   "source": [
    "for i in range(10):\n",
    "    if i ==4:\n",
    "        break\n",
    "    print(i)\n",
    "print(\"Outside for loop\")"
   ]
  },
  {
   "cell_type": "code",
   "execution_count": 155,
   "id": "dbd2ba25-10f6-4143-8c7c-83596fe5218d",
   "metadata": {},
   "outputs": [
    {
     "name": "stdout",
     "output_type": "stream",
     "text": [
      "0\n",
      "1\n",
      "2\n",
      "3\n",
      "4\n"
     ]
    }
   ],
   "source": [
    "i = 0\n",
    "while i < 10:\n",
    "    if i == 5:\n",
    "        break\n",
    "        \n",
    "    print(i)\n",
    "    i +=1"
   ]
  },
  {
   "cell_type": "code",
   "execution_count": 159,
   "id": "751a3cb9-0eea-4a89-9458-17724b25909c",
   "metadata": {},
   "outputs": [
    {
     "name": "stdout",
     "output_type": "stream",
     "text": [
      "0\n",
      "1\n",
      "2\n",
      "3\n",
      "5\n",
      "6\n",
      "7\n",
      "8\n",
      "9\n",
      "Outside for loop\n"
     ]
    }
   ],
   "source": [
    "for i in range(10):\n",
    "    if i ==4:\n",
    "        continue\n",
    "    print(i)\n",
    "print(\"Outside for loop\")"
   ]
  },
  {
   "cell_type": "code",
   "execution_count": 163,
   "id": "31a405a4-aa99-444b-bda0-ee14d1a22947",
   "metadata": {},
   "outputs": [
    {
     "name": "stdout",
     "output_type": "stream",
     "text": [
      "0\n",
      "1\n",
      "2\n",
      "3\n",
      "4\n",
      "6\n",
      "7\n",
      "8\n",
      "9\n"
     ]
    }
   ],
   "source": [
    "i = 0\n",
    "while i < 10:\n",
    "    if i == 5:\n",
    "        i+=1\n",
    "        continue\n",
    "        \n",
    "    print(i)\n",
    "    i +=1"
   ]
  },
  {
   "cell_type": "code",
   "execution_count": 171,
   "id": "8d4048a1-a6f7-43bf-872c-38694693729a",
   "metadata": {},
   "outputs": [
    {
     "name": "stdout",
     "output_type": "stream",
     "text": [
      "Rajat 10\n",
      "Rajat 30\n",
      "Rajat 60\n",
      "Fynd 10\n",
      "Fynd 30\n",
      "Fynd 60\n",
      "Academy 10\n",
      "Academy 30\n",
      "Academy 60\n"
     ]
    }
   ],
   "source": [
    "nameList = [\"Rajat\", \"Fynd\", \"Academy\"]\n",
    "marks=  [ 10, 30, 60]\n",
    "for i in nameList:\n",
    "    for score in marks:\n",
    "        print(i,score)"
   ]
  },
  {
   "cell_type": "code",
   "execution_count": 165,
   "id": "0d7409a1-7959-41db-b9d3-ede0eca7c9b8",
   "metadata": {
    "scrolled": true
   },
   "outputs": [
    {
     "name": "stdout",
     "output_type": "stream",
     "text": [
      "* * * \n",
      "* * * \n",
      "* * * \n",
      "* * * \n",
      "* * * \n"
     ]
    }
   ],
   "source": [
    "for i in range(5):\n",
    "    for j in range(3):\n",
    "        print(\"*\", end = \" \")\n",
    "    print(\"\")"
   ]
  },
  {
   "cell_type": "code",
   "execution_count": 179,
   "id": "7e75b772-5e22-4272-bc27-11434d8838ee",
   "metadata": {},
   "outputs": [
    {
     "name": "stdout",
     "output_type": "stream",
     "text": [
      "* \n",
      "* * \n",
      "* * * \n",
      "* * * * \n",
      "* * * * * \n"
     ]
    }
   ],
   "source": [
    "for i in range(1,6):\n",
    "    for j in range(i):\n",
    "        print(\"*\", end = \" \")\n",
    "    print(\"\")"
   ]
  },
  {
   "cell_type": "code",
   "execution_count": 199,
   "id": "30cd449b-f762-44da-9966-54e3dbed00a0",
   "metadata": {
    "scrolled": true
   },
   "outputs": [
    {
     "name": "stdout",
     "output_type": "stream",
     "text": [
      "* * * * * \n",
      "* * * * \n",
      "* * * \n",
      "* * \n",
      "* \n"
     ]
    }
   ],
   "source": [
    "for i in range(1,6):\n",
    "    for j in range(5-i+1):\n",
    "        print(\"*\", end = \" \")\n",
    "    print(\"\")"
   ]
  },
  {
   "cell_type": "code",
   "execution_count": 207,
   "id": "cb0931f8-1c27-4d83-b6aa-a7b9a2e9c0e3",
   "metadata": {},
   "outputs": [
    {
     "name": "stdout",
     "output_type": "stream",
     "text": [
      "          * \n",
      "        * * \n",
      "      * * * \n",
      "    * * * * \n",
      "  * * * * * \n"
     ]
    }
   ],
   "source": [
    "for i in range(5):\n",
    "    for j in range(5-i):\n",
    "        print(\" \", end= \" \")\n",
    "    for j in range(i+1):\n",
    "        print(\"*\", end = \" \")\n",
    "    print('')"
   ]
  },
  {
   "cell_type": "code",
   "execution_count": null,
   "id": "24ca820c-0ac2-4437-a95d-464556521072",
   "metadata": {},
   "outputs": [],
   "source": [
    "   *\n",
    "  ***\n",
    " *****\n",
    "*******"
   ]
  },
  {
   "cell_type": "code",
   "execution_count": 217,
   "id": "44fdfb3a-ea1d-42fe-9f17-ef3d8162385a",
   "metadata": {},
   "outputs": [
    {
     "name": "stdout",
     "output_type": "stream",
     "text": [
      "Hello 0\n",
      "Hello 1\n",
      "Hello 2\n",
      "Hello 3\n",
      "Hello 4\n",
      "Loop ended\n"
     ]
    }
   ],
   "source": [
    "for i in range(5):\n",
    "    # if i == 4:\n",
    "    #     break\n",
    "    print(\"Hello\", i)\n",
    "else:\n",
    "    print(\"Loop ended\")"
   ]
  },
  {
   "cell_type": "markdown",
   "id": "e4110b7f-5829-4b29-8024-20562662a62b",
   "metadata": {},
   "source": [
    "## Practice Questions"
   ]
  },
  {
   "cell_type": "code",
   "execution_count": null,
   "id": "fa822044-ee06-4ccb-b415-34a1d0641152",
   "metadata": {},
   "outputs": [],
   "source": [
    "Print each character of a string.\n",
    "Sum all elements in a list.\n",
    "Print the first 10 natural numbers.\n",
    "Print a multiplication table for a given number.\n",
    "Find the factorial of a given number.\n",
    "Print all even numbers within a given range.\n",
    "Reverse a list.\n",
    "Print elements at odd index positions.\n",
    "Count the number of vowels in a string.\n",
    "Print a pattern of stars."
   ]
  },
  {
   "cell_type": "code",
   "execution_count": 183,
   "id": "beae9759-9d2f-498a-9e80-8e606cf7ade1",
   "metadata": {},
   "outputs": [
    {
     "name": "stdout",
     "output_type": "stream",
     "text": [
      "R\n",
      "a\n",
      "j\n",
      "a\n",
      "t\n",
      " \n",
      "J\n",
      "a\n",
      "i\n",
      "n\n"
     ]
    }
   ],
   "source": [
    "xy = \"Rajat Jain\"\n",
    "for i in xy:\n",
    "    print(i)"
   ]
  },
  {
   "cell_type": "code",
   "execution_count": 195,
   "id": "99d65fea-eec1-4834-b894-7bd3ec97ada9",
   "metadata": {},
   "outputs": [
    {
     "name": "stdout",
     "output_type": "stream",
     "text": [
      "C\n"
     ]
    }
   ],
   "source": [
    "x = [\"A\", \"B\", \"C\", \"D\"]\n",
    "print(x[2])"
   ]
  },
  {
   "cell_type": "code",
   "execution_count": 233,
   "id": "3945e471-95e1-4fba-98c6-f869349057de",
   "metadata": {},
   "outputs": [
    {
     "name": "stdout",
     "output_type": "stream",
     "text": [
      "[10, 8, 6, 4, 2, 0, -2, -4, -6]\n"
     ]
    }
   ],
   "source": [
    "x = list(range(10, -7, -2))\n",
    "print(x)"
   ]
  },
  {
   "cell_type": "code",
   "execution_count": 235,
   "id": "7237909e-766b-42ce-8fa9-fb1b2ad0ef8f",
   "metadata": {},
   "outputs": [
    {
     "name": "stdout",
     "output_type": "stream",
     "text": [
      "-20\n"
     ]
    }
   ],
   "source": [
    "print(min(34, 5, -20, 320))"
   ]
  },
  {
   "cell_type": "code",
   "execution_count": 239,
   "id": "b687c110-44ee-4708-b773-d3a94b6a3b8f",
   "metadata": {},
   "outputs": [
    {
     "name": "stdout",
     "output_type": "stream",
     "text": [
      "320\n"
     ]
    }
   ],
   "source": [
    "print(max([34, 5, -20, 320]))"
   ]
  },
  {
   "cell_type": "code",
   "execution_count": 241,
   "id": "8705cfd7-35cb-4ced-986f-8f49d4875085",
   "metadata": {},
   "outputs": [
    {
     "name": "stdout",
     "output_type": "stream",
     "text": [
      "30\n"
     ]
    }
   ],
   "source": [
    "print(abs(-30))"
   ]
  },
  {
   "cell_type": "code",
   "execution_count": 243,
   "id": "6b5cf31f-bec8-42a3-b592-d506402e5bc2",
   "metadata": {},
   "outputs": [
    {
     "name": "stdout",
     "output_type": "stream",
     "text": [
      "30\n"
     ]
    }
   ],
   "source": [
    "print(abs(30))"
   ]
  },
  {
   "cell_type": "code",
   "execution_count": 253,
   "id": "7ee2d994-285d-4d16-8896-a63542fd79c5",
   "metadata": {},
   "outputs": [
    {
     "name": "stdout",
     "output_type": "stream",
     "text": [
      "True\n"
     ]
    }
   ],
   "source": [
    "print(not(4 > 4))"
   ]
  },
  {
   "cell_type": "code",
   "execution_count": 257,
   "id": "a6bd3e45-9724-4a18-96d1-fc3610fbd47e",
   "metadata": {},
   "outputs": [
    {
     "name": "stdout",
     "output_type": "stream",
     "text": [
      "48\n"
     ]
    }
   ],
   "source": [
    "print((3 + 5) * 6)"
   ]
  },
  {
   "cell_type": "code",
   "execution_count": 277,
   "id": "41492f5e-3dcf-41a9-bed5-f4bc359054df",
   "metadata": {},
   "outputs": [
    {
     "name": "stdout",
     "output_type": "stream",
     "text": [
      "-45\n"
     ]
    }
   ],
   "source": [
    "import math\n",
    "print(math.ceil(-45.6))"
   ]
  },
  {
   "cell_type": "code",
   "execution_count": null,
   "id": "bcb766e6-9b54-4827-9af8-6eeeaa56c09d",
   "metadata": {},
   "outputs": [],
   "source": []
  }
 ],
 "metadata": {
  "kernelspec": {
   "display_name": "Python 3 (ipykernel)",
   "language": "python",
   "name": "python3"
  },
  "language_info": {
   "codemirror_mode": {
    "name": "ipython",
    "version": 3
   },
   "file_extension": ".py",
   "mimetype": "text/x-python",
   "name": "python",
   "nbconvert_exporter": "python",
   "pygments_lexer": "ipython3",
   "version": "3.12.4"
  }
 },
 "nbformat": 4,
 "nbformat_minor": 5
}
