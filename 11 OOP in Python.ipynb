{
 "cells": [
  {
   "cell_type": "markdown",
   "id": "05f3c973-eded-41c9-a226-ed4d325241f6",
   "metadata": {},
   "source": [
    "# Pillars of OOP"
   ]
  },
  {
   "cell_type": "markdown",
   "id": "6fec007d-ed19-40bc-84c6-8325c9b5ab89",
   "metadata": {},
   "source": [
    "- Inheritance\n",
    "- Polymorphism\n",
    "- Abstraction\n",
    "- Encapsulation"
   ]
  },
  {
   "cell_type": "code",
   "execution_count": null,
   "id": "191f7580-d477-4132-96c5-e65326c981c2",
   "metadata": {},
   "outputs": [],
   "source": [
    "### Inheritance"
   ]
  },
  {
   "cell_type": "code",
   "execution_count": 31,
   "id": "38ac9282-bee4-4f4d-a3eb-7835d3ced3e6",
   "metadata": {},
   "outputs": [
    {
     "name": "stdout",
     "output_type": "stream",
     "text": [
      "Person name is : ABC and id: 123, Score: 98, Post: SDE\n",
      "Person name is : ABC and id: 123\n"
     ]
    }
   ],
   "source": [
    "class Person:\n",
    "    def __init__(self, name , id):\n",
    "        self.name = name\n",
    "        self.id = id\n",
    "    def display(self):\n",
    "        print(f\"Person name is : {self.name} and id: {self.id}\")\n",
    "\n",
    "class Employee(Person):\n",
    "    def __init__(self, name, id, score, post):\n",
    "        self.score = score\n",
    "        self.post = post\n",
    "        Person.__init__(self, name, id)\n",
    "    def display(self):\n",
    "        print(f\"Person name is : {self.name} and id: {self.id}, Score: {self.score}, Post: {self.post}\")\n",
    "\n",
    "class Tester(Employee):\n",
    "    def __init__(self, name, id, score, post):\n",
    "        super().__init__(name, id, score, post)\n",
    "\n",
    "x = Tester(\"ABC\", 123, 98, \"SDE\")\n",
    "x.display()\n",
    "Person.display(x)"
   ]
  },
  {
   "cell_type": "markdown",
   "id": "aa0f2394-239d-48cd-b364-b7ac1e5110ce",
   "metadata": {},
   "source": [
    "## Multiple Inheritance"
   ]
  },
  {
   "cell_type": "code",
   "execution_count": 120,
   "id": "33d2beb9-a8df-4433-88b2-4d39e5291edc",
   "metadata": {},
   "outputs": [
    {
     "name": "stdout",
     "output_type": "stream",
     "text": [
      "Constructor of C\n",
      "Constructor of A\n",
      "Constructor of B\n"
     ]
    },
    {
     "ename": "TypeError",
     "evalue": "ClassC.method() missing 1 required positional argument: 'a'",
     "output_type": "error",
     "traceback": [
      "\u001b[1;31m---------------------------------------------------------------------------\u001b[0m",
      "\u001b[1;31mTypeError\u001b[0m                                 Traceback (most recent call last)",
      "Cell \u001b[1;32mIn[120], line 24\u001b[0m\n\u001b[0;32m     21\u001b[0m         \u001b[38;5;28mprint\u001b[39m(\u001b[38;5;124m\"\u001b[39m\u001b[38;5;124mM3\u001b[39m\u001b[38;5;124m\"\u001b[39m)\n\u001b[0;32m     23\u001b[0m c \u001b[38;5;241m=\u001b[39m ClassC()\n\u001b[1;32m---> 24\u001b[0m c\u001b[38;5;241m.\u001b[39mmethod()\n\u001b[0;32m     25\u001b[0m \u001b[38;5;28mprint\u001b[39m(c\u001b[38;5;241m.\u001b[39ma)\n",
      "\u001b[1;31mTypeError\u001b[0m: ClassC.method() missing 1 required positional argument: 'a'"
     ]
    }
   ],
   "source": [
    "class ClassA:\n",
    "    def __init__(self):\n",
    "        self.a = 1\n",
    "        print(\"Constructor of A\")\n",
    "    def method(self):\n",
    "        print(\"M1\")\n",
    "        \n",
    "class ClassB:\n",
    "    def __init__(self):\n",
    "        self.a = 1\n",
    "        print(\"Constructor of B\")\n",
    "    def method(self):\n",
    "        print(\"M2\")\n",
    "\n",
    "class ClassC(ClassA, ClassB):\n",
    "    def __init__(self):\n",
    "        print(\"Constructor of C\")\n",
    "        ClassA.__init__(self)\n",
    "        ClassB.__init__(self)\n",
    "    def method(self):\n",
    "        print(\"M3\")\n",
    "\n",
    "c = ClassC()\n",
    "c.method()\n",
    "print(c.a)\n",
    "# c.method2()\n",
    "# c.method3()"
   ]
  },
  {
   "cell_type": "markdown",
   "id": "96347c31-1777-42c8-98d8-795438590eba",
   "metadata": {},
   "source": [
    "## Encapsulation"
   ]
  },
  {
   "cell_type": "code",
   "execution_count": 93,
   "id": "a94a4dc4-3591-488e-ad3d-b0b25d7fc4f1",
   "metadata": {},
   "outputs": [
    {
     "name": "stdout",
     "output_type": "stream",
     "text": [
      "Hello\n",
      "Organization: AAAAAAAAAAAA\n"
     ]
    }
   ],
   "source": [
    "class ClassA:\n",
    "    def __init__(self, b):\n",
    "        self.a = \"Hello\"\n",
    "        self.__b = b\n",
    "\n",
    "    def __getB(self):\n",
    "        return f\"Organization: {self.__b}\"\n",
    "    def get(self):\n",
    "        return self.__getB()\n",
    "    def setB(self, value):\n",
    "        self.__b = value\n",
    "\n",
    "x = ClassA(\"Fynd\")\n",
    "print(x.a)\n",
    "\n",
    "x.setB(\"AAAAAAAAAAAA\")\n",
    "print(x.get())\n"
   ]
  },
  {
   "cell_type": "code",
   "execution_count": null,
   "id": "58919d5f-1501-40df-a36a-f22418952d61",
   "metadata": {},
   "outputs": [],
   "source": []
  },
  {
   "cell_type": "code",
   "execution_count": 83,
   "id": "8792bf0f-1a20-4a87-8c78-7beca4efafeb",
   "metadata": {},
   "outputs": [
    {
     "name": "stdout",
     "output_type": "stream",
     "text": [
      "Hello\n",
      "Organization: Fynd\n"
     ]
    }
   ],
   "source": [
    "x = ClassA(\"Fynd\")\n",
    "print(x.a)\n",
    "print(x.getB())"
   ]
  },
  {
   "cell_type": "code",
   "execution_count": 115,
   "id": "41a70816-cb04-4850-8ab0-62d7bd19a207",
   "metadata": {},
   "outputs": [
    {
     "name": "stdout",
     "output_type": "stream",
     "text": [
      "4\n"
     ]
    }
   ],
   "source": [
    "class Car:\n",
    "    seats = 4\n",
    "\n",
    "class Swift(Car):\n",
    "    def __init__(self, color):\n",
    "        self.color = color\n",
    "        # super().__init__()\n",
    "\n",
    "x = Swift(\"Black\")\n",
    "print(x.seats)"
   ]
  },
  {
   "cell_type": "markdown",
   "id": "54a8cdd1-f02d-446e-90a3-04ee0e7efe7d",
   "metadata": {},
   "source": [
    "## Ploymorphish"
   ]
  },
  {
   "cell_type": "markdown",
   "id": "8d3ea006-893c-4529-b65f-cc5934f9cc67",
   "metadata": {},
   "source": [
    "# many form\n",
    "\n",
    "- Method Overloading - Not possible in python\n",
    "- Method Overriding - Run time polymorphish"
   ]
  },
  {
   "cell_type": "markdown",
   "id": "d8194771-ed56-43f0-855a-e0171d24ce72",
   "metadata": {},
   "source": [
    "#### Polymorphism with Inheritance"
   ]
  },
  {
   "cell_type": "code",
   "execution_count": 129,
   "id": "e4d1a731-dc20-437b-8741-6155f5c5af37",
   "metadata": {},
   "outputs": [],
   "source": [
    "class Animal:\n",
    "    def __init__(self, name):\n",
    "        self.name = name\n",
    "    def talk(self):\n",
    "        print(\"in Animal Class\")\n",
    "        return None\n",
    "\n",
    "class Cat(Animal):\n",
    "    def __init__(self, name):\n",
    "        super().__init__(name)\n",
    "    def talk(self):\n",
    "        return \"Meow !!\"\n",
    "\n",
    "class Dog(Animal):\n",
    "    def __init__(self, name):\n",
    "        super().__init__(name)\n",
    "    def talk(self):\n",
    "        return \"Woof woof !!\""
   ]
  },
  {
   "cell_type": "code",
   "execution_count": 135,
   "id": "9f612262-abe6-49b1-89b8-b8006812c81f",
   "metadata": {},
   "outputs": [
    {
     "name": "stdout",
     "output_type": "stream",
     "text": [
      "Woof woof !!\n",
      "Meow !!\n",
      "<class '__main__.Dog'>\n",
      "Dog1 :Woof woof !!\n",
      "------------------------------------\n",
      "<class '__main__.Cat'>\n",
      "Cat1 :Meow !!\n",
      "------------------------------------\n",
      "<class '__main__.Dog'>\n",
      "Dog2 :Woof woof !!\n",
      "------------------------------------\n",
      "<class '__main__.Dog'>\n",
      "Dog3 :Woof woof !!\n",
      "------------------------------------\n",
      "<class '__main__.Cat'>\n",
      "Cat2 :Meow !!\n",
      "------------------------------------\n"
     ]
    }
   ],
   "source": [
    "x = Dog(\"Oreo\")\n",
    "print(x.talk())\n",
    "y = Cat(\"Kitty\")\n",
    "print(y.talk())\n",
    "\n",
    "my_list = [ Dog(\"Dog1\"), Cat(\"Cat1\"), Dog(\"Dog2\"), Dog(\"Dog3\"), Cat(\"Cat2\") ]\n",
    "for i in my_list:\n",
    "    print(type(i))\n",
    "    print(i.name + \" :\" + i.talk())\n",
    "    print(\"------------------------------------\")"
   ]
  },
  {
   "cell_type": "code",
   "execution_count": null,
   "id": "00815b2d-2e39-472f-97e9-387f1d8135ea",
   "metadata": {},
   "outputs": [],
   "source": []
  }
 ],
 "metadata": {
  "kernelspec": {
   "display_name": "Python 3 (ipykernel)",
   "language": "python",
   "name": "python3"
  },
  "language_info": {
   "codemirror_mode": {
    "name": "ipython",
    "version": 3
   },
   "file_extension": ".py",
   "mimetype": "text/x-python",
   "name": "python",
   "nbconvert_exporter": "python",
   "pygments_lexer": "ipython3",
   "version": "3.12.4"
  }
 },
 "nbformat": 4,
 "nbformat_minor": 5
}
