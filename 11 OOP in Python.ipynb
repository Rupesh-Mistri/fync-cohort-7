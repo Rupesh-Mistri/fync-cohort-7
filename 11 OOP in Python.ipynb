{
 "cells": [
  {
   "cell_type": "markdown",
   "id": "05f3c973-eded-41c9-a226-ed4d325241f6",
   "metadata": {},
   "source": [
    "# Pillars of OOP"
   ]
  },
  {
   "cell_type": "markdown",
   "id": "6fec007d-ed19-40bc-84c6-8325c9b5ab89",
   "metadata": {},
   "source": [
    "- Inheritance\n",
    "- Polymorphism\n",
    "- Abstraction\n",
    "- Encapsulation"
   ]
  },
  {
   "cell_type": "code",
   "execution_count": null,
   "id": "191f7580-d477-4132-96c5-e65326c981c2",
   "metadata": {},
   "outputs": [],
   "source": [
    "### Inheritance"
   ]
  },
  {
   "cell_type": "code",
   "execution_count": 31,
   "id": "38ac9282-bee4-4f4d-a3eb-7835d3ced3e6",
   "metadata": {},
   "outputs": [
    {
     "name": "stdout",
     "output_type": "stream",
     "text": [
      "Person name is : ABC and id: 123, Score: 98, Post: SDE\n",
      "Person name is : ABC and id: 123\n"
     ]
    }
   ],
   "source": [
    "class Person:\n",
    "    def __init__(self, name , id):\n",
    "        self.name = name\n",
    "        self.id = id\n",
    "    def display(self):\n",
    "        print(f\"Person name is : {self.name} and id: {self.id}\")\n",
    "\n",
    "class Employee(Person):\n",
    "    def __init__(self, name, id, score, post):\n",
    "        self.score = score\n",
    "        self.post = post\n",
    "        Person.__init__(self, name, id)\n",
    "    def display(self):\n",
    "        print(f\"Person name is : {self.name} and id: {self.id}, Score: {self.score}, Post: {self.post}\")\n",
    "\n",
    "class Tester(Employee):\n",
    "    def __init__(self, name, id, score, post):\n",
    "        super().__init__(name, id, score, post)\n",
    "\n",
    "x = Tester(\"ABC\", 123, 98, \"SDE\")\n",
    "x.display()\n",
    "Person.display(x)"
   ]
  },
  {
   "cell_type": "markdown",
   "id": "aa0f2394-239d-48cd-b364-b7ac1e5110ce",
   "metadata": {},
   "source": [
    "## Multiple Inheritance"
   ]
  },
  {
   "cell_type": "code",
   "execution_count": 52,
   "id": "33d2beb9-a8df-4433-88b2-4d39e5291edc",
   "metadata": {},
   "outputs": [
    {
     "name": "stdout",
     "output_type": "stream",
     "text": [
      "Constructor of C\n",
      "Constructor of A\n",
      "Constructor of B\n",
      "M1\n",
      "1\n"
     ]
    }
   ],
   "source": [
    "class ClassA:\n",
    "    def __init__(self):\n",
    "        self.a = 1\n",
    "        print(\"Constructor of A\")\n",
    "    def method(self):\n",
    "        print(\"M1\")\n",
    "        \n",
    "class ClassB:\n",
    "    def __init__(self):\n",
    "        self.a = 1\n",
    "        print(\"Constructor of B\")\n",
    "    def method(self):\n",
    "        print(\"M2\")\n",
    "\n",
    "class ClassC(ClassA, ClassB):\n",
    "    def __init__(self):\n",
    "        print(\"Constructor of C\")\n",
    "        ClassA.__init__(self)\n",
    "        ClassB.__init__(self)\n",
    "    def method3(self):\n",
    "        print(\"M3\")\n",
    "\n",
    "c = ClassC()\n",
    "c.method()\n",
    "print(c.a)\n",
    "# c.method2()\n",
    "# c.method3()"
   ]
  },
  {
   "cell_type": "markdown",
   "id": "96347c31-1777-42c8-98d8-795438590eba",
   "metadata": {},
   "source": [
    "## Encapsulation"
   ]
  },
  {
   "cell_type": "code",
   "execution_count": 93,
   "id": "a94a4dc4-3591-488e-ad3d-b0b25d7fc4f1",
   "metadata": {},
   "outputs": [
    {
     "name": "stdout",
     "output_type": "stream",
     "text": [
      "Hello\n",
      "Organization: AAAAAAAAAAAA\n"
     ]
    }
   ],
   "source": [
    "class ClassA:\n",
    "    def __init__(self, b):\n",
    "        self.a = \"Hello\"\n",
    "        self.__b = b\n",
    "\n",
    "    def __getB(self):\n",
    "        return f\"Organization: {self.__b}\"\n",
    "    def get(self):\n",
    "        return self.__getB()\n",
    "    def setB(self, value):\n",
    "        self.__b = value\n",
    "\n",
    "x = ClassA(\"Fynd\")\n",
    "print(x.a)\n",
    "\n",
    "x.setB(\"AAAAAAAAAAAA\")\n",
    "print(x.get())\n"
   ]
  },
  {
   "cell_type": "code",
   "execution_count": null,
   "id": "58919d5f-1501-40df-a36a-f22418952d61",
   "metadata": {},
   "outputs": [],
   "source": []
  },
  {
   "cell_type": "code",
   "execution_count": 83,
   "id": "8792bf0f-1a20-4a87-8c78-7beca4efafeb",
   "metadata": {},
   "outputs": [
    {
     "name": "stdout",
     "output_type": "stream",
     "text": [
      "Hello\n",
      "Organization: Fynd\n"
     ]
    }
   ],
   "source": [
    "x = ClassA(\"Fynd\")\n",
    "print(x.a)\n",
    "print(x.getB())"
   ]
  },
  {
   "cell_type": "code",
   "execution_count": null,
   "id": "41a70816-cb04-4850-8ab0-62d7bd19a207",
   "metadata": {},
   "outputs": [],
   "source": []
  }
 ],
 "metadata": {
  "kernelspec": {
   "display_name": "Python 3 (ipykernel)",
   "language": "python",
   "name": "python3"
  },
  "language_info": {
   "codemirror_mode": {
    "name": "ipython",
    "version": 3
   },
   "file_extension": ".py",
   "mimetype": "text/x-python",
   "name": "python",
   "nbconvert_exporter": "python",
   "pygments_lexer": "ipython3",
   "version": "3.12.4"
  }
 },
 "nbformat": 4,
 "nbformat_minor": 5
}
