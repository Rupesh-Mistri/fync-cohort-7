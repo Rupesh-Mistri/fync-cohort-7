{
 "cells": [
  {
   "cell_type": "markdown",
   "id": "7bcc7ae1-7d20-4a8e-a05f-b453579dad20",
   "metadata": {},
   "source": [
    "## Object oriented programming "
   ]
  },
  {
   "cell_type": "markdown",
   "id": "ee2c359b-3c5d-4bd3-bee4-2ea3212c9c7a",
   "metadata": {},
   "source": [
    "### Class instance and methods"
   ]
  },
  {
   "cell_type": "code",
   "execution_count": 8,
   "id": "02b651e3-28a8-44a3-8044-dd1f27aaaad1",
   "metadata": {},
   "outputs": [
    {
     "name": "stdout",
     "output_type": "stream",
     "text": [
      "<__main__.MyClass object at 0x00000202B73FB740>\n",
      "10\n"
     ]
    }
   ],
   "source": [
    "class MyClass(): # class\n",
    "    var = 10 # properties / attribute\n",
    "\n",
    "    def getValue(self): # methods\n",
    "        return self.var\n",
    "\n",
    "obj1 = MyClass() # class instance / object\n",
    "print(obj1)\n",
    "print(obj1.getValue())"
   ]
  },
  {
   "cell_type": "code",
   "execution_count": 22,
   "id": "6589ad9b-bb89-46cd-a8f6-64179175aaaf",
   "metadata": {},
   "outputs": [
    {
     "name": "stdout",
     "output_type": "stream",
     "text": [
      "10\n",
      "10\n",
      "100\n",
      "10\n"
     ]
    }
   ],
   "source": [
    "class MyClass2: # factory\n",
    "    var1 = 10\n",
    "    var2 = 20\n",
    "\n",
    "obj2 = MyClass2()\n",
    "obj3 = MyClass2()\n",
    "\n",
    "print(obj2.var1)\n",
    "print(obj3.var1)\n",
    "\n",
    "obj2.var1 = 100\n",
    "print(obj2.var1)\n",
    "print(obj3.var1)\n"
   ]
  },
  {
   "cell_type": "code",
   "execution_count": 30,
   "id": "ae96da0b-7e11-40ad-835d-875bd1fd1f77",
   "metadata": {},
   "outputs": [
    {
     "name": "stdout",
     "output_type": "stream",
     "text": [
      "<__main__.Car object at 0x00000202B75D7920>\n",
      "<__main__.Car object at 0x00000202B88EEEA0>\n",
      "Red\n",
      "white\n",
      "Color of car is: Red\n",
      "Color of car is: white\n"
     ]
    }
   ],
   "source": [
    "class Car:\n",
    "    wheels = 4 # property / attribute\n",
    "    color = \"white\"\n",
    "\n",
    "    def getDetails(self): #method\n",
    "        print(\"Color of car is:\", self.color)\n",
    "\n",
    "car1 = Car() #instance / object\n",
    "car2 = Car()\n",
    "print(car1)\n",
    "print(car2)\n",
    "car1.color = \"Red\"\n",
    "print(car1.color)\n",
    "print(car2.color)\n",
    "car1.getDetails()\n",
    "car2.getDetails()"
   ]
  },
  {
   "cell_type": "markdown",
   "id": "5feee04b-8542-41c6-ab21-44dd493c81de",
   "metadata": {},
   "source": [
    "### Constructor of a class"
   ]
  },
  {
   "cell_type": "code",
   "execution_count": 45,
   "id": "db4c3681-3232-4dc9-9e6e-0ce6cd8d207d",
   "metadata": {},
   "outputs": [
    {
     "name": "stdout",
     "output_type": "stream",
     "text": [
      "Black 4\n",
      "Red 6\n"
     ]
    }
   ],
   "source": [
    "class Car:\n",
    "    wheels = 4 # property / attribute\n",
    "\n",
    "    # constructor\n",
    "    def __init__(self, color, seats):\n",
    "        self.color = color\n",
    "        self.seats = seats\n",
    "    \n",
    "    def getDetails(self): #method\n",
    "        print(\"Color of car is:\", self.color)\n",
    "\n",
    "car1 = Car('Black', 4) #instance / object\n",
    "car2 = Car('Red', 6)\n",
    "print(car1.color, car1.seats)\n",
    "print(car2.color, car2.seats)"
   ]
  },
  {
   "cell_type": "code",
   "execution_count": 57,
   "id": "ea883146-3625-4179-897b-19440a54fcaf",
   "metadata": {},
   "outputs": [
    {
     "name": "stdout",
     "output_type": "stream",
     "text": [
      "i7\n",
      "<class '__main__.Computer'>\n"
     ]
    }
   ],
   "source": [
    "class Computer:\n",
    "    def __init__(self, processor, memory):\n",
    "        self.processor = processor\n",
    "        self.memory = memory\n",
    "\n",
    "c1 = Computer(\"i3\", \"4GB\")\n",
    "c2 = Computer(\"i5\", \"8GB\")\n",
    "\n",
    "c1.processor = 'i7'\n",
    "print(c1.processor)\n",
    "print(type(c1))"
   ]
  },
  {
   "cell_type": "code",
   "execution_count": 59,
   "id": "3cc40d6c-6ff2-4f3e-b892-dec7a846b644",
   "metadata": {},
   "outputs": [
    {
     "name": "stdout",
     "output_type": "stream",
     "text": [
      "<class 'int'>\n"
     ]
    }
   ],
   "source": [
    "x = 45\n",
    "print(type(x))"
   ]
  },
  {
   "cell_type": "code",
   "execution_count": 61,
   "id": "aad903ac-f942-47ee-a59e-225d1def1cd3",
   "metadata": {},
   "outputs": [
    {
     "name": "stdout",
     "output_type": "stream",
     "text": [
      "i7\n",
      "<class '__main__.Computer'>\n",
      "48\n",
      "43\n",
      "44\n"
     ]
    }
   ],
   "source": [
    "class Computer:\n",
    "    def __init__(self, processor, memory):\n",
    "        self.processor = processor\n",
    "        self.memory = memory\n",
    "\n",
    "c1 = Computer(\"i3\", \"4GB\")\n",
    "c1 = Computer(\"i5\", \"8GB\")\n",
    "\n",
    "c1.processor = 'i7'\n",
    "print(c1.processor)\n",
    "print(type(c1))\n",
    "\n",
    "import sys\n",
    "print(sys.getsizeof(c1))\n",
    "print(sys.getsizeof(c1.processor))\n",
    "print(sys.getsizeof(c1.memory))"
   ]
  },
  {
   "cell_type": "markdown",
   "id": "0f8c0fad-0639-4fd1-bcb3-d6bdf952cccc",
   "metadata": {},
   "source": [
    "### Setter and Getter"
   ]
  },
  {
   "cell_type": "code",
   "execution_count": 127,
   "id": "03a5d923-be32-4293-8203-2b5796edbfeb",
   "metadata": {},
   "outputs": [
    {
     "name": "stdout",
     "output_type": "stream",
     "text": [
      "4GB\n",
      "Intel i7\n"
     ]
    }
   ],
   "source": [
    "class Computer:\n",
    "    def __init__(self, processor, memory):\n",
    "        if processor == 'i3' or processor == 'i5' or processor == 'i7':\n",
    "            self.processor = processor\n",
    "        self.__memory = memory # private\n",
    "\n",
    "    # setter\n",
    "    def setProcessor(self, newValue):\n",
    "        if newValue == 'i3' or newValue == 'i5' or newValue == 'i7':\n",
    "            self.processor = newValue\n",
    "        else:\n",
    "            raise ValueError(\"this is not a value value\")\n",
    "    \n",
    "    # getter\n",
    "    def getProcessor(self):\n",
    "        return \"Intel \" + self.processor\n",
    "\n",
    "    # getter\n",
    "    def getMemory(self):\n",
    "        return self.__memory\n",
    "\n",
    "c1 = Computer(\"i3\", \"4GB\")\n",
    "c2 = Computer(\"i5\", \"8GB\")\n",
    "# c1.__memory = 'dfdf'\n",
    "print(c1.getMemory())\n",
    "c1.setProcessor('i7')\n",
    "print(c1.getProcessor())\n"
   ]
  },
  {
   "cell_type": "code",
   "execution_count": 153,
   "id": "ec794e41-41c1-49a4-b354-b7b5bdb491d2",
   "metadata": {},
   "outputs": [
    {
     "name": "stdout",
     "output_type": "stream",
     "text": [
      "95\n",
      "95\n",
      "Balance credited:  5\n",
      "95\n"
     ]
    }
   ],
   "source": [
    "import random\n",
    "class FyndBankAccount:\n",
    "\n",
    "    def __init__(self, accountName, balance = 0):\n",
    "        self.accountName = accountName\n",
    "        self.accountNumber = int(random.random() * 1000)\n",
    "        self.__balance = balance\n",
    "\n",
    "    def creditBalance(self, value):\n",
    "        if value < self.__balance:\n",
    "            self.__balance -= value\n",
    "            return value\n",
    "        else:\n",
    "            return 0\n",
    "\n",
    "    def checkBalace(self):\n",
    "        return self.__balance\n",
    "\n",
    "acc1 = FyndBankAccount(\"Rajat Jain\", 100)\n",
    "acc2 = FyndBankAccount(\"Shubham\", 150)\n",
    "\n",
    "print(\"Balance credited: \", acc1.creditBalance(5))\n",
    "print(acc1.checkBalace())"
   ]
  },
  {
   "cell_type": "code",
   "execution_count": 266,
   "id": "b22bbf13-2bcd-4589-9438-9dc49db76e22",
   "metadata": {},
   "outputs": [
    {
     "name": "stdout",
     "output_type": "stream",
     "text": [
      "Color of car is: Red\n",
      "Color of car is: Black\n",
      "False\n",
      "Are two cars equal: False\n"
     ]
    }
   ],
   "source": [
    "class Car:\n",
    "    def __init__(self, color, seats):\n",
    "        self.color = color\n",
    "        self.seats = seats\n",
    "        \n",
    "    def getDetails(self): #method\n",
    "        # print(self)\n",
    "        print(\"Color of car is:\", self.color)\n",
    "\n",
    "    def __eq__(self, other):\n",
    "        return self.color == other.color and self.seats == other.seats\n",
    "\n",
    "    def compare(self, other):\n",
    "        return self.color == other.color and self.seats == other.seats\n",
    "        \n",
    "car1 = Car('Red', 4)\n",
    "car1.getDetails()\n",
    "car2 = Car('Black', 4)\n",
    "\n",
    "car2.getDetails()\n",
    "# Car.getDetails(car2)\n",
    "print(car1 == car2)\n",
    "print(\"Are two cars equal:\", car1.compare(car2))"
   ]
  },
  {
   "cell_type": "code",
   "execution_count": 155,
   "id": "7222f9ba-fe79-4671-b6aa-3b99907009c2",
   "metadata": {},
   "outputs": [
    {
     "name": "stdout",
     "output_type": "stream",
     "text": [
      "Helloworld\n"
     ]
    }
   ],
   "source": [
    "x = \"Hello\"\n",
    "w = \"world\"\n",
    "print(x + w)"
   ]
  },
  {
   "cell_type": "code",
   "execution_count": 157,
   "id": "36a77ecf-1f29-43b4-bd42-e446ccf6a424",
   "metadata": {},
   "outputs": [
    {
     "ename": "TypeError",
     "evalue": "unsupported operand type(s) for +: 'Car' and 'Car'",
     "output_type": "error",
     "traceback": [
      "\u001b[1;31m---------------------------------------------------------------------------\u001b[0m",
      "\u001b[1;31mTypeError\u001b[0m                                 Traceback (most recent call last)",
      "Cell \u001b[1;32mIn[157], line 1\u001b[0m\n\u001b[1;32m----> 1\u001b[0m car1 \u001b[38;5;241m+\u001b[39m car2\n",
      "\u001b[1;31mTypeError\u001b[0m: unsupported operand type(s) for +: 'Car' and 'Car'"
     ]
    }
   ],
   "source": []
  },
  {
   "cell_type": "code",
   "execution_count": 229,
   "id": "5382bc0f-6dd0-47a8-b688-333f7f68f822",
   "metadata": {},
   "outputs": [
    {
     "name": "stdout",
     "output_type": "stream",
     "text": [
      "250\n",
      "0\n",
      "0\n",
      "Account Number: 659, Balance: 0\n",
      "Account Number: 702, Balance: 0\n",
      "Account Number: 303, Balance: 250\n"
     ]
    }
   ],
   "source": [
    "import random\n",
    "class FyndBankAccount:\n",
    "\n",
    "    def __init__(self, accountName, balance = 0):\n",
    "        self.__isOpen = True\n",
    "        self.__accountName = accountName\n",
    "        self.__accountNumber = int(random.random() * 1000)\n",
    "        self.__balance = balance\n",
    "\n",
    "    def deposite(self, value):\n",
    "        if self.__isOpen:\n",
    "            if value > 0:\n",
    "                self.__balance += value\n",
    "        else:\n",
    "            raise TypeError(\"Account is closed\")\n",
    "    \n",
    "    def creditBalance(self, value):\n",
    "        if value < self.__balance and self.__isOpen:\n",
    "            self.__balance -= value\n",
    "            return value\n",
    "        else:\n",
    "            return 0\n",
    "\n",
    "    def checkBalance(self):\n",
    "        return self.__balance\n",
    "\n",
    "    def __add__(self, other):\n",
    "        newBalace =  self.__balance + other.__balance\n",
    "        self.__balance = 0\n",
    "        other.__balance = 0\n",
    "        other.__isOpen = False\n",
    "        self.__isOpen = False\n",
    "        return FyndBankAccount(self.__accountName, newBalace) # returning new object of account\n",
    "\n",
    "    def __str__(self):\n",
    "        return \"Account Number: \" + str(self.__accountNumber) + \", Balance: \" + str(self.__balance)\n",
    "        \n",
    "acc1 = FyndBankAccount(\"Rajat Jain\", 100)\n",
    "acc2 = FyndBankAccount(\"Shubham\", 150)\n",
    "\n",
    "acc3 = acc1 + acc2\n",
    "# acc3 = acc1.__add__(acc2)\n",
    "print(acc3.checkBalance())\n",
    "print(acc1.checkBalance())\n",
    "print(acc2.checkBalance())\n",
    "print(acc1)\n",
    "print(acc2)\n",
    "print(acc3)"
   ]
  },
  {
   "cell_type": "markdown",
   "id": "255fe592-e87e-4e41-9d02-091d87a2c9d0",
   "metadata": {},
   "source": [
    "#### isinstance() function"
   ]
  },
  {
   "cell_type": "code",
   "execution_count": 245,
   "id": "f56a81d8-a901-40c0-87f3-996d090e81e1",
   "metadata": {},
   "outputs": [
    {
     "name": "stdout",
     "output_type": "stream",
     "text": [
      "True\n",
      "True\n"
     ]
    }
   ],
   "source": [
    "print(isinstance(acc1, FyndBankAccount)) \n",
    "print(isinstance('5', str))"
   ]
  },
  {
   "cell_type": "markdown",
   "id": "ec32a835-ab08-415c-8237-5a2ef9a9bc22",
   "metadata": {},
   "source": [
    "## Inheritance"
   ]
  },
  {
   "cell_type": "code",
   "execution_count": 293,
   "id": "a6be2938-111d-4f16-b947-fe341aaff1b4",
   "metadata": {},
   "outputs": [
    {
     "name": "stdout",
     "output_type": "stream",
     "text": [
      "We are in constructor of A\n",
      "We are in constructor of A\n",
      "We are in constructor of B\n",
      "Rajat\n"
     ]
    }
   ],
   "source": [
    "class ClassA:\n",
    "    def __init__(self):\n",
    "        self.name = \"Rajat\"\n",
    "        print(\"We are in constructor of A\")\n",
    "\n",
    "class ClassB(ClassA):\n",
    "    def __init__(self):\n",
    "        ClassA.__init__(self) # calling parent constructor\n",
    "        print(\"We are in constructor of B\")\n",
    "\n",
    "objA1 = ClassA()\n",
    "objB1 = ClassB()\n",
    "print(objB1.name)"
   ]
  },
  {
   "cell_type": "code",
   "execution_count": 309,
   "id": "b33954ae-02d7-4f85-bd66-78d043ebd4ad",
   "metadata": {},
   "outputs": [
    {
     "name": "stdout",
     "output_type": "stream",
     "text": [
      "*** Printing from display of Person class. ***\n",
      "Rajat 123\n",
      "*** Printing from display of Person class. ***\n",
      "Rajat 123\n"
     ]
    }
   ],
   "source": [
    "class Person:\n",
    "    def __init__(self, name, idnumber):\n",
    "        self.name = name\n",
    "        self.idnumber = idnumber\n",
    "\n",
    "    def display(self):\n",
    "        print(\"*** Printing from display of Person class. ***\")\n",
    "        print(self.name, self.idnumber)\n",
    "\n",
    "class Teacher(Person):\n",
    "    def __init__(self, name, idnumber, score, post):\n",
    "        self.score = score\n",
    "        self.post = post\n",
    "        # invoking the constructor of parent (Person) class\n",
    "        Person.__init__(self, name, idnumber)\n",
    "\n",
    "class Student(Person):\n",
    "    def __init__(self, name, idnumber, marks, subject):\n",
    "        self.marks = marks\n",
    "        self.subject = subject\n",
    "        # invoking the constructor of parent (Person) class\n",
    "        Person.__init__(self, name, idnumber)\n",
    "\n",
    "x = Teacher(\"Rajat\", \"123\", 98, 'CS')\n",
    "x.display()\n",
    "y = Student(\"Rajat\", \"123\", 100, 'Math')\n",
    "y.display()"
   ]
  },
  {
   "cell_type": "code",
   "execution_count": 331,
   "id": "0e2e3c0c-8455-4e07-b43f-b7d133f6324e",
   "metadata": {},
   "outputs": [
    {
     "name": "stdout",
     "output_type": "stream",
     "text": [
      "*** Printing from display of Teacher class. ***\n",
      "Rajat 123 98 CS\n",
      "*** Printing from display of Person class. ***\n",
      "Rajat 123\n"
     ]
    }
   ],
   "source": [
    "class Person:\n",
    "    def __init__(self, name, idnumber):\n",
    "        self.name = name\n",
    "        self.idnumber = idnumber\n",
    "\n",
    "    def display(self):\n",
    "        print(\"*** Printing from display of Person class. ***\")\n",
    "        print(self.name, self.idnumber)\n",
    "       \n",
    "class Teacher(Person):\n",
    "    def __init__(self, name, idnumber, score, post):\n",
    "        self.score = score\n",
    "        self.post = post\n",
    "        # invoking the constructor of parent (Person) class\n",
    "        super().__init__(name, idnumber)\n",
    "        # Person.__init__(self, name, idnumber)\n",
    "\n",
    "    def display(self):\n",
    "        print(\"*** Printing from display of Teacher class. ***\")\n",
    "        print(self.name, self.idnumber, self.score, self.post)\n",
    "        super().display() # accessing parent class method\n",
    "        # Person.display(self)\n",
    "        \n",
    "x = Teacher(\"Rajat\", \"123\", 98, 'CS')\n",
    "x.display()\n"
   ]
  },
  {
   "cell_type": "code",
   "execution_count": null,
   "id": "fd247c01-ddfa-4cfa-9cac-93be6f95c593",
   "metadata": {},
   "outputs": [],
   "source": []
  }
 ],
 "metadata": {
  "kernelspec": {
   "display_name": "Python 3 (ipykernel)",
   "language": "python",
   "name": "python3"
  },
  "language_info": {
   "codemirror_mode": {
    "name": "ipython",
    "version": 3
   },
   "file_extension": ".py",
   "mimetype": "text/x-python",
   "name": "python",
   "nbconvert_exporter": "python",
   "pygments_lexer": "ipython3",
   "version": "3.12.4"
  }
 },
 "nbformat": 4,
 "nbformat_minor": 5
}
