{
 "cells": [
  {
   "cell_type": "code",
   "execution_count": 5,
   "id": "df979b8d-7ff3-40f0-bafa-f69c58428c83",
   "metadata": {},
   "outputs": [
    {
     "name": "stdout",
     "output_type": "stream",
     "text": [
      "This is Rahul's ball\n",
      "Rahul said that \"He will be late\"\n"
     ]
    }
   ],
   "source": [
    "s = \"Hello\"\n",
    "s2 = 'Hello'\n",
    "s3 = \"This is Rahul's ball\"\n",
    "s4 = 'Rahul said that \"He will be late\"'\n",
    "print(s3)\n",
    "print(s4)"
   ]
  },
  {
   "cell_type": "code",
   "execution_count": 9,
   "id": "b1cb057c-d043-407e-85d9-acbc4bc1cc2c",
   "metadata": {},
   "outputs": [
    {
     "name": "stdout",
     "output_type": "stream",
     "text": [
      "Rahul said that \"This is Aman's ball.\"\n"
     ]
    }
   ],
   "source": [
    "s5 = '''Rahul said that \"This is Aman's ball.\"'''\n",
    "print(s5)"
   ]
  },
  {
   "cell_type": "code",
   "execution_count": 13,
   "id": "8a20074f-d6a3-429a-bcb8-f4a814fd87fd",
   "metadata": {},
   "outputs": [
    {
     "name": "stdout",
     "output_type": "stream",
     "text": [
      "Rahul said that \"This is Aman's ball.\" \n"
     ]
    }
   ],
   "source": [
    "s5 = \"\"\"Rahul said that \"This is Aman's ball.\" \"\"\"\n",
    "print(s5)"
   ]
  },
  {
   "cell_type": "code",
   "execution_count": 21,
   "id": "94139893-c2a3-4c8f-bb23-31f61ec19d86",
   "metadata": {},
   "outputs": [
    {
     "name": "stdout",
     "output_type": "stream",
     "text": [
      "g\n"
     ]
    }
   ],
   "source": [
    "s = \"This is a string\"\n",
    "# for i in s:\n",
    "#     print(i)\n",
    "print(s[-1])"
   ]
  },
  {
   "cell_type": "code",
   "execution_count": 25,
   "id": "3102d689-44ac-4638-b7d0-d26dc57adeab",
   "metadata": {},
   "outputs": [
    {
     "name": "stdout",
     "output_type": "stream",
     "text": [
      "HelloHelloHello\n"
     ]
    }
   ],
   "source": [
    "s = \"Hello\"\n",
    "print(s * 3)"
   ]
  },
  {
   "cell_type": "code",
   "execution_count": 27,
   "id": "fc8b0a6b-70ff-4a39-bad9-bbd1b2da315a",
   "metadata": {},
   "outputs": [
    {
     "name": "stdout",
     "output_type": "stream",
     "text": [
      "12\n"
     ]
    }
   ],
   "source": [
    "s = \"Hello World!\"\n",
    "print(len(s))"
   ]
  },
  {
   "cell_type": "code",
   "execution_count": 29,
   "id": "6e229c78-e5fc-44b3-a3d3-fb70f2b420b5",
   "metadata": {},
   "outputs": [
    {
     "name": "stdout",
     "output_type": "stream",
     "text": [
      "Hello World\n"
     ]
    }
   ],
   "source": [
    "s1= \"Hello\"\n",
    "s2 = \" World\"\n",
    "print(s1 + s2)"
   ]
  },
  {
   "cell_type": "code",
   "execution_count": 43,
   "id": "0ce77d29-4c91-482b-9575-4281a370fe33",
   "metadata": {},
   "outputs": [
    {
     "name": "stdout",
     "output_type": "stream",
     "text": [
      "['Hello!', 'We', 'are', 'learning', 'Python.']\n",
      "Hello!_We_are_learning_Python.\n"
     ]
    }
   ],
   "source": [
    "s = \"Hello! We are learning Python.\"\n",
    "result = s.split(\" \")\n",
    "print(result)\n",
    "newString = '_'.join(result)\n",
    "print(newString)"
   ]
  },
  {
   "cell_type": "code",
   "execution_count": 51,
   "id": "6770a23e-2352-4b58-b439-2f2a51292e0a",
   "metadata": {},
   "outputs": [
    {
     "name": "stdout",
     "output_type": "stream",
     "text": [
      "This is line 1.\n",
      "This is line 2\n"
     ]
    }
   ],
   "source": [
    "s = \"This is line 1.\\nThis is line 2\"\n",
    "print(s)"
   ]
  },
  {
   "cell_type": "code",
   "execution_count": 53,
   "id": "232b9545-723a-4d99-bae3-1613b4e33068",
   "metadata": {},
   "outputs": [
    {
     "name": "stdout",
     "output_type": "stream",
     "text": [
      "This is line 1.\n",
      "This is line 2\n"
     ]
    }
   ],
   "source": [
    "s = '''This is line 1.\n",
    "This is line 2'''\n",
    "print(s)"
   ]
  },
  {
   "cell_type": "markdown",
   "id": "4810e8d7-f416-408e-a435-1391bf00d18b",
   "metadata": {},
   "source": [
    "### String formatting in Python"
   ]
  },
  {
   "cell_type": "code",
   "execution_count": 55,
   "id": "006fdc8b-e1d7-491a-abd6-e7d6e687d8b3",
   "metadata": {},
   "outputs": [
    {
     "name": "stdout",
     "output_type": "stream",
     "text": [
      "His name is Rajat He likes Badminton\n"
     ]
    }
   ],
   "source": [
    "s1 = \"His name is \"\n",
    "s2 = \"He likes \"\n",
    "print(s1 + \"Rajat\" + \" \" + s2 + \"Badminton\")"
   ]
  },
  {
   "cell_type": "code",
   "execution_count": 70,
   "id": "5df56240-7c65-4c16-a9cb-3d8171d77b88",
   "metadata": {},
   "outputs": [
    {
     "name": "stdout",
     "output_type": "stream",
     "text": [
      "His name is Rajat. He likes Badminton.\n"
     ]
    }
   ],
   "source": [
    "s = \"His name is {}. He likes {}.\"\n",
    "print(s.format(\"Rajat\", \"Badminton\"))"
   ]
  },
  {
   "cell_type": "code",
   "execution_count": 80,
   "id": "da15c46f-e2b0-49f5-9815-3a3cd8b4430f",
   "metadata": {},
   "outputs": [
    {
     "name": "stdout",
     "output_type": "stream",
     "text": [
      "His name is Rajat. Rajat likes Badminton.\n"
     ]
    }
   ],
   "source": [
    "s = \"His name is {0}. {0} likes {1}.\"\n",
    "newString = s.format(\"Rajat\", \"Badminton\")\n",
    "print(newString)"
   ]
  },
  {
   "cell_type": "code",
   "execution_count": 98,
   "id": "d3760dc9-9878-46ca-9901-ad3ee7d18bf7",
   "metadata": {},
   "outputs": [
    {
     "name": "stdout",
     "output_type": "stream",
     "text": [
      "His name is Rajat. Rajat likes Badminton.\n"
     ]
    }
   ],
   "source": [
    "s = \"His name is {name}. {name} likes {sport}.\"\n",
    "newString = s.format(name = \"Rajat\", sport = \"Badminton\")\n",
    "print(newString)"
   ]
  },
  {
   "cell_type": "code",
   "execution_count": 132,
   "id": "7caaa3a1-29a3-4973-8ae0-ed8d6a38ad26",
   "metadata": {},
   "outputs": [
    {
     "name": "stdout",
     "output_type": "stream",
     "text": [
      "Apple rate is Rs. 45.00 per KG\n"
     ]
    }
   ],
   "source": [
    "s = \"Apple rate is Rs. {price:.2f} per KG\"\n",
    "print(s.format(price = 45))"
   ]
  },
  {
   "cell_type": "code",
   "execution_count": 134,
   "id": "ca462b22-9043-4051-a16e-f3818934f71b",
   "metadata": {},
   "outputs": [
    {
     "name": "stdout",
     "output_type": "stream",
     "text": [
      "Apple rate is Rs. 45.47 per KG\n"
     ]
    }
   ],
   "source": [
    "s = \"Apple rate is Rs. {price:.2f} per KG\"\n",
    "print(s.format(price = 45.46546455233412))"
   ]
  },
  {
   "cell_type": "code",
   "execution_count": 148,
   "id": "90d2d4b0-bb52-4205-8ff5-4421af9b4a95",
   "metadata": {},
   "outputs": [
    {
     "name": "stdout",
     "output_type": "stream",
     "text": [
      "Apple rate is Rs.   45.4   per KG\n"
     ]
    }
   ],
   "source": [
    "s = \"Apple rate is Rs. {price:^8} per KG\"\n",
    "print(s.format(price = 45.4))"
   ]
  },
  {
   "cell_type": "code",
   "execution_count": 152,
   "id": "84fafe04-8619-4b75-a12c-46b8adbff46c",
   "metadata": {},
   "outputs": [
    {
     "name": "stdout",
     "output_type": "stream",
     "text": [
      "This is our string: 48\n"
     ]
    }
   ],
   "source": [
    "s = f\"This is our string: {45+ 3}\"\n",
    "print(s)"
   ]
  },
  {
   "cell_type": "code",
   "execution_count": 156,
   "id": "44951325-805d-46fc-95c3-a45756bb793d",
   "metadata": {},
   "outputs": [
    {
     "name": "stdout",
     "output_type": "stream",
     "text": [
      "This is our string: 34.00\n"
     ]
    }
   ],
   "source": [
    "x = 34\n",
    "s = f\"This is our string: {x:.2f}\"\n",
    "print(s)"
   ]
  },
  {
   "cell_type": "code",
   "execution_count": 162,
   "id": "942fde27-e3b6-4394-9da0-e5984de782c7",
   "metadata": {},
   "outputs": [
    {
     "name": "stdout",
     "output_type": "stream",
     "text": [
      "This is our string: HELLO\n"
     ]
    }
   ],
   "source": [
    "x = \"Hello\"\n",
    "s = f\"This is our string: {x.upper()}\"\n",
    "print(s)"
   ]
  },
  {
   "cell_type": "code",
   "execution_count": 166,
   "id": "ed558d3c-60c7-4eae-a93a-2998edaff5e4",
   "metadata": {},
   "outputs": [
    {
     "name": "stdout",
     "output_type": "stream",
     "text": [
      "This is our string: 3300.000000%\n"
     ]
    }
   ],
   "source": [
    "def calculate(x):\n",
    "    return x + 10\n",
    "\n",
    "x = 23\n",
    "s = f\"This is our string: {calculate(x)}\"\n",
    "print(s)"
   ]
  },
  {
   "cell_type": "code",
   "execution_count": 176,
   "id": "4a5561b8-07d5-4d6e-ad8e-7a0d8b6db7f5",
   "metadata": {},
   "outputs": [
    {
     "name": "stdout",
     "output_type": "stream",
     "text": [
      "This is our string: 23.000000%\n"
     ]
    }
   ],
   "source": [
    "x = 0.23\n",
    "s = f\"This is our string: {x:%}\"\n",
    "print(s)"
   ]
  },
  {
   "cell_type": "code",
   "execution_count": 186,
   "id": "36e186fe-3ee4-429a-bc85-57c92a39cc95",
   "metadata": {},
   "outputs": [
    {
     "name": "stdout",
     "output_type": "stream",
     "text": [
      "HEllo \\n dfdsf 39\n"
     ]
    }
   ],
   "source": [
    "s = rf\"HEllo \\n dfdsf {34 + 5}\"\n",
    "\n",
    "print(s)"
   ]
  },
  {
   "cell_type": "code",
   "execution_count": 220,
   "id": "525c900f-8258-4902-bda7-ddd54419982b",
   "metadata": {},
   "outputs": [
    {
     "name": "stdout",
     "output_type": "stream",
     "text": [
      "99999\n"
     ]
    }
   ],
   "source": [
    "x = 100\n",
    "def fun1():\n",
    "    x = \"99999\"\n",
    "    def fun2():\n",
    "        # x = \"1.111111\"\n",
    "        def fun3():\n",
    "            # x = \"HEllo\"\n",
    "            print(x)\n",
    "        fun3()\n",
    "    fun2()\n",
    "fun1()"
   ]
  },
  {
   "cell_type": "markdown",
   "id": "7061f439-c954-40f7-b427-05d813e97515",
   "metadata": {},
   "source": [
    "## File Handling in Python"
   ]
  },
  {
   "cell_type": "code",
   "execution_count": 245,
   "id": "2ebba782-f5ab-4ab3-bda6-cd4ebba5d24a",
   "metadata": {},
   "outputs": [
    {
     "name": "stdout",
     "output_type": "stream",
     "text": [
      "<_io.TextIOWrapper name='demo.txt' mode='r' encoding='cp1252'>\n",
      "Hello. We \n",
      "are learni\n",
      "ng Python.\n",
      "Welcome to this class.\n"
     ]
    }
   ],
   "source": [
    "f = open('demo.txt')\n",
    "print(f)\n",
    "print(f.read(10))\n",
    "print(f.read(10))\n",
    "print(f.read())"
   ]
  },
  {
   "cell_type": "code",
   "execution_count": 243,
   "id": "c57a5f9d-1686-4db2-8fb9-0941e745ce23",
   "metadata": {},
   "outputs": [
    {
     "name": "stdout",
     "output_type": "stream",
     "text": [
      "['Hello. We are learning Python.\\n', 'Welcome to this class.']\n"
     ]
    }
   ],
   "source": [
    "f1 = open('demo.txt', \"r\")\n",
    "print(f1.readlines())"
   ]
  },
  {
   "cell_type": "code",
   "execution_count": 280,
   "id": "6e71cb3c-6bff-4154-98c3-964b3f8d7a97",
   "metadata": {},
   "outputs": [
    {
     "data": {
      "text/plain": [
       "'Hello. We are learning Python.\\nWelcome to this class.\\nThis is line 3\\n\\n\\n\\n\\n\\nThis is line 3\\nThis is line 3\\nThis is line 3'"
      ]
     },
     "execution_count": 280,
     "metadata": {},
     "output_type": "execute_result"
    }
   ],
   "source": [
    "f = open('demo.txt', 'a')\n",
    "f.write(\"\\nThis is line 3\")\n",
    "f.close()\n",
    "\n",
    "f = open('demo.txt', 'r')\n",
    "f.read()"
   ]
  },
  {
   "cell_type": "code",
   "execution_count": 261,
   "id": "4fdd4f0c-80b3-4343-a2b5-3a240d32d31f",
   "metadata": {},
   "outputs": [],
   "source": [
    "f2 = open('demo2.txt', 'a')"
   ]
  },
  {
   "cell_type": "code",
   "execution_count": 284,
   "id": "3890ee8b-c011-4036-bd49-b454c834b8d0",
   "metadata": {},
   "outputs": [
    {
     "data": {
      "text/plain": [
       "15"
      ]
     },
     "execution_count": 284,
     "metadata": {},
     "output_type": "execute_result"
    }
   ],
   "source": [
    "x = []\n",
    "\n",
    "f1 = open('demo.txt', 'a')\n",
    "f2 = open('demo.txt', 'a')\n",
    "f1.write(\"\\nThis is line 3\")\n",
    "f2.write(\"\\nThis is line 4\")"
   ]
  },
  {
   "cell_type": "code",
   "execution_count": 288,
   "id": "fe8ae596-6249-48ec-ae35-47b47851025f",
   "metadata": {},
   "outputs": [],
   "source": [
    "f2.close()"
   ]
  },
  {
   "cell_type": "code",
   "execution_count": 290,
   "id": "90f8e621-11e6-46c9-b4b1-352e4e4470a4",
   "metadata": {},
   "outputs": [],
   "source": [
    "f1.close()"
   ]
  },
  {
   "cell_type": "markdown",
   "id": "3e375ef7-6172-4257-8901-2bbb56acb2df",
   "metadata": {},
   "source": [
    "### Write mode"
   ]
  },
  {
   "cell_type": "code",
   "execution_count": 317,
   "id": "49a38d34-5b71-47c0-9909-ab49939c5c57",
   "metadata": {},
   "outputs": [],
   "source": [
    "f1 = open('demo2.txt', 'w')\n",
    "f1.write(\"Hello world! \\n This is python class\")\n",
    "\n",
    "f1.close()"
   ]
  },
  {
   "cell_type": "code",
   "execution_count": 319,
   "id": "20434188-4ec9-4eca-9842-2a96052ba6d0",
   "metadata": {},
   "outputs": [],
   "source": [
    "# auto close file\n",
    "with open('demo2.txt', 'w') as f:\n",
    "    f.write(\"Hello world 2! \\n This is python class\")\n"
   ]
  },
  {
   "cell_type": "code",
   "execution_count": 347,
   "id": "3a9e0fde-5c26-49ef-a8a9-600f52c62865",
   "metadata": {},
   "outputs": [
    {
     "name": "stdout",
     "output_type": "stream",
     "text": [
      "Hello. We are learning Python.\n",
      "\n",
      "32\n",
      "are learning Python.\n",
      "\n"
     ]
    }
   ],
   "source": [
    "with open('demo.txt') as f:\n",
    "    print(f.readline())\n",
    "    # print(f.read(5))\n",
    "    print(f.tell())\n",
    "    f.seek(10)\n",
    "    print(f.readline())\n"
   ]
  },
  {
   "cell_type": "code",
   "execution_count": 375,
   "id": "8776152e-8235-40e9-9026-48ba0f270299",
   "metadata": {},
   "outputs": [
    {
     "name": "stdout",
     "output_type": "stream",
     "text": [
      "['line 1\\n', 'line 2\\n', 'line 3']\n"
     ]
    }
   ],
   "source": [
    "with open('demo.txt', 'r') as f:\n",
    "    x = f.readlines()\n",
    "\n",
    "print(x)\n",
    "x[1] = \"Hello world\\n\"\n",
    "with open('demo.txt', 'w') as f:\n",
    "    f.writelines(x)\n"
   ]
  },
  {
   "cell_type": "markdown",
   "id": "1a5acfc7-6baf-4cbe-819a-3dbfb664c6ea",
   "metadata": {},
   "source": [
    "### CSV Reading"
   ]
  },
  {
   "cell_type": "code",
   "execution_count": 392,
   "id": "6232c56c-d058-4d32-b2b7-cd4a70462946",
   "metadata": {},
   "outputs": [
    {
     "name": "stdout",
     "output_type": "stream",
     "text": [
      "['ID', 'Name', 'Age', 'City']\n",
      "['1', 'John Doe', '28', 'New York']\n",
      "['2', 'Jane Smith', '34', 'Los Angeles']\n",
      "['3', 'Emily Davis', '22', 'Chicago']\n",
      "['4', 'Michael Brown', '45', 'Houston']\n",
      "['5', 'Jessica Wilson', '30', 'Phoenix']\n",
      "['6', 'Daniel Martinez', '27', 'Philadelphia']\n",
      "['7', 'Laura Garcia', '33', 'San Antonio']\n",
      "['8', 'David Anderson', '40', 'San Diego']\n",
      "['9', 'Sarah Lee', '29', 'Dallas']\n",
      "['10', 'James Taylor', '35', 'San Jose']\n"
     ]
    }
   ],
   "source": [
    "import csv\n",
    "with open('abc.csv') as csvfile:\n",
    "    csvreader = csv.reader(csvfile)\n",
    "    for i in csvreader:\n",
    "        print(i)\n"
   ]
  },
  {
   "cell_type": "code",
   "execution_count": 410,
   "id": "ad6f9efd-a271-4296-8a9c-470e501c001f",
   "metadata": {},
   "outputs": [
    {
     "name": "stdout",
     "output_type": "stream",
     "text": [
      "John Doe\n",
      "Jane Smith\n",
      "Emily Davis\n",
      "Michael Brown\n",
      "Jessica Wilson\n",
      "Daniel Martinez\n",
      "Laura Garcia\n",
      "David Anderson\n",
      "Sarah Lee\n",
      "James Taylor\n"
     ]
    }
   ],
   "source": [
    "import csv\n",
    "with open('abc.txt', 'r') as csvfile:\n",
    "    csvreader = csv.DictReader(csvfile)\n",
    "    for i in csvreader:\n",
    "        print(i['Name'])"
   ]
  },
  {
   "cell_type": "code",
   "execution_count": null,
   "id": "d6802e82-5206-4de2-a64f-981d3dcc34cb",
   "metadata": {},
   "outputs": [],
   "source": []
  }
 ],
 "metadata": {
  "kernelspec": {
   "display_name": "Python 3 (ipykernel)",
   "language": "python",
   "name": "python3"
  },
  "language_info": {
   "codemirror_mode": {
    "name": "ipython",
    "version": 3
   },
   "file_extension": ".py",
   "mimetype": "text/x-python",
   "name": "python",
   "nbconvert_exporter": "python",
   "pygments_lexer": "ipython3",
   "version": "3.12.4"
  }
 },
 "nbformat": 4,
 "nbformat_minor": 5
}
